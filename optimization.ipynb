{
 "cells": [
  {
   "cell_type": "markdown",
   "metadata": {},
   "source": [
    "# Creation\n",
    "Algorithm: Given an operator $\\rho_{i,j}\\left|i\\right>\\left<j\\right|$ with indices $i,j\\in\\mathbb Z_d^n$:\n",
    "(<mark>todo: update max bond dimension to shrink after middle index reached</mark>)\n",
    "1. Reshape: $\\rho_{i,j}= P_{(i_1\\cdots i_n),(j_1\\cdots j_n)}$ has dimensions $d^n\\times d^n$\n",
    "2. Permute: $P_{(i_1\\cdots i_n),(j_1\\cdots j_n)}= T_{(i_1j_1),\\cdots ,(i_nj_n)}$ has dimensions $d^2\\times\\cdots \\times d^2$ ($n$ times)\n",
    "3. Collect: $T_{(i_1j_1),(i_2j_2\\cdots i_nj_n)}$ has dimensions $d^2\\times d^{2(n-1)}$\n",
    "4. First site:\n",
    "\t- SVD: $T_{(i_1j_1),(i_2j_2\\cdots i_nj_n)}=\\sum_{\\alpha\\in \\mathbb Z_{D_1}} U_{(i_1j_1),\\alpha}S_{\\alpha,\\alpha} (V^\\dagger)_{\\alpha,(i_2j_2\\cdots i_nj_n)}$, where $D_1\\in \\{1,\\cdots,d^2\\}$ is determined by truncation \n",
    "\t- Save: $M^{(1)}_{\\alpha,u,\\beta}=\\delta_{\\alpha,1}U_{u,\\beta}$ has dimensions $1\\times d^2\\times D_1$\n",
    "\t- Update: $T^{(1)}_{(\\alpha i_2j_2),(i_3j_3\\cdots i_nj_n)}=S_{\\alpha,\\alpha}(V^\\dagger)_{\\alpha,(i_2j_2\\cdots i_nj_n)}$ has dimensions $D_1 d^2\\times d^{2(n-2)}$\n",
    "5. Inner sites: For $k\\in \\{2,\\cdots,n-1\\}$:\n",
    "\t- SVD: $T^{(k)}_{(\\alpha i_kj_k),(i_{k+1}j_{k+1}\\cdots i_nj_n)}=\\sum_{\\beta\\in \\mathbb Z_{D_k}} U_{(\\alpha i_kj_k),\\beta}S_{\\beta,\\beta} (V^\\dagger)_{\\beta,(i_{k+1}j_{k+1}\\cdots i_nj_n)}$, where $D_k\\in\\{1,\\cdots,D_{k-1}d^2\\}$\n",
    "\t- Save: $M^{(k)}_{\\alpha,u,\\beta}=U_{(\\alpha u),\\beta}$ has dimensions $D_{k-1}\\times d^2\\times D_k$\n",
    "\t- Update: $T_{(\\alpha i_{k+1}j_{k+1}),(i_{k+2}j_{k+2}\\cdots i_nj_n)}=S_{\\alpha,\\alpha} (V^\\dagger)_{\\alpha,(i_{k+1}j_{k+1}\\cdots i_nj_n)}$ has dimensions $D_k d^2\\times d^{2(n-k-1)}$\n",
    "6. Last site:\n",
    "\t- Save: $M^{(n)}_{\\alpha,u,\\beta}=T^{(n-1)}_{(\\alpha,u),\\beta}$ has dimensions $D_{n-1}\\times d^2\\times 1$ (note that $T^{(n-1)}_{(\\alpha i_nj_n),\\beta}$ has dimensions $D_{n-1} d^2\\times 1$)\n",
    "7. Return $\\{M^{(k)}\\}_{k\\in\\mathbb Z_n}$"
   ]
  },
  {
   "cell_type": "code",
   "execution_count": 1,
   "metadata": {},
   "outputs": [],
   "source": [
    "import numpy as np\n",
    "from numpy import linalg as la\n",
    "\n",
    "def state_to_local_tensor(state, n, d):\n",
    "    tensor_shape = tuple([d]*(2*n))\n",
    "    tensor = state.reshape(tensor_shape)\n",
    "    return tensor_to_local_tensor(tensor, n, d)\n",
    "    \n",
    "def tensor_to_local_tensor(tensor, n, d):\n",
    "    local_axes = [int(i/2) if i%2 == 0 else int(n + (i/2)) for i in range(2*n)]\n",
    "    original_axes = [i for i in range(2*n)]\n",
    "    return np.moveaxis(tensor, original_axes, local_axes)\n",
    "\n",
    "# Given a density matrix, return its matrix product operator representation\n",
    "# Indices are stored in the following format: (bond,phys,bond)\n",
    "# Usage: state_to_mpo(state, n, d, verbose) or state_to_mpo(state, n, d, verbose, max_bd). verbose defaults to False if not given.\n",
    "def state_to_mpo(state, n, d, verbose=False, **kwargs):\n",
    "    # If not given a maximum bond dimension, set it to the maximum possible - d^(4n) (TODO)?\n",
    "    #TODO: add a truncation magnitude cuttoff instead of just max_bd\n",
    "    max_bd = kwargs.get('max_bd', d**(4*n))\n",
    "    \n",
    "    # Local tensor representation of state                                                                    \n",
    "    T = state_to_local_tensor(state, n, d)\n",
    "    \n",
    "    # Preparing for first SVD: Constructing environment tensor for first site\n",
    "    d2 = d**2\n",
    "    T = T.reshape((d2,d2**(n-1)))\n",
    "    if verbose:\n",
    "        print(0, \"Initial T:\\t\\t\\t\\t\", T.shape)\n",
    "\n",
    "    # First site\n",
    "    mpo = [0]*n\n",
    "    U, S, Vt = la.svd(T, full_matrices = False)\n",
    "    U = U[:,:max_bd]\n",
    "    S = S[:max_bd]\n",
    "    Vt = Vt[:max_bd,:]\n",
    "    mpo[0] = U.reshape((1,U.shape[0],U.shape[1]))\n",
    "    T = np.dot(np.diag(S),Vt).reshape(S.size*d2,int(Vt.shape[1]/d2))\n",
    "    if verbose:\n",
    "        print(1, U.shape, Vt.shape, \"\\t->\", mpo[0].shape, \"\\t\", T.shape, \"\\t\", S.size)\n",
    "\n",
    "    # Interior sites\n",
    "    for i in range(1,n-1):\n",
    "            U, S, Vt = la.svd(T, full_matrices = False)\n",
    "            U = U[:,:max_bd]\n",
    "            S = S[:max_bd]\n",
    "            Vt = Vt[:max_bd,:]\n",
    "            mpo[i] = U.reshape((int(U.shape[0]/d2),d2,U.shape[1]))\n",
    "            T = np.dot(np.diag(S),Vt).reshape((S.size*d2,int(Vt.shape[1]/d2)))\n",
    "            if verbose:\n",
    "                print(i+1, U.shape, Vt.shape, \"\\t->\", mpo[i].shape, \"\\t\", T.shape, \"\\t\", S.size)\n",
    "\n",
    "    # Last site\n",
    "    mpo[n-1] = np.dot(np.diag(S),Vt).reshape((S.size, Vt.shape[0], 1))\n",
    "    if verbose:\n",
    "        print(n, \"Final Matrix:\\t\\t  \", mpo[n-1].shape)\n",
    "\n",
    "    return mpo"
   ]
  },
  {
   "cell_type": "markdown",
   "metadata": {},
   "source": [
    "We can run this algorithm on a randomly generated density matrix:"
   ]
  },
  {
   "cell_type": "code",
   "execution_count": 2,
   "metadata": {},
   "outputs": [],
   "source": [
    "# Generate a mixed state of randomly sampled pure qudit states                                                 \n",
    "# d - onsite hilbert space dimension\n",
    "# N - number of sites\n",
    "# M - number of pure states used\n",
    "def random_mixed_state(N,d=3,M=10):\n",
    "        states = [random_state(N,d) for i in range(M)]\n",
    "        weights = [np.random.uniform(low=0.0,high=1.0) for i in range(M)]\n",
    "        total_weight = sum(weights)\n",
    "        state = np.zeros((d**N,d**N))\n",
    "        for i in range(M):\n",
    "                state = state + (weights[i]/total_weight) * np.outer(states[i],states[i].conj())\n",
    "        return state\n",
    "\n",
    "# Generate a random qudit state\n",
    "# d - onsite hilbert space dimension\n",
    "# N - number of sites\n",
    "def random_state(N,d=3):\n",
    "        normals = [np.random.standard_normal(size=d**N) for i in range(2)]\n",
    "        state = np.array([normals[0][i] + 1j * normals[1][i] for i in range(d**N)])\n",
    "        state /= la.norm(state)\n",
    "        return state"
   ]
  },
  {
   "cell_type": "markdown",
   "metadata": {},
   "source": [
    "I should expect to see the following dimensions of my matrices and local tensor after performing each SVD for $d=3,n=5$: The density matrix has dimensions $3^5\\times 3^5$ and the environment tensor $T$ starts out with dimensions $9\\times 9^4$. After each step, we should expect $D_k=9^k$ <mark>(TODO: update this)</mark>"
   ]
  },
  {
   "cell_type": "code",
   "execution_count": 3,
   "metadata": {},
   "outputs": [
    {
     "name": "stdout",
     "output_type": "stream",
     "text": [
      "0 Initial T:\t\t\t\t (9, 9)\n",
      "1 (9, 9) (9, 9) \t-> (1, 9, 9) \t (81, 1) \t 9\n",
      "2 Final Matrix:\t\t   (9, 9, 1)\n"
     ]
    }
   ],
   "source": [
    "d = 3\n",
    "n = 2\n",
    "rho = random_mixed_state(n,d)\n",
    "m_rho = state_to_mpo(rho,n,d,verbose=True)"
   ]
  },
  {
   "cell_type": "markdown",
   "metadata": {},
   "source": [
    "To check that the MPO procedure returned an operator corresponding to the same operator which we input into the algorithm, we can use numpy's unravel_index method to compute each matrix element and check:"
   ]
  },
  {
   "cell_type": "code",
   "execution_count": 4,
   "metadata": {},
   "outputs": [
    {
     "name": "stdout",
     "output_type": "stream",
     "text": [
      "True\n"
     ]
    }
   ],
   "source": [
    "def check_coefficients(mpo, state):\n",
    "    # Calculate tensor of MPO coefficients\n",
    "    mpo_tensor_shape = tuple([d**2]*n)\n",
    "    mpo_tensor = np.zeros(mpo_tensor_shape, dtype=np.complex128)\n",
    "    for u in range(d**(2*n)):\n",
    "        # Calculate coefficient\n",
    "        index = np.unravel_index(u,mpo_tensor_shape)\n",
    "        coefficient = np.identity(1,dtype=np.complex128)\n",
    "        for i in range(n):\n",
    "            coefficient = np.dot(coefficient, mpo[i][:,index[i],:])\n",
    "        mpo_tensor[index] = coefficient[0][0]\n",
    "        \n",
    "    # Reshape into state\n",
    "    state_tensor_shape = tuple([d]*(2*n))\n",
    "    mpo_state = mpo_tensor.reshape(state_tensor_shape)\n",
    "    tensor_axes = [i for i in range(2*n)]\n",
    "    T_axes = [int(i/2) if i%2 == 0 else int(n + (i/2)) for i in range(2*n)]\n",
    "    mpo_state = np.moveaxis(mpo_state, T_axes, tensor_axes)\n",
    "    mpo_state = mpo_state.reshape((d**n,d**n))\n",
    "    print(np.allclose(mpo_state, state))\n",
    "    \n",
    "check_coefficients(m_rho, rho)"
   ]
  },
  {
   "cell_type": "markdown",
   "metadata": {},
   "source": [
    "# Inner products\n",
    "The Frobenius norm overlap between two operators is defined to be\n",
    "$$\\left<\\rho|\\sigma\\right>=\\mathrm{Tr}\\left[\\rho^\\dagger\\sigma\\right]=\\sum_u \\left(\\prod_i \\rho^{(i)u_i}\\right)^*\\left(\\prod_j \\sigma^{(i)u_j}\\right),$$\n",
    "where $*$ denotes element-wise complex conjugation. This can be calculated in a linear number of computations in $d$ and $n$ and cubic in $D^\\sigma$ and $D^\\rho$ like so:\n",
    "1. $M_{\\alpha\\beta} = \\sum_{u\\in \\mathbb Z_d}(\\rho^{(1)}_{1u\\alpha})^*\\sigma^{(1)}_{1u\\beta}$\n",
    "2. For $k\\in\\{2,\\cdots,n\\}:$\n",
    "    - $M_{\\alpha\\beta}\\leftarrow \\sum_{u\\in \\mathbb Z_d,\\mu\\in\\mathbb Z_{D^\\rho_k},\\mu\\in\\mathbb Z_{D^\\sigma_k}}(\\rho^{(k)}_{\\mu u \\alpha})^*M_{\\mu \\nu}\\sigma^{(k)}_{\\nu u \\beta}$\n",
    "3. Return $M_{11}$\n",
    "\n",
    "Note that the matrix elements are stored like so: $\\rho^{(k)u}_{\\alpha\\beta}=\\rho^{(k)}_{\\alpha u \\beta}$, and $D^\\rho_k$ denotes the bond dimension of $\\rho^{(k)}$ at site $k$ "
   ]
  },
  {
   "cell_type": "code",
   "execution_count": 5,
   "metadata": {
    "scrolled": true
   },
   "outputs": [
    {
     "name": "stdout",
     "output_type": "stream",
     "text": [
      "True\n"
     ]
    }
   ],
   "source": [
    "# Frobenius inner product tr[A^\\dagger B] between two states A and B represented by mpos \n",
    "# norm: Frobenius normalization of local basis elements used in MPO representation (norm = Tr[A_u^\\dagger A_v])\n",
    "# Assumptions:\n",
    "#       len(m1) = len(m2)                                       [same length]\n",
    "#       m1[i].shape = m2[i].shape = (bond,phys,bond)            [same bond and phys dim at each site]\n",
    "#       m1[0].shape = (1,_,_) and m1[-1].shape = (_,_,1)        [closed boundary conditions]\n",
    "def inner_prod(m1, m2, norm=1):\n",
    "        # Extract length, phys dim, and first site bond dim\n",
    "        n = len(m1)\n",
    "\n",
    "        #print(m1[0][0].shape, m2[0][0].shape)\n",
    "        # First site\n",
    "        M = np.tensordot(m1[0][0].conj(),m2[0][0],axes=([0,0]))      # sum over physical indices (grab the first and only matrix due to fixed bdry cond.)\n",
    "\n",
    "        #print(0,m1[0].shape,M.shape)\n",
    "        # Rest of contraction\n",
    "        for i in range(1,n):\n",
    "                M = np.tensordot(M,m1[i].conj(),axes=([0,0]))\n",
    "                M = np.tensordot(M,m2[i],axes=([0,1],[0,1]))\n",
    "                #print(i,m1[i].shape, M.shape)\n",
    "        return M[0][0]*norm\n",
    "print(np.absolute(inner_prod(m_rho,m_rho) - np.trace(np.dot(rho.conj().T,rho))) < 1e-14)"
   ]
  },
  {
   "cell_type": "markdown",
   "metadata": {},
   "source": [
    "## Moving to phase space\n",
    "\n",
    "We formed our MPO like so: $\\rho_{ij}\\left|i\\right>\\left<j\\right|=\\rho_{(i_1\\cdots i_n)(j_1\\cdots j_n)}(\\left|i_1\\right>\\otimes \\cdots \\otimes \\left|i_n\\right>)(\\left<j_1\\right|\\otimes \\cdots \\otimes \\left<j_n\\right|)=\\sum_{i_kj_k\\alpha _k}\\rho^{(1)}_{\\alpha_0(i_1j_1)\\alpha_1}\\left|i_1\\right>\\left<j_1\\right|\\otimes\\cdots\\otimes \\rho^{(n)}_{\\alpha_{n-1}(i_nj_n)\\alpha_n}\\left|i_n\\right>\\left<j_n\\right|$. This gave us a matrix product operator of the form $\\sum_{u,\\alpha} \\otimes_k \\rho^{(k)u_k}_{\\alpha_k\\alpha_{k+1}}C_{u_k}$, where $C_u=C_{du_1+u_2}=\\left|u_1\\right>\\left<u_2\\right|$. We want to represent it in phase space, i.e. we want to find the MPO $\\tilde{\\rho}$ satisfying $\\sum_{u,\\alpha} \\otimes_k \\rho^{(k)u_k}_{\\alpha_k\\alpha_{k+1}} C_{u_k}=\\sum_{u,\\alpha} \\otimes_k \\tilde{\\rho}^{(k)u_k}_{\\alpha_k\\alpha_{k+1}} A_{u_k}$. Taking the Frobenius inner product with $A_v$ on both sides of this equation shows that the following choice works:\n",
    "\n",
    "$$\\tilde{\\rho}^{(k)u}_{\\alpha\\beta}=d^{-1}\\sum_v\\rho^{(k)v}_{\\alpha\\beta}\\mathrm{Tr}\\left[C_uA_v\\right]=d^{-1}\\sum_v\\rho^{(k)v}_{\\alpha\\beta}(A_v)_{u_1,u_2}$$\n",
    "\n",
    "The last equality arises because $\\mathrm{Tr}[C_u A_v]=\\sum_k \\left<k|u_1\\right>\\left<u_2|A_v |k\\right>=\\left<u_1|A_v|u_2\\right>=(A_v)_{u_1,u_2}$, so the change-of-basis coefficients are proportional to the matrix elements of the phase space operators. \n",
    "\n",
    "Since $\\mathrm{Tr}[A_uA_v]=d\\delta_{u,v}$, the phase space basis is not normalized. This means that we pick up a Hilbert space factor when computing inner products:\n",
    "\n",
    "$$\\mathrm{Tr}[\\rho^\\dagger \\sigma]=d^n\\left<\\rho|\\sigma\\right>_A,$$\n",
    "\n",
    "where $\\left<\\rho|\\sigma\\right>_A$ denotes the contraction of the matrix product representations of the states $\\rho$ and $\\sigma$ in the phase space basis $A_u$."
   ]
  },
  {
   "cell_type": "code",
   "execution_count": 6,
   "metadata": {},
   "outputs": [],
   "source": [
    "import cmath\n",
    "import math\n",
    "\n",
    "d = 3   # qutrit\n",
    "\n",
    "# qutrit X and Z matrices\n",
    "omega = cmath.exp(cmath.pi*2j/d)\n",
    "X = np.array([[0,0,1],[1,0,0],[0,1,0]])\n",
    "Z = np.array([[1,0,0],[0,omega,0],[0,0,omega**2]])\n",
    "\n",
    "# 1-qudit pauli matrices\n",
    "T = np.array([[omega**(-2*a*b)*np.dot(la.matrix_power(Z,a),la.matrix_power(X,b)) for b in range(d)] for a in range(d)])\n",
    "\n",
    "# 1-qudit phase space operators (TODO: change the sum below to a numpy sum)\n",
    "A_0 = (1./d)*sum([sum([T[a,b] for b in range(d)]) for a in range(d)])\n",
    "A = np.zeros((d**2,d,d), dtype=np.complex128)\n",
    "for u in range(d**2):\n",
    "    index = np.unravel_index(u,(d,d))\n",
    "    A[u] = np.dot(T[index],np.dot(A_0,np.conj(T[index].T)))\n",
    "ps_coefficients = 1./d*A.reshape((d**2,d**2))\n",
    "\n",
    "# Computational basis C_u = |u_1><u_2|\n",
    "#comp_basis = np.zeros((d,d,d,d), dtype=np.complex128)\n",
    "#for i in range(d):\n",
    "#    for j in range(d):\n",
    "#        comp_basis[i,j,i,j] = 1\n",
    "#comp_basis = comp_basis.reshape((d**2,d,d))\n",
    "\n",
    "# Change of basis coefficients Tr[A_u^\\dagger C_u] = Tr[A_u C_u]\n",
    "#ps_coefficients = np.zeros((d**2,d**2),dtype=np.complex128)\n",
    "#for i in range(d**2):\n",
    "#    for j in range(d**2):\n",
    "#        ps_coefficients[i,j] = 1./d*np.trace(np.dot(A[i],comp_basis[j]))\n",
    "\n",
    "# change of basis coefficients\n",
    "# TODO: change this to a numpy array\n",
    "#ps_coefficients = [[np.trace(np.dot(A[u],comp_basis[v])) for u in range(d**2)] for v in range(d**2)]\n",
    "\n",
    "#TODO: get rid of for loops\n",
    "def basis_change(mpo, coefficients):\n",
    "    n = len(mpo)\n",
    "    _,d,_ = mpo[0].shape\n",
    "    \n",
    "    res = [None]*n\n",
    "    for k in range(n):\n",
    "        res[k] = np.zeros(mpo[k].shape, dtype=np.complex128)\n",
    "        temp = np.tensordot(mpo[k],coefficients,axes=([1,1])) # sum over physical indices\n",
    "        temp = np.moveaxis(temp, [0,1,2], [0,2,1])\n",
    "        res[k] = temp\n",
    "    return res"
   ]
  },
  {
   "cell_type": "markdown",
   "metadata": {},
   "source": [
    "Some checks to make sure that we did the change of basis correctly:"
   ]
  },
  {
   "cell_type": "code",
   "execution_count": 7,
   "metadata": {},
   "outputs": [],
   "source": [
    "# Check properties of phase space basis: Hermitian, Tr[A_uA_v] = d*delta_uv, Tr[A_u] = 1\n",
    "for i in range(d**2):\n",
    "    if np.absolute(np.trace(A[i]) - 1.) > 1e-14:\n",
    "        print(i, \"Trace error: expected 1, got \" + repr(np.trace(A[i])))\n",
    "    for j in range(d**2):\n",
    "        if abs(np.trace(np.dot(A[i],A[j])).imag) > 1e-14:\n",
    "            print(i,j,\"complex trace error!\")\n",
    "        if not(np.allclose(A[i].conj().T,A[i])):\n",
    "            print(i,j,\"hermiticity error!\")\n",
    "        if i == j:\n",
    "            if abs(np.trace(np.dot(A[i],A[j])).real - d) > 1e-14:\n",
    "                print(i,j,\"normalization error!\")\n",
    "        else:\n",
    "            if abs(np.trace(np.dot(A[i],A[j])).real) > 1e-14:\n",
    "                print(i,j,\"normalization error!\")\n",
    "\n",
    "# Check that inner product in new basis agrees with old basis\n",
    "m_rho_ps = basis_change(m_rho, ps_coefficients)\n",
    "if (abs(inner_prod(m_rho_ps,m_rho_ps,norm=d**n).imag) > 1e-12):\n",
    "    print(\"Inner product in new basis is imaginary\")\n",
    "if (abs(inner_prod(m_rho_ps,m_rho_ps,norm=d**n).real - inner_prod(m_rho,m_rho).real) > 1e-12):\n",
    "    print(\"Inner product in new basis does not match\")"
   ]
  },
  {
   "cell_type": "markdown",
   "metadata": {},
   "source": [
    "We can now calculate the Wigner function and estimations of magic:"
   ]
  },
  {
   "cell_type": "code",
   "execution_count": 8,
   "metadata": {},
   "outputs": [],
   "source": [
    "# n-dimensional phase space operators:\n",
    "A_n = np.zeros((d**(2*n),d**n,d**n),dtype=np.complex128)\n",
    "tensor_shape = tuple([d**2]*n)\n",
    "for u in range(d**(2*n)):\n",
    "    index = np.unravel_index(u,tensor_shape)\n",
    "    temp = np.identity(1,dtype=np.complex128)\n",
    "    for i in range(n):\n",
    "        temp = np.kron(temp, A[index[i]])\n",
    "    A_n[u] = temp\n",
    "    \n",
    "# Check properties of n-qudit phase space basis: Hermitian, Tr[A_uA_v] = d^n*delta_uv, Tr[A_u] = 1\n",
    "for i in range(d**(2*n)):\n",
    "    if np.absolute(np.trace(A_n[i]) - 1.) > 1e-14:\n",
    "        print(i, \"Trace error: expected 1, got \" + repr(np.trace(A_n[i])))\n",
    "    for j in range(d**(2*n)):\n",
    "        if abs(np.trace(np.dot(A_n[i],A_n[j])).imag) > 1e-14:\n",
    "            print(i,j,\"complex trace error!\")\n",
    "        if not(np.allclose(A_n[i].conj().T,A_n[i])):\n",
    "            print(i,j,\"hermiticity error!\")\n",
    "        if i == j:\n",
    "            if abs(np.trace(np.dot(A_n[i],A_n[j])).real - (d**n)) > 1e-14:\n",
    "                print(i,j,\"normalization error!\")\n",
    "        else:\n",
    "            if abs(np.trace(np.dot(A_n[i],A_n[j])).real) > 1e-14:\n",
    "                print(i,j,\"normalization error!\")\n",
    "    \n",
    "# Wigner function, magic estimates\n",
    "def wigner(state, n, d):\n",
    "    W = np.zeros((d**(2*n)), dtype=np.complex128)\n",
    "    M = 0. #old magic quantifier (\"mana\" in arxiv:1307.7171)\n",
    "    N = 0. #new magic quantifier\n",
    "    for u in range(d**(2*n)):\n",
    "        W[u] = 1./(d**n)*np.trace(np.dot(state,A_n[u]))\n",
    "        if W[u].real < 0:\n",
    "            M -= W[u].real\n",
    "            N += (W[u].real)**2\n",
    "    N = math.sqrt(N)\n",
    "    return W, M, N"
   ]
  },
  {
   "cell_type": "markdown",
   "metadata": {},
   "source": [
    "We now generate a random hermitian operator (not necessarily normalized) $\\sigma$ whose matrix product operator representation in the phase space basis has only non-negative elements. We then vary $\\sigma$ to reduce the squared distance\n",
    "\n",
    "$$d(\\rho,\\sigma)^2=\\mathrm{Tr}[(\\rho-\\sigma)^\\dagger(\\rho-\\sigma)]=\\mathrm{Tr}[\\rho^\\dagger\\rho]-\\mathrm{Tr}[\\rho^\\dagger\\sigma]-\\mathrm{Tr}[\\sigma^\\dagger\\rho]+\\mathrm{Tr}[\\sigma^\\dagger\\sigma],$$\n",
    "\n",
    "in the space of non-negative matrix product operators (i.e. constrained optimization with the constraints $\\sigma^{(k)}_{\\alpha,u,\\beta}\\geq 0$). Note that $\\sigma$ is a hermitian operator because it has a real Wigner function: \n",
    "$$\\sigma^{(k)}_{\\alpha,u,\\beta}\\geq 0\\Rightarrow\\left(\\sum_\\alpha \\prod_k \\sigma^{(k)}_{\\alpha_k,u_k,\\alpha_{k+1}}\\right)\\geq 0\\ \\forall  u\\Rightarrow \\mathrm{Tr}[\\sigma A_{u}]\\in\\mathbb R\\ \\forall u$$\n",
    "Since the phase space operators are hermitian and complete, this implies that\n",
    "$$\\sigma^\\dagger=\\left(d^{-n}\\sum_u \\mathrm{Tr}[\\sigma A_u]A_u\\right)^\\dagger=d^{-n}\\sum_u \\mathrm{Tr}[\\sigma A_u]^*A_u^\\dagger=d^{-n}\\sum_u \\mathrm{Tr}[\\sigma A_u]A_u=\\sigma.$$\n",
    "Using this and the fact that trace is cyclic, the squared distance simplifies to\n",
    "\n",
    "$$d(\\rho,\\sigma)^2=\\mathrm{Tr}[\\rho^\\dagger\\rho]-2\\mathrm{Tr}[\\sigma^\\dagger\\rho]+\\mathrm{Tr}[\\sigma^\\dagger\\sigma]$$"
   ]
  },
  {
   "cell_type": "code",
   "execution_count": 9,
   "metadata": {},
   "outputs": [],
   "source": [
    "import scipy as sp\n",
    "from scipy.optimize import minimize\n",
    "\n",
    "#TODO: seed \n",
    "\n",
    "def dist_sq(A, B, norm):\n",
    "    return inner_prod(A,A,norm) - 2*inner_prod(A,B,norm) + inner_prod(B,B,norm)\n",
    "\n",
    "def dist(A, B, norm):\n",
    "    return math.pow(dist_sq(A,B,norm),1./2)\n",
    "\n",
    "def cost_fct(i, x, A, B, norm):\n",
    "    A[i] = x.reshape(A[i].shape)\n",
    "    return inner_prod(A, B, norm)\n",
    "\n",
    "# Generate random MPO with fixed bond dimension and random positive coefficients\n",
    "def gen_mpo(n, d, bd):\n",
    "    mpo = [None] * n\n",
    "    mpo[0] = np.random.rand(1,d,bd)\n",
    "    for i in range(1,n-1):\n",
    "        mpo[i] = np.random.rand(bd,d,bd)\n",
    "    mpo[n-1] = np.random.rand(bd,d,1)\n",
    "    return mpo\n",
    "    \n",
    "def optimize(A, B, nswp = 20, opt_method = 'L-BFGS-B'):\n",
    "    # The true distance between B and the positive-repr states is N:\n",
    "    _, _, true_dist = wigner(B)\n",
    "    print(\"Initial distance: %g, True distance: %g\" % (dist(A,B), true_dist))\n",
    "\n",
    "    # Optimize D(A||B) on A to find closest positive repr MPO to B\n",
    "    print(\"Optimization method: %s\" % opt_method)\n",
    "    print(\"Sweep Site Distance Dist-True_Dist\")\n",
    "    #print(\"Half-sweep D(A||B) D(A||B)-D(A*||B) E(A) H_2(A)\\n\")\n",
    "    sys.stdout.flush()\n",
    "\n",
    "    n = len(A)\n",
    "    _,d,_ = A.shape\n",
    "    dn = d**n\n",
    "    b = [(0, None) for i1 in range(D_A*(d**2))] #todo: need to impose constraints dependent on bond dim at that site\n",
    "    start_time = time.time()\n",
    "    for i in range(nswp):\n",
    "        for j in range(n):\n",
    "            A[j] = minimize(lambda x:cost_fct(0,x,A,B,dn), A[j], method=opt_method, bounds=b).x\n",
    "            print(\"%d %d %g %g %g %g\" % (i, j, dist(A,B,dn), dist(A,B,dn)-true_dist)) #vn_entropy(A), r_entropy(A,2)))\n",
    "            sys.stdout.flush()\n",
    "\n",
    "    print(\"\\nTime elapsed during optimization: %g\" % (time.time() - start_time))"
   ]
  },
  {
   "cell_type": "markdown",
   "metadata": {},
   "source": [
    "# Debugging\n",
    "Unfortunately, the squared distance comes out to be complex, which isn't good.. let's try to debug:"
   ]
  },
  {
   "cell_type": "code",
   "execution_count": 10,
   "metadata": {},
   "outputs": [
    {
     "name": "stdout",
     "output_type": "stream",
     "text": [
      "5772.1612845543095\n",
      "(0.22591152150753221+6.933347799794049e-33j)\n",
      "(25.969902878311586+1.5217918517284053e-14j)\n",
      "Magnitude of complex value: 2.5303758779070102e-14\n",
      "Coefficents were all real!\n",
      "Coefficents were all real!\n"
     ]
    }
   ],
   "source": [
    "mA = gen_mpo(n,d**2,10)\n",
    "norm = d**n\n",
    "mB = m_rho_ps\n",
    "print(inner_prod(mA,mA,norm))\n",
    "print(inner_prod(mB,mB,norm))\n",
    "print(inner_prod(mA,mB,norm))\n",
    "print(\"Magnitude of complex value: \" + repr(np.amax( [np.amax(np.abs(np.imag(mB[j]) ) ) for j in range(n) ] )))\n",
    "\n",
    "# Check that an mpo in the phase space basis represents a hermitian operator\n",
    "def check_real_coefficients(mpo):\n",
    "    good = True\n",
    "    tensor_shape = tuple([d**2]*n)\n",
    "    for u in range(d**(2*n)):\n",
    "        index = np.unravel_index(u,tensor_shape)\n",
    "        coefficient = np.identity(1,dtype=np.complex128)\n",
    "        for i in range(n):\n",
    "            coefficient = np.dot(coefficient, mpo[i][:,index[i],:])\n",
    "        if (coefficient[0][0].imag > 1e-16):\n",
    "            good = False\n",
    "            print(\"Coefficient \" + repr(index) + \" is complex with value \" + repr(coefficient[0][0]))\n",
    "    if good:\n",
    "        print(\"Coefficents were all real!\")\n",
    "        \n",
    "check_real_coefficients(mA)\n",
    "check_real_coefficients(mB)\n"
   ]
  },
  {
   "cell_type": "markdown",
   "metadata": {},
   "source": [
    "Is my random state even hermitian? What's going on here.."
   ]
  },
  {
   "cell_type": "code",
   "execution_count": 11,
   "metadata": {},
   "outputs": [
    {
     "name": "stdout",
     "output_type": "stream",
     "text": [
      "True\n"
     ]
    }
   ],
   "source": [
    "print(np.allclose(rho,rho.T.conj()))"
   ]
  },
  {
   "cell_type": "markdown",
   "metadata": {},
   "source": [
    "Ok... what about the Wigner function? Does it agree with these coefficients?"
   ]
  },
  {
   "cell_type": "code",
   "execution_count": 12,
   "metadata": {},
   "outputs": [
    {
     "name": "stdout",
     "output_type": "stream",
     "text": [
      "(0, 3): (0.01563895617438192+5.593487220855884e-18j)\t(0.01222883711574474+6.1679056923619804e-18j)\t3.41E-03 7.82E-01\n",
      "(0, 4): (0.02416569498320674+6.479794209343468e-18j)\t(0.009624775349714532-7.709882115452476e-18j)\t1.45E-02 3.98E-01\n",
      "(0, 5): (-0.008087045924695791+3.1853047481638414e-18j)\t(0.00590376391270925+1.3877787807814457e-17j)\t1.40E-02 -7.30E-01\n",
      "(0, 6): (0.012228837115744752-2.158573627875372e-18j)\t(0.015638956174381925+1.1275702593849246e-17j)\t3.41E-03 1.28E+00\n",
      "(0, 7): (0.009624775349714523-1.0506942526496597e-17j)\t(0.024165694983206733+1.1564823173178713e-17j)\t1.45E-02 2.51E+00\n",
      "(0, 8): (0.005903763912709267-9.767927514558938e-19j)\t(-0.008087045924695772+0j)\t1.40E-02 -1.37E+00\n",
      "(1, 3): (0.0368733843789048+2.4913765669650785e-17j)\t(0.0022601069703421135+1.734723475976807e-18j)\t3.46E-02 6.13E-02\n",
      "(1, 4): (-0.0024262568961690195-1.0858783808435481e-17j)\t(0.03943098549439924+2.929755203871941e-17j)\t4.19E-02 -1.63E+01\n",
      "(1, 5): (0.015255805596471614+2.28458325302051e-17j)\t(0.017844214072535947+1.1950317278951337e-17j)\t2.59E-03 1.17E+00\n",
      "(1, 6): (0.002260106970342144-2.2549196329837177e-18j)\t(0.03687338437890478+2.544261098099317e-17j)\t3.46E-02 1.63E+01\n",
      "(1, 7): (0.039430985494399266+3.6503757821109816e-17j)\t(-0.0024262568961690117-9.637352644315595e-18j)\t4.19E-02 -6.15E-02\n",
      "(1, 8): (0.01784421407253595+5.074343653607839e-18j)\t(0.015255805596471592+1.1179329067406089e-17j)\t2.59E-03 8.55E-01\n",
      "(2, 3): (0.020649522826855136+2.615508824246904e-18j)\t(0.021096200283399417+8.866364432770347e-18j)\t4.47E-04 1.02E+00\n",
      "(2, 4): (0.016209073030470738+1.0312848462763235e-17j)\t(-0.005654041441594643-7.709882115452476e-19j)\t2.19E-02 -3.49E-01\n",
      "(2, 5): (0.013853234329333315-1.978433669781579e-18j)\t(0.0016207906863978628+2.0552166153227407e-18j)\t1.22E-02 1.17E-01\n",
      "(2, 6): (0.021096200283399414+6.882307854766818e-18j)\t(0.020649522826855143+2.5057116875220546e-18j)\t4.47E-04 9.79E-01\n",
      "(2, 7): (-0.00565404144159466+8.825561029446337e-18j)\t(0.016209073030470755+8.288123274111412e-18j)\t2.19E-02 -2.87E+00\n",
      "(2, 8): (0.001620790686397838+7.76355621802492e-18j)\t(0.013853234329333294-2.4318385037514424e-18j)\t1.22E-02 8.55E+00\n",
      "(3, 0): (0.02872808906041993+1.1287336292116915e-17j)\t(0.012686904003453929+2.4093381610788987e-18j)\t1.60E-02 4.42E-01\n",
      "(3, 1): (0.0225456788537608+1.5959293443938973e-18j)\t(0.013214244264707797+7.709882115452476e-19j)\t9.33E-03 5.86E-01\n",
      "(3, 2): (0.004571985571213523+7.726780602891221e-18j)\t(0.03015070461263288+1.590163186312073e-17j)\t2.56E-02 6.59E+00\n",
      "(3, 3): (0.010397611146848139+1.0508409008543726e-17j)\t(0.0005005654521122162+5.5896645337030445e-18j)\t9.90E-03 4.81E-02\n",
      "(3, 4): (-0.008763171124116688+3.964684382003764e-18j)\t(0.02439823010849685+1.0793834961633465e-17j)\t3.32E-02 -2.78E+00\n",
      "(3, 5): (-0.010287335832042705+9.152987648072892e-18j)\t(0.026238759443913892+1.2721305490496585e-17j)\t3.65E-02 -2.55E+00\n",
      "(3, 6): (0.014456671962087721-1.9141184014383556e-19j)\t(0.017337941484815628+2.2358658134812178e-17j)\t2.88E-03 1.20E+00\n",
      "(3, 7): (0.03330673797157053+6.389792585317556e-18j)\t(0.00954743281267779+4.625929269271485e-18j)\t2.38E-02 2.87E-01\n",
      "(3, 8): (0.0024492736311962507-8.100593353394314e-20j)\t(-0.002671809200854661+4.144061637055706e-18j)\t5.12E-03 -1.09E+00\n",
      "(4, 0): (0.002623448794577328-7.020617501854292e-18j)\t(0.009762905178543942-1.1564823173178713e-18j)\t7.14E-03 3.72E+00\n",
      "(4, 1): (0.01833257987430411+7.651315413872477e-18j)\t(0.030771091411300022+1.4648776019359705e-17j)\t1.24E-02 1.68E+00\n",
      "(4, 2): (0.022759168008117593+8.813963244801742e-18j)\t(0.014372059682713772+3.854941057726238e-19j)\t8.39E-03 6.31E-01\n",
      "(4, 3): (0.023256971559115797+1.238747043050797e-17j)\t(0.002873606227993677+1.1564823173178713e-17j)\t2.04E-02 1.24E-01\n",
      "(4, 4): (-0.005818091092050813+1.0827895882547583e-17j)\t(-0.01106878564061494-7.709882115452476e-18j)\t5.25E-03 1.90E+00\n",
      "(4, 5): (0.00020663708476932735+2.386345935207805e-19j)\t(0.022284420604238974+1.6961740653995445e-17j)\t2.21E-02 1.08E+02\n",
      "(4, 6): (0.011758338778510003+1.0666996730431187e-17j)\t(0.015968887900469055+1.3106799596269209e-17j)\t4.21E-03 1.36E+00\n",
      "(4, 7): (-0.0008641060746421071-7.456529014241126e-18j)\t(0.01675564710895001+1.2335811384723961e-17j)\t1.76E-02 -1.94E+01\n",
      "(4, 8): (0.017768206631497613+1.072442696009903e-18j)\t(-0.0024592406540138003-8.480870326997723e-18j)\t2.02E-02 -1.38E-01\n",
      "(5, 0): (0.014681429209465056+1.401610144040012e-17j)\t(0.02619572168080239+1.6190752442450197e-17j)\t1.15E-02 1.78E+00\n",
      "(5, 1): (0.020013147886900114+1.9619539135181714e-17j)\t(0.013048594452260198+1.5034270125132327e-17j)\t6.96E-03 6.52E-01\n",
      "(5, 2): (0.02916736295091122+2.4880882228624793e-17j)\t(-0.0030276313778828294-1.461280892757919e-18j)\t3.22E-02 -1.04E-01\n",
      "(5, 3): (0.03219210935780229+2.623510216966416e-17j)\t(0.005591762614319407+3.2766998990673022e-18j)\t2.66E-02 1.74E-01\n",
      "(5, 4): (0.004097276540174328+5.374211958895753e-19j)\t(-0.003987067824385996+1.566069804701284e-17j)\t8.08E-03 -9.73E-01\n",
      "(5, 5): (0.007780486308180828+4.17387751884255e-18j)\t(-0.0063112134059070445+3.470537207776429e-18j)\t1.41E-02 -8.11E-01\n",
      "(5, 6): (0.01051936747268211-9.031222047177919e-18j)\t(0.011880002081876808+3.0839528461809902e-18j)\t1.36E-03 1.13E+00\n",
      "(5, 7): (0.017223829946597862+3.302134524033715e-17j)\t(0.004143233270471504-4.240435163498861e-18j)\t1.31E-02 2.41E-01\n",
      "(5, 8): (0.025213320748729923+1.4287778278734507e-17j)\t(0.02655291677997296+1.1126546420539896e-17j)\t1.34E-03 1.05E+00\n",
      "(6, 0): (0.012686904003453948+7.596606753830616e-18j)\t(0.028728089060419938+1.3877787807814457e-17j)\t1.60E-02 2.26E+00\n",
      "(6, 1): (0.01321424426470781-9.899231400727593e-20j)\t(0.02254567885376078+9.25185853854297e-18j)\t9.33E-03 1.71E+00\n",
      "(6, 2): (0.030150704612632872+2.532341367385207e-17j)\t(0.004571985571213559-7.709882115452476e-19j)\t2.56E-02 1.52E-01\n",
      "(6, 3): (0.01733794148481564+2.262866861065065e-17j)\t(0.014456671962087704+0j)\t2.88E-03 8.34E-01\n",
      "(6, 4): (0.009547432812677767+1.3466855435467659e-17j)\t(0.033306737971570535+1.2721305490496585e-17j)\t2.38E-02 3.49E+00\n",
      "(6, 5): (-0.002671809200854655+2.2372152964853527e-18j)\t(0.00244927363119625+2.3129646346357427e-18j)\t5.12E-03 -9.17E-01\n",
      "(6, 6): (0.0005005654521122414+1.3942314471743292e-18j)\t(0.010397611146848134+7.902629168338788e-18j)\t9.90E-03 2.08E+01\n",
      "(6, 7): (0.024398230108496868+1.5981368151101697e-17j)\t(-0.008763171124116705-4.240435163498861e-18j)\t3.32E-02 -3.59E-01\n",
      "(6, 8): (0.02623875944391385+2.0502344251490323e-17j)\t(-0.010287335832042697+1.5419764230904953e-17j)\t3.65E-02 -3.92E-01\n",
      "(7, 0): (0.009762905178543967-6.518835497820719e-18j)\t(0.0026234487945773293-4.625929269271485e-18j)\t7.14E-03 2.69E-01\n",
      "(7, 1): (0.03077109141130004+3.9078736173373824e-18j)\t(0.018332579874304124+6.7461468510209164e-18j)\t1.24E-02 5.96E-01\n",
      "(7, 2): (0.014372059682713774+6.0727626495093865e-18j)\t(0.022759168008117593+5.7824115865893565e-18j)\t8.39E-03 1.58E+00\n",
      "(7, 3): (0.01596888790046908+2.1643728110654545e-17j)\t(0.01175833877850999+7.324388009679852e-18j)\t4.21E-03 7.36E-01\n",
      "(7, 4): (0.016755647108949997+1.5274855475723506e-17j)\t(-0.0008641060746420971-6.1679056923619804e-18j)\t1.76E-02 -5.16E-02\n",
      "(7, 5): (-0.0024592406540138085+2.1668669525805197e-18j)\t(0.01776820663149763+9.25185853854297e-18j)\t2.02E-02 -7.23E+00\n",
      "(7, 6): (0.0028736062279936716+6.103007396222378e-18j)\t(0.023256971559115797+1.3877787807814457e-17j)\t2.04E-02 8.09E+00\n",
      "(7, 7): (-0.011068785640614932-1.3386155270612453e-17j)\t(-0.0058180910920507915+3.854941057726238e-18j)\t5.25E-03 5.26E-01\n",
      "(7, 8): (0.022284420604238957+7.670601250579985e-18j)\t(0.0002066370847693228-3.854941057726238e-19j)\t2.21E-02 9.27E-03\n",
      "(8, 0): (0.026195721680802374+2.7141350259355556e-18j)\t(0.014681429209465061+2.3129646346357427e-18j)\t1.15E-02 5.60E-01\n",
      "(8, 1): (0.013048594452260207+1.5619653322328905e-17j)\t(0.020013147886900128+1.94674523415175e-17j)\t6.96E-03 1.53E+00\n",
      "(8, 2): (-0.003027631377882811-4.793040305197773e-18j)\t(0.029167362950911217+1.515205373842521e-17j)\t3.22E-02 -9.63E+00\n",
      "(8, 3): (0.011880002081876838-3.1291222934338973e-18j)\t(0.01051936747268207+1.1564823173178713e-18j)\t1.36E-03 8.85E-01\n",
      "(8, 4): (0.004143233270471499-9.839812467150268e-19j)\t(0.01722382994659787+7.999002694781943e-18j)\t1.31E-02 4.16E+00\n",
      "(8, 5): (0.026552916779972957+1.1342653783965266e-17j)\t(0.02521332074872993+1.7578160151437504e-17j)\t1.34E-03 9.50E-01\n",
      "(8, 6): (0.005591762614319401+1.7493628738674e-17j)\t(0.03219210935780228+2.2744152240584803e-17j)\t2.66E-02 5.76E+00\n",
      "(8, 7): (-0.003987067824385987-6.027913910950644e-18j)\t(0.00409727654017433+1.0022846750088219e-17j)\t8.08E-03 -1.03E+00\n",
      "(8, 8): (-0.006311213405906991+4.960290985709602e-18j)\t(0.00778048630818082-2.0844161679219806e-19j)\t1.41E-02 -1.23E+00\n"
     ]
    },
    {
     "name": "stderr",
     "output_type": "stream",
     "text": [
      "C:\\ProgramData\\Anaconda3\\lib\\site-packages\\ipykernel_launcher.py:13: ComplexWarning: Casting complex values to real discards the imaginary part\n",
      "  del sys.path[0]\n"
     ]
    }
   ],
   "source": [
    "# Check that an mpo in the phase space basis represents a hermitian operator\n",
    "def check_against_wigner(mpo, state):\n",
    "    W, _, _ = wigner(state, n, d)\n",
    "    good = True\n",
    "    tensor_shape = tuple([d**2]*n)\n",
    "    for u in range(d**(2*n)):\n",
    "        index = np.unravel_index(u,tensor_shape)\n",
    "        coefficient = np.identity(1,dtype=np.complex128)\n",
    "        for i in range(n):\n",
    "            coefficient = np.dot(coefficient, mpo[i][:,index[i],:])\n",
    "        if (np.absolute(W[u] - coefficient[0][0]) > 1e-16):\n",
    "            good = False\n",
    "            print(repr(index) + \": \" + repr(coefficient[0][0]) +\"\\t\" + repr(W[u]) + \"\\t\" + (\"%.2E %.2E\" % (np.absolute(W[u] - coefficient[0][0]),W[u]/coefficient[0][0].real)))\n",
    "    if good:\n",
    "        print(\"Coefficents all agreed!\")\n",
    "        \n",
    "check_against_wigner(mB, rho)"
   ]
  },
  {
   "cell_type": "markdown",
   "metadata": {},
   "source": [
    "# Direct MPO representation of W(u)\n",
    "Let's just make an MPO out of the Wigner function representation:"
   ]
  },
  {
   "cell_type": "code",
   "execution_count": 17,
   "metadata": {},
   "outputs": [
    {
     "name": "stdout",
     "output_type": "stream",
     "text": [
      "(81,)\n"
     ]
    },
    {
     "data": {
      "text/plain": [
       "[array([[[-0.37018595-2.78259926e-16j, -0.4218597 -5.90064963e-16j,\n",
       "           0.13496913+3.49124393e-16j,  0.06640584+7.96264918e-16j,\n",
       "          -0.68406267+3.73902784e-16j,  0.02009222+2.87262527e-16j,\n",
       "          -0.03966835-1.17538920e-15j, -0.3237487 +1.74826976e-16j,\n",
       "          -0.29603734-4.98781927e-16j],\n",
       "         [-0.32916503-2.21772007e-16j, -0.42050428-8.03078871e-16j,\n",
       "           0.31111866+7.02197885e-16j, -0.02141422+4.12225678e-17j,\n",
       "           0.03429754-1.07044077e-16j, -0.28734005-3.86801232e-17j,\n",
       "           0.08766727+2.60923163e-15j,  0.64481661+3.60773277e-16j,\n",
       "           0.33220251+5.57295811e-16j],\n",
       "         [-0.3834534 -1.90195933e-16j,  0.45186693+5.13063644e-16j,\n",
       "          -0.0418593 -4.31538678e-16j,  0.34186753+6.00759930e-17j,\n",
       "          -0.26816095-5.29991597e-16j,  0.33709489-4.83914119e-16j,\n",
       "          -0.32886518-8.66136968e-15j,  0.09386097-6.19913285e-16j,\n",
       "           0.47712547+1.47819855e-15j],\n",
       "         [-0.38055098-1.48518305e-16j, -0.35360774-4.47868237e-16j,\n",
       "          -0.00723238+4.33515769e-17j,  0.26471278-9.17747288e-16j,\n",
       "           0.62330219-8.16644331e-16j,  0.41431615-6.01956714e-16j,\n",
       "          -0.19617888-4.82202689e-15j, -0.12392977-2.87190755e-16j,\n",
       "          -0.21449736-5.78152403e-16j],\n",
       "         [-0.15676845-1.86679756e-16j, -0.15799006+9.07243836e-17j,\n",
       "          -0.69649775-9.86100466e-16j,  0.36344521+6.83356986e-17j,\n",
       "           0.00689302-3.33027149e-16j, -0.23481161+2.65291017e-16j,\n",
       "           0.46697622+1.17802318e-14j, -0.11488907+2.80054747e-16j,\n",
       "           0.21635841+4.59821661e-16j],\n",
       "         [-0.27454935-1.72853940e-16j,  0.2031359 +1.67102202e-16j,\n",
       "           0.29848473+4.40000805e-16j, -0.26765157+4.47055411e-17j,\n",
       "           0.04996354+3.58014938e-16j,  0.3802008 -4.70422405e-16j,\n",
       "           0.73746291+1.87792864e-14j, -0.14637415+2.16302986e-16j,\n",
       "           0.10149884-1.55299611e-16j],\n",
       "         [-0.45151908-1.87284832e-16j,  0.11823115+2.94824683e-16j,\n",
       "          -0.08303647+3.00255581e-17j, -0.51476002+1.42810048e-16j,\n",
       "           0.20854001+5.81161577e-16j, -0.43291972+5.76832933e-16j,\n",
       "          -0.25567807-6.93999621e-15j, -0.41002046-4.95544189e-16j,\n",
       "           0.21420201+1.06624934e-15j],\n",
       "         [-0.36561987-1.52104103e-16j,  0.30470837+5.47398309e-16j,\n",
       "          -0.36636256-5.20175709e-16j, -0.2332518 +4.55127037e-16j,\n",
       "          -0.06548874+3.05770975e-16j,  0.01822759-9.98435691e-17j,\n",
       "           0.01616121+1.13742564e-15j,  0.49058751+5.37755015e-16j,\n",
       "          -0.58248492-1.99755569e-15j],\n",
       "         [-0.15892174-1.76783616e-16j,  0.37807082+1.68953391e-16j,\n",
       "           0.40971352+1.21185221e-16j,  0.53392075-8.42185890e-16j,\n",
       "           0.1419311 -5.44452905e-16j, -0.49426742+6.81831658e-16j,\n",
       "           0.12865306+3.50017548e-15j, -0.10868333+4.50535731e-16j,\n",
       "          -0.29336223-7.44760090e-16j]]]),\n",
       " array([[[-4.18985019e-02+0.00000000e+00j],\n",
       "         [-5.14341956e-02+1.01232596e-17j],\n",
       "         [-1.51526144e-02-1.22153087e-17j],\n",
       "         [-3.93774505e-02+1.07745650e-18j],\n",
       "         [-4.75212171e-02+4.42083605e-18j],\n",
       "         [-4.95191450e-02+9.93893174e-18j],\n",
       "         [-4.69185772e-02+1.02108482e-17j],\n",
       "         [-2.14519217e-02-1.64076335e-17j],\n",
       "         [-3.51915299e-02-2.17835322e-18j]],\n",
       " \n",
       "        [[ 9.99223188e-03+0.00000000e+00j],\n",
       "         [ 2.31006082e-03-9.42130173e-18j],\n",
       "         [-2.42389990e-02+9.30756624e-18j],\n",
       "         [ 2.00260534e-02-2.27756273e-18j],\n",
       "         [-3.94962547e-02+3.74798789e-17j],\n",
       "         [-1.60048642e-02+8.58331023e-18j],\n",
       "         [ 7.15127012e-03+4.01945957e-18j],\n",
       "         [ 2.06975626e-02-2.71899327e-17j],\n",
       "         [ 2.64598041e-02-3.01597100e-17j]],\n",
       " \n",
       "        [[ 5.30161249e-03+0.00000000e+00j],\n",
       "         [-2.75292840e-02+1.97960111e-17j],\n",
       "         [-2.25593463e-02+2.38327311e-17j],\n",
       "         [ 9.32346620e-03+6.94082943e-18j],\n",
       "         [ 2.63214229e-02-3.74825937e-17j],\n",
       "         [-1.51294430e-02-3.67263297e-19j],\n",
       "         [ 1.41372760e-02+2.29222576e-18j],\n",
       "         [-6.40315538e-03+3.57444018e-18j],\n",
       "         [ 4.00510711e-03-7.13423316e-18j]],\n",
       " \n",
       "        [[-8.21158368e-03+0.00000000e+00j],\n",
       "         [-5.01115585e-03-3.39284775e-17j],\n",
       "         [ 6.94783156e-03+3.17074159e-17j],\n",
       "         [ 2.14498283e-02+2.30026510e-17j],\n",
       "         [-1.18913004e-02-1.50655442e-17j],\n",
       "         [ 3.92418980e-03-2.07540180e-17j],\n",
       "         [ 1.99945681e-02+5.23019858e-17j],\n",
       "         [-6.35637845e-03+2.07142635e-17j],\n",
       "         [-2.21392238e-02-2.91666748e-17j]],\n",
       " \n",
       "        [[ 7.27213588e-03+0.00000000e+00j],\n",
       "         [-8.11412861e-03-1.50801242e-17j],\n",
       "         [ 2.03012523e-02+2.72254645e-17j],\n",
       "         [-1.23298614e-02+9.04441426e-18j],\n",
       "         [-6.14888357e-04-6.19491925e-18j],\n",
       "         [-1.43510408e-02-1.21545475e-17j],\n",
       "         [ 1.47302695e-02+4.78170615e-17j],\n",
       "         [ 1.54659928e-02+1.62308273e-17j],\n",
       "         [ 2.13872411e-04-3.11405759e-17j]],\n",
       " \n",
       "        [[-3.69906024e-03+0.00000000e+00j],\n",
       "         [ 4.29041485e-03+1.34488884e-17j],\n",
       "         [ 4.04962406e-03+4.91089176e-18j],\n",
       "         [ 9.17254273e-03+1.45029748e-17j],\n",
       "         [ 5.24626057e-03+8.57899725e-18j],\n",
       "         [-9.13948670e-03-2.02982202e-17j],\n",
       "         [-6.99150414e-03-7.29052747e-18j],\n",
       "         [ 4.39411972e-03+1.34325053e-20j],\n",
       "         [-1.45497226e-03-5.50940802e-18j]],\n",
       " \n",
       "        [[ 4.39567698e-04+0.00000000e+00j],\n",
       "         [ 1.68190583e-03-4.80392733e-17j],\n",
       "         [ 5.07772713e-03-1.24702229e-16j],\n",
       "         [ 1.06132892e-03-1.85994654e-17j],\n",
       "         [-1.52907441e-03+3.90954618e-17j],\n",
       "         [-4.54600209e-03+1.12972263e-16j],\n",
       "         [ 1.59697216e-03-5.12535092e-17j],\n",
       "         [-1.10361729e-02+2.73134556e-16j],\n",
       "         [ 6.70442861e-03-1.67677522e-16j]],\n",
       " \n",
       "        [[-2.64313481e-03+0.00000000e+00j],\n",
       "         [ 4.94713275e-03-6.09287439e-18j],\n",
       "         [-2.98230026e-03+1.70651839e-18j],\n",
       "         [-2.71001176e-03+2.28276757e-18j],\n",
       "         [ 7.73684479e-04+1.25799154e-18j],\n",
       "         [-2.78960775e-03+3.16059813e-18j],\n",
       "         [ 3.49344541e-03-5.78043040e-18j],\n",
       "         [-2.73475890e-04+8.39459765e-18j],\n",
       "         [-1.37742652e-03-8.51680787e-19j]],\n",
       " \n",
       "        [[ 3.51386103e-03+0.00000000e+00j],\n",
       "         [ 8.94190010e-04-2.74194115e-19j],\n",
       "         [-4.93407458e-04+1.51837014e-18j],\n",
       "         [-2.69871365e-05+1.97920285e-18j],\n",
       "         [-3.00103075e-04+1.68249005e-19j],\n",
       "         [-9.97582749e-04-2.09325620e-18j],\n",
       "         [-6.55028941e-04-1.08133326e-18j],\n",
       "         [-8.42293497e-04-1.12095639e-18j],\n",
       "         [-2.05207934e-03+1.93772519e-18j]]])]"
      ]
     },
     "execution_count": 17,
     "metadata": {},
     "output_type": "execute_result"
    }
   ],
   "source": [
    "def state_to_wigner_mpo(state, n, d):\n",
    "    W, _, _ = wigner(state, n, d)\n",
    "    #print(W.shape)\n",
    "    #state_shape = (d**2, d**2)\n",
    "    #W_state = W.reshape(state_shape)\n",
    "    return state_to_mpo(W, n, d)\n",
    "    \n",
    "state_to_wigner_mpo(rho, n, d)"
   ]
  },
  {
   "cell_type": "code",
   "execution_count": 18,
   "metadata": {},
   "outputs": [
    {
     "name": "stdout",
     "output_type": "stream",
     "text": [
      "(81,)\n",
      "True\n",
      "True\n",
      "0.22591152150753221\n",
      "0.2259115215075319\n",
      "False\n",
      "[[[-0.25391837 -0.30404666  0.11951558  0.44667419 -0.54430356\n",
      "    0.15843215 -0.29312948 -0.27796715 -0.059218  ]\n",
      "  [ 0.00912701 -0.56688694  0.24875167 -0.21223224 -0.02894069\n",
      "   -0.11646061 -0.21044621  0.69127936  0.15072665]\n",
      "  [-0.33387478  0.77971976 -0.20338736  0.27322112  0.083835\n",
      "    0.26299956 -0.31561537  0.13951506  0.23027927]\n",
      "  [-0.20675979 -0.64218479 -0.25320084  0.52091375  0.67564287\n",
      "    0.16795463 -0.06046877 -0.14543442 -0.32127092]\n",
      "  [ 0.00646019 -0.06673039 -0.54975981  0.26442478 -0.05643696\n",
      "   -0.63522405  0.36824686  0.145655    0.37463934]\n",
      "  [-0.01545148  0.27074779  0.35829707 -0.38711846  0.13202206\n",
      "    0.31547608  0.82049333 -0.57908231  0.2982909 ]\n",
      "  [-0.23395478  0.04965867  0.09035426 -0.53156509  0.36579772\n",
      "   -0.21778107  0.08646989 -0.1682811   0.28077822]\n",
      "  [-0.20688469  0.54093891 -0.18933798 -0.00575264 -0.36052494\n",
      "    0.02306689  0.1127026   0.42678566 -0.84473927]\n",
      "  [-0.07888502  0.56206698  0.01461671  0.45742978 -0.10432146\n",
      "   -0.404914    0.26503249 -0.01432392 -0.1062978 ]]]\n"
     ]
    }
   ],
   "source": [
    "wm_rho = state_to_wigner_mpo(rho, n, d)\n",
    "print(np.absolute(inner_prod(mB,mB,norm) - inner_prod(m_rho,m_rho)) < 1e-14)\n",
    "print(np.absolute(inner_prod(wm_rho,wm_rho,norm) - inner_prod(m_rho, m_rho)) < 1e-14)\n",
    "print(np.absolute(inner_prod(mB,mB,norm)))\n",
    "print(np.absolute(inner_prod(wm_rho,wm_rho,norm)))\n",
    "print(np.allclose(wm_rho[0],mB[0]))\n",
    "print((wm_rho[0] - mB[0]).real)"
   ]
  },
  {
   "cell_type": "code",
   "execution_count": 19,
   "metadata": {},
   "outputs": [
    {
     "name": "stdout",
     "output_type": "stream",
     "text": [
      "(0, 3): (0.01827351377661725+1.2335811384723995e-17j)\t(0.01222883711574474+6.1679056923619804e-18j)\t6.04E-03 6.69E-01\n",
      "(0, 4): (0.03744154271616791+1.8503717077085947e-17j)\t(0.009624775349714532-7.709882115452476e-18j)\t2.78E-02 2.57E-01\n",
      "(0, 5): (0.03431384528037674+1.2721305490496583e-17j)\t(0.00590376391270925+1.3877787807814457e-17j)\t2.84E-02 1.72E-01\n",
      "(0, 6): (0.0063702805923005965+1.9274705288631923e-18j)\t(0.015638956174381925+1.1275702593849246e-17j)\t9.27E-03 2.45E+00\n",
      "(0, 7): (-0.011792342739148486+1.927470528863092e-18j)\t(0.024165694983206733+1.1564823173178713e-17j)\t3.60E-02 -2.05E+00\n",
      "(0, 8): (0.0015474197028598389+8.688221687967081e-18j)\t(-0.008087045924695772+0j)\t9.63E-03 -5.23E+00\n",
      "(1, 0): (0.012228837115744733+6.1679056923619704e-18j)\t(0.018273513776617258+1.2335811384723961e-17j)\t6.04E-03 1.49E+00\n",
      "(1, 1): (0.00962477534971456-7.709882115452456e-18j)\t(0.03744154271616794+1.850371707708594e-17j)\t2.78E-02 3.89E+00\n",
      "(1, 2): (0.005903763912709266+1.3877787807814418e-17j)\t(0.034313845280376794+1.2721305490496585e-17j)\t2.84E-02 5.81E+00\n",
      "(1, 6): (0.021096200283399417+8.866364432770334e-18j)\t(0.03687338437890478+2.544261098099317e-17j)\t1.58E-02 1.75E+00\n",
      "(1, 7): (-0.005654041441594641-7.709882115451647e-19j)\t(-0.0024262568961690117-9.637352644315595e-18j)\t3.23E-03 4.29E-01\n",
      "(1, 8): (0.0016207906863978554+2.0552166153227176e-18j)\t(0.015255805596471592+1.1179329067406089e-17j)\t1.36E-02 9.41E+00\n",
      "(2, 0): (0.01563895617438192+1.1275702593849257e-17j)\t(0.006370280592300555+1.927470528863119e-18j)\t9.27E-03 4.07E-01\n",
      "(2, 1): (0.024165694983206736+1.1564823173178668e-17j)\t(-0.011792342739148509+1.927470528863119e-18j)\t3.60E-02 -4.88E-01\n",
      "(2, 2): (-0.008087045924695752+3.697785493223493e-32j)\t(0.0015474197028598525+8.688221687967107e-18j)\t9.63E-03 -1.91E-01\n",
      "(2, 3): (0.036873384378904764+2.5442610980993167e-17j)\t(0.021096200283399417+8.866364432770347e-18j)\t1.58E-02 5.72E-01\n",
      "(2, 4): (-0.0024262568961689896-9.637352644315607e-18j)\t(-0.005654041441594643-7.709882115452476e-19j)\t3.23E-03 2.33E+00\n",
      "(2, 5): (0.015255805596471593+1.1179329067406063e-17j)\t(0.0016207906863978628+2.0552166153227407e-18j)\t1.36E-02 1.06E-01\n",
      "(3, 3): (0.009762905178543965-1.1564823173179104e-18j)\t(0.0005005654521122162+5.5896645337030445e-18j)\t9.26E-03 5.13E-02\n",
      "(3, 4): (0.030771091411300015+1.4648776019359705e-17j)\t(0.02439823010849685+1.0793834961633465e-17j)\t6.37E-03 7.93E-01\n",
      "(3, 5): (0.014372059682713786+3.854941057726286e-19j)\t(0.026238759443913892+1.2721305490496585e-17j)\t1.19E-02 1.83E+00\n",
      "(3, 6): (0.026195721680802364+1.619075244245018e-17j)\t(0.017337941484815628+2.2358658134812178e-17j)\t8.86E-03 6.62E-01\n",
      "(3, 7): (0.01304859445226018+1.5034270125132324e-17j)\t(0.00954743281267779+4.625929269271485e-18j)\t3.50E-03 7.32E-01\n",
      "(3, 8): (-0.0030276313778828164-1.4612808927579145e-18j)\t(-0.002671809200854661+4.144061637055706e-18j)\t3.56E-04 8.82E-01\n",
      "(4, 0): (0.0005005654521122336+5.589664533703061e-18j)\t(0.009762905178543942-1.1564823173178713e-18j)\t9.26E-03 1.95E+01\n",
      "(4, 1): (0.02439823010849683+1.0793834961633471e-17j)\t(0.030771091411300022+1.4648776019359705e-17j)\t6.37E-03 1.26E+00\n",
      "(4, 2): (0.02623875944391386+1.2721305490496577e-17j)\t(0.014372059682713772+3.854941057726238e-19j)\t1.19E-02 5.48E-01\n",
      "(4, 6): (0.0055917626143194175+3.2766998990673376e-18j)\t(0.015968887900469055+1.3106799596269209e-17j)\t1.04E-02 2.86E+00\n",
      "(4, 7): (-0.003987067824385984+1.566069804701283e-17j)\t(0.01675564710895001+1.2335811384723961e-17j)\t2.07E-02 -4.20E+00\n",
      "(4, 8): (-0.0063112134059070376+3.470537207776461e-18j)\t(-0.0024592406540138003-8.480870326997723e-18j)\t3.85E-03 3.90E-01\n",
      "(5, 0): (0.017337941484815617+2.2358658134812138e-17j)\t(0.02619572168080239+1.6190752442450197e-17j)\t8.86E-03 1.51E+00\n",
      "(5, 1): (0.009547432812677788+4.625929269271525e-18j)\t(0.013048594452260198+1.5034270125132327e-17j)\t3.50E-03 1.37E+00\n",
      "(5, 2): (-0.0026718092008546535+4.1440616370556264e-18j)\t(-0.0030276313778828294-1.461280892757919e-18j)\t3.56E-04 1.13E+00\n",
      "(5, 3): (0.015968887900469044+1.3106799596269189e-17j)\t(0.005591762614319407+3.2766998990673022e-18j)\t1.04E-02 3.50E-01\n",
      "(5, 4): (0.016755647108950004+1.2335811384723927e-17j)\t(-0.003987067824385996+1.566069804701284e-17j)\t2.07E-02 -2.38E-01\n",
      "(5, 5): (-0.002459240654013793-8.480870326997755e-18j)\t(-0.0063112134059070445+3.470537207776429e-18j)\t3.85E-03 2.57E+00\n",
      "(6, 3): (0.0026234487945773284-4.625929269271477e-18j)\t(0.014456671962087704+0j)\t1.18E-02 5.51E+00\n",
      "(6, 4): (0.01833257987430411+6.746146851020914e-18j)\t(0.033306737971570535+1.2721305490496585e-17j)\t1.50E-02 1.82E+00\n",
      "(6, 5): (0.02275916800811756+5.782411586589383e-18j)\t(0.00244927363119625+2.3129646346357427e-18j)\t2.03E-02 1.08E-01\n",
      "(6, 6): (0.01468142920946506+2.3129646346357184e-18j)\t(0.010397611146848134+7.902629168338788e-18j)\t4.28E-03 7.08E-01\n",
      "(6, 7): (0.020013147886900128+1.9467452341517402e-17j)\t(-0.008763171124116705-4.240435163498861e-18j)\t2.88E-02 -4.38E-01\n",
      "(6, 8): (0.0291673629509112+1.515205373842522e-17j)\t(-0.010287335832042697+1.5419764230904953e-17j)\t3.95E-02 -3.53E-01\n",
      "(7, 0): (0.014456671962087712+1.3755425602301049e-32j)\t(0.0026234487945773293-4.625929269271485e-18j)\t1.18E-02 1.81E-01\n",
      "(7, 1): (0.033306737971570514+1.2721305490496585e-17j)\t(0.018332579874304124+6.7461468510209164e-18j)\t1.50E-02 5.50E-01\n",
      "(7, 2): (0.0024492736311962564+2.3129646346357592e-18j)\t(0.022759168008117593+5.7824115865893565e-18j)\t2.03E-02 9.29E+00\n",
      "(7, 6): (0.010519367472682093+1.1564823173178827e-18j)\t(0.023256971559115797+1.3877787807814457e-17j)\t1.27E-02 2.21E+00\n",
      "(7, 7): (0.017223829946597855+7.999002694781962e-18j)\t(-0.0058180910920507915+3.854941057726238e-18j)\t2.30E-02 -3.38E-01\n",
      "(7, 8): (0.025213320748729912+1.7578160151437467e-17j)\t(0.0002066370847693228-3.854941057726238e-19j)\t2.50E-02 8.20E-03\n",
      "(8, 0): (0.01039761114684812+7.902629168338789e-18j)\t(0.014681429209465061+2.3129646346357427e-18j)\t4.28E-03 1.41E+00\n",
      "(8, 1): (-0.008763171124116656-4.240435163498871e-18j)\t(0.020013147886900128+1.94674523415175e-17j)\t2.88E-02 -2.28E+00\n",
      "(8, 2): (-0.010287335832042688+1.5419764230904953e-17j)\t(0.029167362950911217+1.515205373842521e-17j)\t3.95E-02 -2.84E+00\n",
      "(8, 3): (0.023256971559115797+1.387778780781442e-17j)\t(0.01051936747268207+1.1564823173178713e-18j)\t1.27E-02 4.52E-01\n",
      "(8, 4): (-0.005818091092050792+3.854941057726309e-18j)\t(0.01722382994659787+7.999002694781943e-18j)\t2.30E-02 -2.96E+00\n",
      "(8, 5): (0.0002066370847693337-3.8549410577265016e-19j)\t(0.02521332074872993+1.7578160151437504e-17j)\t2.50E-02 1.22E+02\n"
     ]
    },
    {
     "name": "stderr",
     "output_type": "stream",
     "text": [
      "C:\\ProgramData\\Anaconda3\\lib\\site-packages\\ipykernel_launcher.py:13: ComplexWarning: Casting complex values to real discards the imaginary part\n",
      "  del sys.path[0]\n"
     ]
    }
   ],
   "source": [
    "check_against_wigner(wm_rho, rho)\n"
   ]
  },
  {
   "cell_type": "code",
   "execution_count": 20,
   "metadata": {},
   "outputs": [
    {
     "data": {
      "text/plain": [
       "(5723.318149369891+2.7434806851305426e-14j)"
      ]
     },
     "execution_count": 20,
     "metadata": {},
     "output_type": "execute_result"
    }
   ],
   "source": [
    "dist_sq(wm_rho, mA, norm)"
   ]
  },
  {
   "cell_type": "code",
   "execution_count": 21,
   "metadata": {},
   "outputs": [
    {
     "data": {
      "text/plain": [
       "(5720.447390319194+3.0435837034568105e-14j)"
      ]
     },
     "execution_count": 21,
     "metadata": {},
     "output_type": "execute_result"
    }
   ],
   "source": [
    "dist_sq(mB, mA, norm)"
   ]
  },
  {
   "cell_type": "code",
   "execution_count": null,
   "metadata": {},
   "outputs": [],
   "source": []
  }
 ],
 "metadata": {
  "kernelspec": {
   "display_name": "Python 3",
   "language": "python",
   "name": "python3"
  },
  "language_info": {
   "codemirror_mode": {
    "name": "ipython",
    "version": 3
   },
   "file_extension": ".py",
   "mimetype": "text/x-python",
   "name": "python",
   "nbconvert_exporter": "python",
   "pygments_lexer": "ipython3",
   "version": "3.6.5"
  }
 },
 "nbformat": 4,
 "nbformat_minor": 2
}
