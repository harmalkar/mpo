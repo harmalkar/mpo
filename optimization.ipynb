{
 "cells": [
  {
   "cell_type": "markdown",
   "metadata": {},
   "source": [
    "# Creation\n",
    "Algorithm: Given an operator $\\rho_{i,j}\\left|i\\right>\\left<j\\right|$ with indices $i,j\\in\\mathbb Z_d^n$:\n",
    "(<mark>todo: update max bond dimension to shrink after middle index reached</mark>)\n",
    "1. Reshape: $\\rho_{i,j}= P_{(i_1\\cdots i_n),(j_1\\cdots j_n)}$ has dimensions $d^n\\times d^n$\n",
    "2. Permute: $P_{(i_1\\cdots i_n),(j_1\\cdots j_n)}= T_{(i_1j_1),\\cdots ,(i_nj_n)}$ has dimensions $d^2\\times\\cdots \\times d^2$ ($n$ times)\n",
    "3. Collect: $T_{(i_1j_1),(i_2j_2\\cdots i_nj_n)}$ has dimensions $d^2\\times d^{2(n-1)}$\n",
    "4. First site:\n",
    "\t- SVD: $T_{(i_1j_1),(i_2j_2\\cdots i_nj_n)}=\\sum_{\\alpha\\in \\mathbb Z_{D_1}} U_{(i_1j_1),\\alpha}S_{\\alpha,\\alpha} (V^\\dagger)_{\\alpha,(i_2j_2\\cdots i_nj_n)}$, where $D_1\\in \\{1,\\cdots,d^2\\}$ is determined by truncation \n",
    "\t- Save: $M^{(1)}_{\\alpha,u,\\beta}=\\delta_{\\alpha,1}U_{u,\\beta}$ has dimensions $1\\times d^2\\times D_1$\n",
    "\t- Update: $T^{(1)}_{(\\alpha i_2j_2),(i_3j_3\\cdots i_nj_n)}=S_{\\alpha,\\alpha}(V^\\dagger)_{\\alpha,(i_2j_2\\cdots i_nj_n)}$ has dimensions $D_1 d^2\\times d^{2(n-2)}$\n",
    "5. Inner sites: For $k\\in \\{2,\\cdots,n-1\\}$:\n",
    "\t- SVD: $T^{(k)}_{(\\alpha i_kj_k),(i_{k+1}j_{k+1}\\cdots i_nj_n)}=\\sum_{\\beta\\in \\mathbb Z_{D_k}} U_{(\\alpha i_kj_k),\\beta}S_{\\beta,\\beta} (V^\\dagger)_{\\beta,(i_{k+1}j_{k+1}\\cdots i_nj_n)}$, where $D_k\\in\\{1,\\cdots,D_{k-1}d^2\\}$\n",
    "\t- Save: $M^{(k)}_{\\alpha,u,\\beta}=U_{(\\alpha u),\\beta}$ has dimensions $D_{k-1}\\times d^2\\times D_k$\n",
    "\t- Update: $T_{(\\alpha i_{k+1}j_{k+1}),(i_{k+2}j_{k+2}\\cdots i_nj_n)}=S_{\\alpha,\\alpha} (V^\\dagger)_{\\alpha,(i_{k+1}j_{k+1}\\cdots i_nj_n)}$ has dimensions $D_k d^2\\times d^{2(n-k-1)}$\n",
    "6. Last site:\n",
    "\t- Save: $M^{(n)}_{\\alpha,u,\\beta}=T^{(n-1)}_{(\\alpha,u),\\beta}$ has dimensions $D_{n-1}\\times d^2\\times 1$ (note that $T^{(n-1)}_{(\\alpha i_nj_n),\\beta}$ has dimensions $D_{n-1} d^2\\times 1$)\n",
    "7. Return $\\{M^{(k)}\\}_{k\\in\\mathbb Z_n}$"
   ]
  },
  {
   "cell_type": "code",
   "execution_count": 1,
   "metadata": {},
   "outputs": [],
   "source": [
    "import numpy as np\n",
    "from numpy import linalg as la\n",
    "\n",
    "def state_to_tensor(state, n, d):\n",
    "    tensor_shape = tuple([d]*(2*n))\n",
    "    tensor = state.reshape(tensor_shape)\n",
    "    return tensor\n",
    "    \n",
    "def tensor_to_local_tensor(tensor, n, d):\n",
    "    local_axes = [int(i/2) if i%2 == 0 else int(n + (i/2)) for i in range(2*n)]\n",
    "    original_axes = [i for i in range(2*n)]\n",
    "    return np.moveaxis(tensor, original_axes, local_axes)\n",
    "\n",
    "def tensor_to_mpo(tensor, n, d, verbose = False, **kwargs):\n",
    "    # If not given a maximum bond dimension, set it to the maximum possible - d^(4n) (TODO)?\n",
    "    #TODO: add a truncation magnitude cuttoff instead of just max_bd\n",
    "    max_bd = kwargs.get('max_bd', d**(4*n))\n",
    "    \n",
    "    # Preparing for first SVD: Constructing environment tensor T for first site\n",
    "    d2 = d**2\n",
    "    T = tensor.reshape((d2,d2**(n-1)))\n",
    "    if verbose:\n",
    "        print(0, \"Initial T:\\t\\t\\t\\t\", T.shape)\n",
    "\n",
    "    # First site\n",
    "    mpo = [0]*n\n",
    "    U, S, Vt = la.svd(T, full_matrices = False)\n",
    "    U = U[:,:max_bd]\n",
    "    S = S[:max_bd]\n",
    "    Vt = Vt[:max_bd,:]\n",
    "    mpo[0] = U.reshape((1,U.shape[0],U.shape[1]))\n",
    "    T = np.dot(np.diag(S),Vt).reshape(S.size*d2,int(Vt.shape[1]/d2))\n",
    "    if verbose:\n",
    "        print(1, U.shape, Vt.shape, \"\\t->\", mpo[0].shape, \"\\t\", T.shape, \"\\t\", S.size)\n",
    "\n",
    "    # Interior sites\n",
    "    for i in range(1,n-1):\n",
    "            U, S, Vt = la.svd(T, full_matrices = False)\n",
    "            U = U[:,:max_bd]\n",
    "            S = S[:max_bd]\n",
    "            Vt = Vt[:max_bd,:]\n",
    "            mpo[i] = U.reshape((int(U.shape[0]/d2),d2,U.shape[1]))\n",
    "            T = np.dot(np.diag(S),Vt).reshape((S.size*d2,int(Vt.shape[1]/d2)))\n",
    "            if verbose:\n",
    "                print(i+1, U.shape, Vt.shape, \"\\t->\", mpo[i].shape, \"\\t\", T.shape, \"\\t\", S.size)\n",
    "\n",
    "    # Last site\n",
    "    mpo[n-1] = np.dot(np.diag(S),Vt).reshape((S.size, Vt.shape[0], 1))\n",
    "    if verbose:\n",
    "        print(n, \"Final Matrix:\\t\\t  \", mpo[n-1].shape)\n",
    "\n",
    "    return mpo\n",
    "\n",
    "# Given a density matrix, return its matrix product operator representation\n",
    "# Indices are stored in the following format: (bond,phys,bond)\n",
    "# Usage: state_to_mpo(state, n, d, verbose) or state_to_mpo(state, n, d, verbose, max_bd). verbose defaults to False if not given.\n",
    "def state_to_mpo(state, n, d, verbose=False, **kwargs):\n",
    "    tensor = state_to_tensor(state, n, d)\n",
    "    local_tensor = tensor_to_local_tensor(tensor, n, d)\n",
    "    return tensor_to_mpo(local_tensor, n, d, verbose, **kwargs)"
   ]
  },
  {
   "cell_type": "markdown",
   "metadata": {},
   "source": [
    "We can run this algorithm on a randomly generated density matrix:"
   ]
  },
  {
   "cell_type": "code",
   "execution_count": 2,
   "metadata": {},
   "outputs": [],
   "source": [
    "# Generate a mixed state of randomly sampled pure qudit states                                                 \n",
    "# d - onsite hilbert space dimension\n",
    "# N - number of sites\n",
    "# M - number of pure states used\n",
    "def random_mixed_state(N,d=3,M=10):\n",
    "        states = [random_state(N,d) for i in range(M)]\n",
    "        weights = [np.random.uniform(low=0.0,high=1.0) for i in range(M)]\n",
    "        total_weight = sum(weights)\n",
    "        state = np.zeros((d**N,d**N))\n",
    "        for i in range(M):\n",
    "                state = state + (weights[i]/total_weight) * np.outer(states[i],states[i].conj())\n",
    "        return state\n",
    "\n",
    "# Generate a random qudit state\n",
    "# d - onsite hilbert space dimension\n",
    "# N - number of sites\n",
    "def random_state(N,d=3):\n",
    "        normals = [np.random.standard_normal(size=d**N) for i in range(2)]\n",
    "        state = np.array([normals[0][i] + 1j * normals[1][i] for i in range(d**N)])\n",
    "        state /= la.norm(state)\n",
    "        return state"
   ]
  },
  {
   "cell_type": "markdown",
   "metadata": {},
   "source": [
    "I should expect to see the following dimensions of my matrices and local tensor after performing each SVD for $d=3,n=5$: The density matrix has dimensions $3^5\\times 3^5$ and the environment tensor $T$ starts out with dimensions $9\\times 9^4$. After each step, we should expect $D_k=9^k$ <mark>(TODO: update this)</mark>"
   ]
  },
  {
   "cell_type": "code",
   "execution_count": 3,
   "metadata": {},
   "outputs": [
    {
     "name": "stdout",
     "output_type": "stream",
     "text": [
      "0 Initial T:\t\t\t\t (9, 9)\n",
      "1 (9, 9) (9, 9) \t-> (1, 9, 9) \t (81, 1) \t 9\n",
      "2 Final Matrix:\t\t   (9, 9, 1)\n"
     ]
    }
   ],
   "source": [
    "d = 3\n",
    "n = 2\n",
    "rho = random_mixed_state(n,d)\n",
    "m_rho = state_to_mpo(rho,n,d,verbose=True)"
   ]
  },
  {
   "cell_type": "markdown",
   "metadata": {},
   "source": [
    "To check that the MPO procedure returned an operator corresponding to the same operator which we input into the algorithm, we can use numpy's unravel_index method to compute each matrix element and check:"
   ]
  },
  {
   "cell_type": "code",
   "execution_count": 4,
   "metadata": {},
   "outputs": [
    {
     "name": "stdout",
     "output_type": "stream",
     "text": [
      "True\n"
     ]
    }
   ],
   "source": [
    "def check_coefficients(mpo, state):\n",
    "    # Calculate tensor of MPO coefficients\n",
    "    mpo_tensor_shape = tuple([d**2]*n)\n",
    "    mpo_tensor = np.zeros(mpo_tensor_shape, dtype=np.complex128)\n",
    "    for u in range(d**(2*n)):\n",
    "        # Calculate coefficient\n",
    "        index = np.unravel_index(u,mpo_tensor_shape)\n",
    "        coefficient = np.identity(1,dtype=np.complex128)\n",
    "        for i in range(n):\n",
    "            coefficient = np.dot(coefficient, mpo[i][:,index[i],:])\n",
    "        mpo_tensor[index] = coefficient[0][0]\n",
    "        \n",
    "    # Reshape into state\n",
    "    state_tensor_shape = tuple([d]*(2*n))\n",
    "    mpo_state = mpo_tensor.reshape(state_tensor_shape)\n",
    "    tensor_axes = [i for i in range(2*n)]\n",
    "    T_axes = [int(i/2) if i%2 == 0 else int(n + (i/2)) for i in range(2*n)]\n",
    "    mpo_state = np.moveaxis(mpo_state, T_axes, tensor_axes)\n",
    "    mpo_state = mpo_state.reshape((d**n,d**n))\n",
    "    print(np.allclose(mpo_state, state))\n",
    "    \n",
    "check_coefficients(m_rho, rho)"
   ]
  },
  {
   "cell_type": "markdown",
   "metadata": {},
   "source": [
    "# Inner products\n",
    "The Frobenius norm overlap between two operators is defined to be\n",
    "$$\\left<\\rho|\\sigma\\right>=\\mathrm{Tr}\\left[\\rho^\\dagger\\sigma\\right]=\\sum_u \\left(\\prod_i \\rho^{(i)u_i}\\right)^*\\left(\\prod_j \\sigma^{(i)u_j}\\right),$$\n",
    "where $*$ denotes element-wise complex conjugation. This can be calculated in a linear number of computations in $d$ and $n$ and cubic in $D^\\sigma$ and $D^\\rho$ like so:\n",
    "1. $M_{\\alpha\\beta} = \\sum_{u\\in \\mathbb Z_d}(\\rho^{(1)}_{1u\\alpha})^*\\sigma^{(1)}_{1u\\beta}$\n",
    "2. For $k\\in\\{2,\\cdots,n\\}:$\n",
    "    - $M_{\\alpha\\beta}\\leftarrow \\sum_{u\\in \\mathbb Z_d,\\mu\\in\\mathbb Z_{D^\\rho_k},\\mu\\in\\mathbb Z_{D^\\sigma_k}}(\\rho^{(k)}_{\\mu u \\alpha})^*M_{\\mu \\nu}\\sigma^{(k)}_{\\nu u \\beta}$\n",
    "3. Return $M_{11}$\n",
    "\n",
    "Note that the matrix elements are stored like so: $\\rho^{(k)u}_{\\alpha\\beta}=\\rho^{(k)}_{\\alpha u \\beta}$, and $D^\\rho_k$ denotes the bond dimension of $\\rho^{(k)}$ at site $k$ "
   ]
  },
  {
   "cell_type": "code",
   "execution_count": 5,
   "metadata": {
    "scrolled": true
   },
   "outputs": [
    {
     "name": "stdout",
     "output_type": "stream",
     "text": [
      "True\n"
     ]
    }
   ],
   "source": [
    "# Frobenius inner product tr[A^\\dagger B] between two states A and B represented by mpos \n",
    "# norm: Frobenius normalization of local basis elements used in MPO representation (norm = Tr[A_u^\\dagger A_v])\n",
    "# Assumptions:\n",
    "#       len(m1) = len(m2)                                       [same length]\n",
    "#       m1[i].shape = m2[i].shape = (bond,phys,bond)            [same bond and phys dim at each site]\n",
    "#       m1[0].shape = (1,_,_) and m1[-1].shape = (_,_,1)        [closed boundary conditions]\n",
    "def inner_prod(m1, m2, norm=1):\n",
    "        # Extract length, phys dim, and first site bond dim\n",
    "        n = len(m1)\n",
    "\n",
    "        #print(m1[0][0].shape, m2[0][0].shape)\n",
    "        # First site\n",
    "        M = np.tensordot(m1[0][0].conj(),m2[0][0],axes=([0,0]))      # sum over physical indices (grab the first and only matrix due to fixed bdry cond.)\n",
    "\n",
    "        #print(0,m1[0].shape,M.shape)\n",
    "        # Rest of contraction\n",
    "        for i in range(1,n):\n",
    "                M = np.tensordot(M,m1[i].conj(),axes=([0,0]))\n",
    "                M = np.tensordot(M,m2[i],axes=([0,1],[0,1]))\n",
    "                #print(i,m1[i].shape, M.shape)\n",
    "        return M[0][0]*norm\n",
    "print(np.absolute(inner_prod(m_rho,m_rho) - np.trace(np.dot(rho.conj().T,rho))) < 1e-14)"
   ]
  },
  {
   "cell_type": "markdown",
   "metadata": {},
   "source": [
    "## Moving to phase space\n",
    "\n",
    "We formed our MPO like so: $\\rho_{ij}\\left|i\\right>\\left<j\\right|=\\rho_{(i_1\\cdots i_n)(j_1\\cdots j_n)}(\\left|i_1\\right>\\otimes \\cdots \\otimes \\left|i_n\\right>)(\\left<j_1\\right|\\otimes \\cdots \\otimes \\left<j_n\\right|)=\\sum_{i_kj_k\\alpha _k}\\rho^{(1)}_{\\alpha_0(i_1j_1)\\alpha_1}\\left|i_1\\right>\\left<j_1\\right|\\otimes\\cdots\\otimes \\rho^{(n)}_{\\alpha_{n-1}(i_nj_n)\\alpha_n}\\left|i_n\\right>\\left<j_n\\right|$. This gave us a matrix product operator of the form $\\sum_{u,\\alpha} \\otimes_k \\rho^{(k)u_k}_{\\alpha_k\\alpha_{k+1}}C_{u_k}$, where $C_u=C_{du_1+u_2}=\\left|u_1\\right>\\left<u_2\\right|$. We want to represent it in phase space, i.e. we want to find the MPO $\\tilde{\\rho}$ satisfying $\\sum_{u,\\alpha} \\otimes_k \\rho^{(k)u_k}_{\\alpha_k\\alpha_{k+1}} C_{u_k}=\\sum_{u,\\alpha} \\otimes_k \\tilde{\\rho}^{(k)u_k}_{\\alpha_k\\alpha_{k+1}} A_{u_k}$. Taking the Frobenius inner product with $A_v$ on both sides of this equation shows that the following choice works:\n",
    "\n",
    "$$\\tilde{\\rho}^{(k)u}_{\\alpha\\beta}=d^{-1}\\sum_v\\rho^{(k)v}_{\\alpha\\beta}\\mathrm{Tr}\\left[C_uA_v\\right]=d^{-1}\\sum_v\\rho^{(k)v}_{\\alpha\\beta}(A_v)_{u_1,u_2}$$\n",
    "\n",
    "The last equality arises because $\\mathrm{Tr}[C_u A_v]=\\sum_k \\left<k|u_1\\right>\\left<u_2|A_v |k\\right>=\\left<u_1|A_v|u_2\\right>=(A_v)_{u_1,u_2}$, so the change-of-basis coefficients are proportional to the matrix elements of the phase space operators. \n",
    "\n",
    "Since $\\mathrm{Tr}[A_uA_v]=d\\delta_{u,v}$, the phase space basis is not normalized. This means that we pick up a Hilbert space factor when computing inner products:\n",
    "\n",
    "$$\\mathrm{Tr}[\\rho^\\dagger \\sigma]=d^n\\left<\\rho|\\sigma\\right>_A,$$\n",
    "\n",
    "where $\\left<\\rho|\\sigma\\right>_A$ denotes the contraction of the matrix product representations of the states $\\rho$ and $\\sigma$ in the phase space basis $A_u$."
   ]
  },
  {
   "cell_type": "code",
   "execution_count": 6,
   "metadata": {},
   "outputs": [],
   "source": [
    "import cmath\n",
    "import math\n",
    "\n",
    "d = 3   # qutrit\n",
    "\n",
    "# qutrit X and Z matrices\n",
    "omega = cmath.exp(cmath.pi*2j/d)\n",
    "X = np.array([[0,0,1],[1,0,0],[0,1,0]])\n",
    "Z = np.array([[1,0,0],[0,omega,0],[0,0,omega**2]])\n",
    "\n",
    "# 1-qudit pauli matrices\n",
    "T = np.array([[omega**(-2*a*b)*np.dot(la.matrix_power(Z,a),la.matrix_power(X,b)) for b in range(d)] for a in range(d)])\n",
    "\n",
    "# 1-qudit phase space operators (TODO: change the sum below to a numpy sum)\n",
    "A_0 = (1./d)*sum([sum([T[a,b] for b in range(d)]) for a in range(d)])\n",
    "A = np.zeros((d**2,d,d), dtype=np.complex128)\n",
    "for u in range(d**2):\n",
    "    index = np.unravel_index(u,(d,d))\n",
    "    A[u] = np.dot(T[index],np.dot(A_0,np.conj(T[index].T)))\n",
    "ps_coefficients = 1./d*A.reshape((d**2,d**2))\n",
    "\n",
    "# Computational basis C_u = |u_1><u_2|\n",
    "#comp_basis = np.zeros((d,d,d,d), dtype=np.complex128)\n",
    "#for i in range(d):\n",
    "#    for j in range(d):\n",
    "#        comp_basis[i,j,i,j] = 1\n",
    "#comp_basis = comp_basis.reshape((d**2,d,d))\n",
    "\n",
    "# Change of basis coefficients Tr[A_u^\\dagger C_u] = Tr[A_u C_u]\n",
    "#ps_coefficients = np.zeros((d**2,d**2),dtype=np.complex128)\n",
    "#for i in range(d**2):\n",
    "#    for j in range(d**2):\n",
    "#        ps_coefficients[i,j] = 1./d*np.trace(np.dot(A[i],comp_basis[j]))\n",
    "\n",
    "# change of basis coefficients\n",
    "# TODO: change this to a numpy array\n",
    "#ps_coefficients = [[np.trace(np.dot(A[u],comp_basis[v])) for u in range(d**2)] for v in range(d**2)]\n",
    "\n",
    "#TODO: get rid of for loops\n",
    "def basis_change(mpo, coefficients):\n",
    "    n = len(mpo)\n",
    "    _,d,_ = mpo[0].shape\n",
    "    \n",
    "    res = [None]*n\n",
    "    for k in range(n):\n",
    "        res[k] = np.zeros(mpo[k].shape, dtype=np.complex128)\n",
    "        temp = np.tensordot(mpo[k],coefficients,axes=([1,1])) # sum over physical indices\n",
    "        temp = np.moveaxis(temp, [0,1,2], [0,2,1])\n",
    "        res[k] = temp\n",
    "    return res"
   ]
  },
  {
   "cell_type": "markdown",
   "metadata": {},
   "source": [
    "Some checks to make sure that we did the change of basis correctly:"
   ]
  },
  {
   "cell_type": "code",
   "execution_count": 7,
   "metadata": {},
   "outputs": [],
   "source": [
    "# Check properties of phase space basis: Hermitian, Tr[A_uA_v] = d*delta_uv, Tr[A_u] = 1\n",
    "for i in range(d**2):\n",
    "    if np.absolute(np.trace(A[i]) - 1.) > 1e-14:\n",
    "        print(i, \"Trace error: expected 1, got \" + repr(np.trace(A[i])))\n",
    "    for j in range(d**2):\n",
    "        if abs(np.trace(np.dot(A[i],A[j])).imag) > 1e-14:\n",
    "            print(i,j,\"complex trace error!\")\n",
    "        if not(np.allclose(A[i].conj().T,A[i])):\n",
    "            print(i,j,\"hermiticity error!\")\n",
    "        if i == j:\n",
    "            if abs(np.trace(np.dot(A[i],A[j])).real - d) > 1e-14:\n",
    "                print(i,j,\"normalization error!\")\n",
    "        else:\n",
    "            if abs(np.trace(np.dot(A[i],A[j])).real) > 1e-14:\n",
    "                print(i,j,\"normalization error!\")\n",
    "\n",
    "# Check that inner product in new basis agrees with old basis\n",
    "m_rho_ps = basis_change(m_rho, ps_coefficients)\n",
    "if (abs(inner_prod(m_rho_ps,m_rho_ps,norm=d**n).imag) > 1e-12):\n",
    "    print(\"Inner product in new basis is imaginary\")\n",
    "if (abs(inner_prod(m_rho_ps,m_rho_ps,norm=d**n).real - inner_prod(m_rho,m_rho).real) > 1e-12):\n",
    "    print(\"Inner product in new basis does not match\")"
   ]
  },
  {
   "cell_type": "markdown",
   "metadata": {},
   "source": [
    "We can now calculate the Wigner function and estimations of magic:"
   ]
  },
  {
   "cell_type": "code",
   "execution_count": 8,
   "metadata": {},
   "outputs": [],
   "source": [
    "# n-dimensional phase space operators:\n",
    "A_n = np.zeros((d**(2*n),d**n,d**n),dtype=np.complex128)\n",
    "tensor_shape = tuple([d**2]*n)\n",
    "for u in range(d**(2*n)):\n",
    "    index = np.unravel_index(u,tensor_shape)\n",
    "    temp = np.identity(1,dtype=np.complex128)\n",
    "    for i in range(n):\n",
    "        temp = np.kron(temp, A[index[i]])\n",
    "    A_n[u] = temp\n",
    "    \n",
    "# Check properties of n-qudit phase space basis: Hermitian, Tr[A_uA_v] = d^n*delta_uv, Tr[A_u] = 1\n",
    "for i in range(d**(2*n)):\n",
    "    if np.absolute(np.trace(A_n[i]) - 1.) > 1e-14:\n",
    "        print(i, \"Trace error: expected 1, got \" + repr(np.trace(A_n[i])))\n",
    "    for j in range(d**(2*n)):\n",
    "        if abs(np.trace(np.dot(A_n[i],A_n[j])).imag) > 1e-14:\n",
    "            print(i,j,\"complex trace error!\")\n",
    "        if not(np.allclose(A_n[i].conj().T,A_n[i])):\n",
    "            print(i,j,\"hermiticity error!\")\n",
    "        if i == j:\n",
    "            if abs(np.trace(np.dot(A_n[i],A_n[j])).real - (d**n)) > 1e-14:\n",
    "                print(i,j,\"normalization error!\")\n",
    "        else:\n",
    "            if abs(np.trace(np.dot(A_n[i],A_n[j])).real) > 1e-14:\n",
    "                print(i,j,\"normalization error!\")\n",
    "    \n",
    "# Wigner function, magic estimates\n",
    "def wigner(state, n, d):\n",
    "    W = np.zeros((d**(2*n)), dtype=np.complex128)\n",
    "    M = 0. #old magic quantifier (\"mana\" in arxiv:1307.7171)\n",
    "    N = 0. #new magic quantifier\n",
    "    for u in range(d**(2*n)):\n",
    "        W[u] = 1./(d**n)*np.trace(np.dot(state,A_n[u]))\n",
    "        if W[u].real < 0:\n",
    "            M -= W[u].real\n",
    "            N += (W[u].real)**2\n",
    "    N = math.sqrt(N)\n",
    "    return W, M, N"
   ]
  },
  {
   "cell_type": "markdown",
   "metadata": {},
   "source": [
    "# Debugging\n",
    "Unfortunately, the squared distance comes out to be complex, which isn't good.. let's try to debug:"
   ]
  },
  {
   "cell_type": "code",
   "execution_count": 12,
   "metadata": {},
   "outputs": [
    {
     "name": "stdout",
     "output_type": "stream",
     "text": [
      "(0.21248988819112444+1.7333369499485123e-33j)\n",
      "Magnitude of complex value: 9.889678571003054e-15\n",
      "Coefficents were all real!\n"
     ]
    }
   ],
   "source": [
    "#mA = gen_mpo(n,d**2,10)\n",
    "norm = d**n\n",
    "mB = m_rho_ps\n",
    "#print(inner_prod(mA,mA,norm))\n",
    "print(inner_prod(mB,mB,norm))\n",
    "#print(inner_prod(mA,mB,norm))\n",
    "print(\"Magnitude of complex value: \" + repr(np.amax( [np.amax(np.abs(np.imag(mB[j]) ) ) for j in range(n) ] )))\n",
    "\n",
    "# Check that an mpo in the phase space basis represents a hermitian operator\n",
    "def check_real_coefficients(mpo):\n",
    "    good = True\n",
    "    tensor_shape = tuple([d**2]*n)\n",
    "    for u in range(d**(2*n)):\n",
    "        index = np.unravel_index(u,tensor_shape)\n",
    "        coefficient = np.identity(1,dtype=np.complex128)\n",
    "        for i in range(n):\n",
    "            coefficient = np.dot(coefficient, mpo[i][:,index[i],:])\n",
    "        if (coefficient[0][0].imag > 1e-16):\n",
    "            good = False\n",
    "            print(\"Coefficient \" + repr(index) + \" is complex with value \" + repr(coefficient[0][0]))\n",
    "    if good:\n",
    "        print(\"Coefficents were all real!\")\n",
    "        \n",
    "#check_real_coefficients(mA)\n",
    "check_real_coefficients(mB)\n"
   ]
  },
  {
   "cell_type": "markdown",
   "metadata": {},
   "source": [
    "Is my random state even hermitian? What's going on here.."
   ]
  },
  {
   "cell_type": "code",
   "execution_count": 13,
   "metadata": {},
   "outputs": [
    {
     "name": "stdout",
     "output_type": "stream",
     "text": [
      "True\n"
     ]
    }
   ],
   "source": [
    "print(np.allclose(rho,rho.T.conj()))"
   ]
  },
  {
   "cell_type": "markdown",
   "metadata": {},
   "source": [
    "Ok... what about the Wigner function? Does it agree with these coefficients?"
   ]
  },
  {
   "cell_type": "code",
   "execution_count": 14,
   "metadata": {},
   "outputs": [
    {
     "name": "stdout",
     "output_type": "stream",
     "text": [
      "(0, 3): (0.0069071874717769165+9.467479659412528e-18j)\t(0.0018823684160306376-3.854941057726238e-19j)\t5.02E-03 2.73E-01\n",
      "(0, 4): (0.004428268788187093+4.559469753149094e-18j)\t(0.024341191334286614+1.0793834961633465e-17j)\t1.99E-02 5.50E+00\n",
      "(0, 5): (0.013456852640781678-1.313491941943066e-17j)\t(0.04363308612980813+1.4648776019359705e-17j)\t3.02E-02 3.24E+00\n",
      "(0, 6): (0.0018823684160306573+3.8327006468390344e-19j)\t(0.006907187471776913+1.6576246548222823e-17j)\t5.02E-03 3.67E+00\n",
      "(0, 7): (0.024341191334286593+1.3000759898958338e-17j)\t(0.004428268788187093+5.493291007259889e-18j)\t1.99E-02 1.82E-01\n",
      "(0, 8): (0.0436330861298081+2.9044893854415577e-17j)\t(0.013456852640781673+4.625929269271485e-18j)\t3.02E-02 3.08E-01\n",
      "(1, 3): (0.005815822685946541+1.73959281437343e-18j)\t(0.0174400087716897+1.5034270125132327e-17j)\t1.16E-02 3.00E+00\n",
      "(1, 4): (0.01041833413023997+1.0362298566932867e-17j)\t(-0.005981241913337974-3.662194004839926e-18j)\t1.64E-02 -5.74E-01\n",
      "(1, 5): (0.015610145992218001-5.057048322139348e-19j)\t(0.017017535619262416+1.4456028966473391e-18j)\t1.41E-03 1.09E+00\n",
      "(1, 6): (0.0174400087716897+1.7941970123501834e-17j)\t(0.005815822685946544+4.336808689942018e-18j)\t1.16E-02 3.33E-01\n",
      "(1, 7): (-0.0059812419133379756+1.1861768076444045e-18j)\t(0.010418334130239983+1.4841523072246016e-17j)\t1.64E-02 -1.74E+00\n",
      "(1, 8): (0.017017535619262416+1.1689511942498204e-17j)\t(0.015610145992218006-9.637352644315595e-19j)\t1.41E-03 9.17E-01\n",
      "(2, 3): (0.013703504316103326+7.266850957240538e-18j)\t(0.010724943462028189+7.902629168338788e-18j)\t2.98E-03 7.83E-01\n",
      "(2, 4): (0.01334497181741973+3.758204642048705e-18j)\t(0.022396542997214854+5.7824115865893565e-18j)\t9.05E-03 1.68E+00\n",
      "(2, 5): (0.009205345062180573+1.2002087958195185e-17j)\t(0.00919365337639558+6.518027472222922e-18j)\t1.17E-05 9.99E-01\n",
      "(2, 6): (0.010724943462028206+5.464454477063712e-18j)\t(0.01370350431610333+7.806255641895632e-18j)\t2.98E-03 1.28E+00\n",
      "(2, 7): (0.02239654299721484+6.997393740093317e-18j)\t(0.013344971817419714+5.3969174808167325e-18j)\t9.05E-03 5.96E-01\n",
      "(2, 8): (0.009193653376395598+4.9143167406502164e-18j)\t(0.009205345062180566+1.069755255982016e-17j)\t1.17E-05 1.00E+00\n",
      "(3, 0): (0.005965063392250371-1.181423454773442e-18j)\t(0.03353602660587732+1.0022846750088219e-17j)\t2.76E-02 5.62E+00\n",
      "(3, 1): (0.006275331569564556+2.6882296010795006e-18j)\t(0.017775666253320867+1.262493196405343e-17j)\t1.15E-02 2.83E+00\n",
      "(3, 2): (-0.013066281646956302-4.25790319045364e-18j)\t(0.009240199933151788+3.0839528461809902e-18j)\t2.23E-02 -7.07E-01\n",
      "(3, 3): (0.007033906247504444-2.31530915537567e-18j)\t(0.020952370198470103+7.324388009679852e-18j)\t1.39E-02 2.98E+00\n",
      "(3, 4): (0.02397461871534666+1.2991672704571758e-17j)\t(0.015190511003080305+1.1372076120292402e-17j)\t8.78E-03 6.34E-01\n",
      "(3, 5): (0.006496345565765816+1.322591126957216e-17j)\t(0.02912775900678643+1.2335811384723961e-17j)\t2.26E-02 4.48E+00\n",
      "(3, 6): (0.015176233383366797+1.0027133397121837e-17j)\t(0.0009182337820708141+6.64977332457776e-18j)\t1.43E-02 6.05E-02\n",
      "(3, 7): (0.0012400353205699445-7.556638936645785e-18j)\t(0.007851417249837367+1.0408340855860843e-17j)\t6.61E-03 6.33E+00\n",
      "(3, 8): (-0.009986763651431438+2.345339170793302e-18j)\t(0.008466813403949782+9.25185853854297e-18j)\t1.85E-02 -8.48E-01\n",
      "(4, 0): (0.005342369786010045+5.500421877321213e-18j)\t(0.024597541083045987+8.769990906327191e-18j)\t1.93E-02 4.60E+00\n",
      "(4, 1): (0.03849757083778018+1.897892953100126e-17j)\t(0.00011213054689728982-2.3129646346357427e-18j)\t3.84E-02 2.91E-03\n",
      "(4, 2): (0.023503192898627998+7.839167163731557e-18j)\t(0.021673114560636957+7.709882115452476e-19j)\t1.83E-03 9.22E-01\n",
      "(4, 3): (0.010738220450005807+1.0841353614111163e-17j)\t(0.0031057907974571695+7.709882115452476e-19j)\t7.63E-03 2.89E-01\n",
      "(4, 4): (0.011151194169336397+2.3793894355093664e-19j)\t(-0.015770897663312734+1.0601087908747154e-17j)\t2.69E-02 -1.41E+00\n",
      "(4, 5): (0.016382878272520586+4.179745255442582e-18j)\t(0.02050426677804508+6.1679056923619804e-18j)\t4.12E-03 1.25E+00\n",
      "(4, 6): (0.013754935636873996+1.1633611119526468e-17j)\t(0.0020468329463392307+2.6984587404083662e-18j)\t1.17E-02 1.49E-01\n",
      "(4, 7): (0.009283103159672741+1.0493419733841461e-17j)\t(-0.002429457430798064+1.927470528863119e-18j)\t1.17E-02 -2.62E-01\n",
      "(4, 8): (0.04201042266174832+3.766103585120203e-17j)\t(0.03139301055970825+8.480870326997723e-18j)\t1.06E-02 7.47E-01\n",
      "(5, 0): (0.016701107770310013+1.0563537640699268e-17j)\t(0.027244274326586555+7.902629168338788e-18j)\t1.05E-02 1.63E+00\n",
      "(5, 1): (0.0020475925006222884-8.886348223085303e-18j)\t(0.009337272291618032+5.9751586394756685e-18j)\t7.29E-03 4.56E+00\n",
      "(5, 2): (0.00960544579075814+9.692528702445922e-18j)\t(0.01620402678306049+8.24421232400171e-18j)\t6.60E-03 1.69E+00\n",
      "(5, 3): (0.014808680742380924+3.859044281630971e-18j)\t(0.02327319415553036+1.0986582014519778e-17j)\t8.46E-03 1.57E+00\n",
      "(5, 4): (0.007145926174028965+4.898470936641576e-18j)\t(0.015822784284803566+3.0839528461809902e-18j)\t8.68E-03 2.21E+00\n",
      "(5, 5): (-0.0047505362409758865+4.621520441774993e-18j)\t(0.04048830888554655+1.747448672950262e-17j)\t4.52E-02 -8.52E+00\n",
      "(5, 6): (0.011553652624978266-3.579005450763997e-18j)\t(0.0047706254033573585+5.686038060146201e-18j)\t6.78E-03 4.13E-01\n",
      "(5, 7): (0.02557986561580701+7.251065004183989e-18j)\t(0.03141081698532168+2.3129646346357426e-17j)\t5.83E-03 1.23E+00\n",
      "(5, 8): (0.00560307783921274+2.403566285069109e-18j)\t(0.005334422031270118+5.848753480422287e-18j)\t2.69E-04 9.52E-01\n",
      "(6, 0): (0.033536026605877324+1.8296989124018125e-17j)\t(0.005965063392250399+8.095376221225099e-18j)\t2.76E-02 1.78E-01\n",
      "(6, 1): (0.017775666253320867+1.366246167557964e-17j)\t(0.006275331569564598+1.734723475976807e-18j)\t1.15E-02 3.53E-01\n",
      "(6, 2): (0.009240199933151774-1.2561288597782056e-18j)\t(-0.013066281646956307+4.240435163498861e-18j)\t2.23E-02 -1.41E+00\n",
      "(6, 3): (0.0009182337820708286+5.263739217498253e-18j)\t(0.015176233383366808+9.540979117872439e-18j)\t1.43E-02 1.65E+01\n",
      "(6, 4): (0.007851417249837365+9.976334198300024e-18j)\t(0.001240035320569931-5.493291007259889e-18j)\t6.61E-03 1.58E-01\n",
      "(6, 5): (0.008466813403949766+1.0424850288026472e-17j)\t(-0.00998676365143148+0j)\t1.85E-02 -1.18E+00\n",
      "(6, 6): (0.020952370198470092+7.876155425379407e-18j)\t(0.007033906247504438-4.240435163498861e-18j)\t1.39E-02 3.36E-01\n",
      "(6, 7): (0.015190511003080297+1.4727412212860293e-17j)\t(0.023974618715346677+1.4070534860700768e-17j)\t8.78E-03 1.58E+00\n",
      "(6, 8): (0.029127759006786387+1.1104874440941214e-17j)\t(0.006496345565765824+9.25185853854297e-18j)\t2.26E-02 2.23E-01\n",
      "(7, 0): (0.024597541083045973+6.396172801517516e-18j)\t(0.005342369786010005+8.095376221225099e-18j)\t1.93E-02 2.17E-01\n",
      "(7, 1): (0.00011213054689727719+6.189558248898829e-18j)\t(0.03849757083778022+2.1780416976153244e-17j)\t3.84E-02 3.43E+02\n",
      "(7, 2): (0.021673114560636968-8.184605015808946e-18j)\t(0.023503192898628+8.480870326997723e-18j)\t1.83E-03 1.08E+00\n",
      "(7, 3): (0.002046832946339252+1.3902490639436996e-18j)\t(0.013754935636873987+1.2914052543382896e-17j)\t1.17E-02 6.72E+00\n",
      "(7, 4): (-0.002429457430798085+6.4929039618752175e-18j)\t(0.009283103159672745+6.938893903907228e-18j)\t1.17E-02 -3.82E+00\n",
      "(7, 5): (0.03139301055970826+1.4158193696433192e-17j)\t(0.042010422661748335+2.929755203871941e-17j)\t1.06E-02 1.34E+00\n",
      "(7, 6): (0.0031057907974571383+6.863792979136459e-18j)\t(0.010738220450005814+1.5034270125132327e-17j)\t7.63E-03 3.46E+00\n",
      "(7, 7): (-0.01577089766331272-4.5134347171212826e-18j)\t(0.011151194169336421+9.25185853854297e-18j)\t2.69E-02 -7.07E-01\n",
      "(7, 8): (0.020504266778045083-1.9495102715197267e-18j)\t(0.016382878272520607+4.240435163498861e-18j)\t4.12E-03 7.99E-01\n",
      "(8, 0): (0.027244274326586555+1.3849263333896117e-17j)\t(0.016701107770310027+9.637352644315595e-18j)\t1.05E-02 6.13E-01\n",
      "(8, 1): (0.009337272291618017+1.2129248663965069e-17j)\t(0.0020475925006222776-3.662194004839926e-18j)\t7.29E-03 2.19E-01\n",
      "(8, 2): (0.0162040267830605+9.345081637834656e-18j)\t(0.009605445790758154+1.2304841816802712e-17j)\t6.60E-03 5.93E-01\n",
      "(8, 3): (0.004770625403357379+6.498210536430185e-18j)\t(0.011553652624978273-5.782411586589357e-19j)\t6.78E-03 2.42E+00\n",
      "(8, 4): (0.03141081698532166+2.5510029497065195e-17j)\t(0.02557986561580702+8.480870326997723e-18j)\t5.83E-03 8.14E-01\n",
      "(8, 5): (0.005334422031270096+4.586567113217227e-18j)\t(0.0056030778392127615+8.428316626034417e-18j)\t2.69E-04 1.05E+00\n",
      "(8, 6): (0.023273194155530356+7.458318083214675e-18j)\t(0.014808680742380918+5.5896645337030445e-18j)\t8.46E-03 6.36E-01\n",
      "(8, 7): (0.015822784284803566-1.121201357150471e-18j)\t(0.007145926174028969+0j)\t8.68E-03 4.52E-01\n",
      "(8, 8): (0.04048830888554652+2.8179913668514705e-17j)\t(-0.004750536240975906+1.0680371184768537e-17j)\t4.52E-02 -1.17E-01\n"
     ]
    },
    {
     "name": "stderr",
     "output_type": "stream",
     "text": [
      "C:\\ProgramData\\Anaconda3\\lib\\site-packages\\ipykernel_launcher.py:13: ComplexWarning: Casting complex values to real discards the imaginary part\n",
      "  del sys.path[0]\n"
     ]
    }
   ],
   "source": [
    "# Check that an mpo in the phase space basis represents a hermitian operator\n",
    "def check_against_wigner(mpo, state):\n",
    "    W, _, _ = wigner(state, n, d)\n",
    "    good = True\n",
    "    tensor_shape = tuple([d**2]*n)\n",
    "    for u in range(d**(2*n)):\n",
    "        index = np.unravel_index(u,tensor_shape)\n",
    "        coefficient = np.identity(1,dtype=np.complex128)\n",
    "        for i in range(n):\n",
    "            coefficient = np.dot(coefficient, mpo[i][:,index[i],:])\n",
    "        if (np.absolute(W[u] - coefficient[0][0]) > 1e-16):\n",
    "            good = False\n",
    "            print(repr(index) + \": \" + repr(coefficient[0][0]) +\"\\t\" + repr(W[u]) + \"\\t\" + (\"%.2E %.2E\" % (np.absolute(W[u] - coefficient[0][0]),W[u]/coefficient[0][0].real)))\n",
    "    if good:\n",
    "        print(\"Coefficents all agreed!\")\n",
    "        \n",
    "check_against_wigner(mB, rho)"
   ]
  },
  {
   "cell_type": "markdown",
   "metadata": {},
   "source": [
    "# Direct MPO representation of $W_\\rho(u)$\n",
    "Let's just make an MPO out of the Wigner function representation:"
   ]
  },
  {
   "cell_type": "code",
   "execution_count": 15,
   "metadata": {},
   "outputs": [],
   "source": [
    "def state_to_wigner_mpo(state, n, d):\n",
    "    W, _, _ = wigner(state, n, d)\n",
    "    #print(W.shape)\n",
    "    #state_shape = (d**2, d**2)\n",
    "    #W_state = W.reshape(state_shape)\n",
    "    return tensor_to_mpo(W, n, d)\n",
    "    \n",
    "#state_to_wigner_mpo(rho, n, d)"
   ]
  },
  {
   "cell_type": "code",
   "execution_count": 16,
   "metadata": {},
   "outputs": [
    {
     "name": "stdout",
     "output_type": "stream",
     "text": [
      "True\n",
      "True\n",
      "0.21248988819112444\n",
      "0.21248988819112505\n",
      "False\n",
      "[[[ 0.54170504 -0.08264519  0.27745211  0.05246758  0.19023122\n",
      "   -0.03621928 -0.17083038  0.02457942  0.24403007]\n",
      "  [ 0.36026505 -0.05327974 -0.09670411 -0.14957104  0.10160025\n",
      "    0.00492783 -0.02028121 -1.29348937 -0.23216417]\n",
      "  [ 0.39471535  0.10786092  0.06268749 -0.04133517  0.05178726\n",
      "    0.24494921  0.02728611  0.30271063 -1.05669757]\n",
      "  [ 0.44019359 -0.12896968  0.02289834  0.462568   -0.74870622\n",
      "   -0.22162912 -0.38650773  0.12228396 -0.01550069]\n",
      "  [ 0.53799806 -0.49857644 -0.51292706  0.72386738  0.41691856\n",
      "    0.34722691 -0.01412042  0.30146818  0.27514789]\n",
      "  [ 0.61861301  0.00572913 -0.20527939  0.02428556  0.34711787\n",
      "   -0.78245866  0.41230455 -0.10067143  0.1922236 ]\n",
      "  [ 0.29161959  0.37011476 -0.30546413 -0.46437259  0.72217937\n",
      "    0.18024213 -0.01969599  0.26262473  0.21164187]\n",
      "  [ 0.63709567  0.15162951  0.37026861 -0.83485505 -0.509858\n",
      "   -0.16999237  0.11199575  0.32854484  0.33759951]\n",
      "  [ 0.49152414  0.28140069  0.21533743  0.20548227 -0.31600505\n",
      "    0.7561995  -0.10956574 -0.28394322  0.44894941]]]\n"
     ]
    }
   ],
   "source": [
    "wm_rho = state_to_wigner_mpo(rho, n, d)\n",
    "print(np.absolute(inner_prod(mB,mB,norm) - inner_prod(m_rho,m_rho)) < 1e-14)\n",
    "print(np.absolute(inner_prod(wm_rho,wm_rho,norm) - inner_prod(m_rho, m_rho)) < 1e-14)\n",
    "print(np.absolute(inner_prod(mB,mB,norm)))\n",
    "print(np.absolute(inner_prod(wm_rho,wm_rho,norm)))\n",
    "print(np.allclose(wm_rho[0],mB[0]))\n",
    "print((wm_rho[0] - mB[0]).real)"
   ]
  },
  {
   "cell_type": "code",
   "execution_count": 17,
   "metadata": {},
   "outputs": [
    {
     "name": "stdout",
     "output_type": "stream",
     "text": [
      "Coefficents all agreed!\n"
     ]
    }
   ],
   "source": [
    "check_against_wigner(wm_rho, rho)\n"
   ]
  },
  {
   "cell_type": "code",
   "execution_count": 22,
   "metadata": {},
   "outputs": [
    {
     "name": "stdout",
     "output_type": "stream",
     "text": [
      "Magnitude of complex value: 4.659466026884019e-14\n"
     ]
    }
   ],
   "source": [
    "print(\"Magnitude of complex value: \" + repr(np.amax( [np.amax(np.abs(np.imag(wm_rho[j]) ) ) for j in range(n) ] )))"
   ]
  },
  {
   "cell_type": "markdown",
   "metadata": {},
   "source": [
    "# Optimization\n",
    "We now generate a random hermitian operator (not necessarily normalized) $\\sigma$ whose matrix product operator representation in the phase space basis has only non-negative elements. We then vary $\\sigma$ to reduce the squared distance\n",
    "\n",
    "$$d(\\rho,\\sigma)^2=\\mathrm{Tr}[(\\rho-\\sigma)^\\dagger(\\rho-\\sigma)]=\\mathrm{Tr}[\\rho^\\dagger\\rho]-\\mathrm{Tr}[\\rho^\\dagger\\sigma]-\\mathrm{Tr}[\\sigma^\\dagger\\rho]+\\mathrm{Tr}[\\sigma^\\dagger\\sigma],$$\n",
    "\n",
    "in the space of non-negative matrix product operators (i.e. constrained optimization with the constraints $\\sigma^{(k)}_{\\alpha,u,\\beta}\\geq 0$). Note that $\\sigma$ is a hermitian operator because it has a real Wigner function: \n",
    "$$\\sigma^{(k)}_{\\alpha,u,\\beta}\\geq 0\\Rightarrow\\left(\\sum_\\alpha \\prod_k \\sigma^{(k)}_{\\alpha_k,u_k,\\alpha_{k+1}}\\right)\\geq 0\\ \\forall  u\\Rightarrow \\mathrm{Tr}[\\sigma A_{u}]\\in\\mathbb R\\ \\forall u$$\n",
    "Since the phase space operators are hermitian and complete, this implies that\n",
    "$$\\sigma^\\dagger=\\left(d^{-n}\\sum_u \\mathrm{Tr}[\\sigma A_u]A_u\\right)^\\dagger=d^{-n}\\sum_u \\mathrm{Tr}[\\sigma A_u]^*A_u^\\dagger=d^{-n}\\sum_u \\mathrm{Tr}[\\sigma A_u]A_u=\\sigma.$$\n",
    "Using this and the fact that trace is cyclic, the squared distance simplifies to\n",
    "\n",
    "$$d(\\rho,\\sigma)^2=\\mathrm{Tr}[\\rho^\\dagger\\rho]-2\\mathrm{Tr}[\\sigma^\\dagger\\rho]+\\mathrm{Tr}[\\sigma^\\dagger\\sigma]$$"
   ]
  },
  {
   "cell_type": "code",
   "execution_count": 23,
   "metadata": {},
   "outputs": [],
   "source": [
    "import scipy as sp\n",
    "import time\n",
    "from scipy.optimize import minimize\n",
    "import sys\n",
    "\n",
    "#TODO: seed \n",
    "\n",
    "def dist_sq(m1, m2, norm):\n",
    "    return inner_prod(m1,m1,norm) - 2*inner_prod(m1,m2,norm) + inner_prod(m1,m2,norm)\n",
    "\n",
    "def dist(m1, m2, norm):\n",
    "    return math.pow(dist_sq(m1,m2,norm),1./2)\n",
    "\n",
    "def cost_fct(i, x, opt_mpo, mpo, norm):\n",
    "    opt_mpo[i] = x.reshape(opt_mpo[i].shape)\n",
    "    return inner_prod(opt_mpo, mpo, norm)\n",
    "\n",
    "# Generate random MPO with fixed bond dimension and random positive coefficients\n",
    "def gen_mpo(n, d, bd):\n",
    "    mpo = [None] * n\n",
    "    mpo[0] = np.random.rand(1,d,bd)\n",
    "    for i in range(1,n-1):\n",
    "        mpo[i] = np.random.rand(bd,d,bd)\n",
    "    mpo[n-1] = np.random.rand(bd,d,1)\n",
    "    return mpo\n",
    "    \n",
    "def optimize(mpo, n, d, bd = 10, nswp = 20, opt_method = 'L-BFGS-B'):\n",
    "    # Generate variational MPO\n",
    "    opt_mpo = gen_mpo(n, d, bd)\n",
    "    \n",
    "    # Compare initial distance (cost fct) and true distance (N)\n",
    "    print(\"Initial Distance: %g\" % dist(opt_mpo,mpo,norm))\n",
    "    _, _, true_dist = wigner(rho, n, d)\n",
    "    print(\"True Distance: %g\" % true_dist)\n",
    "\n",
    "    # Optimize D(A||B) on A to find closest positive repr MPO to B\n",
    "    print(\"Optimization method: %s\" % opt_method)\n",
    "    print(\"Sweep Site Distance Dist-True_Dist\")\n",
    "    #print(\"Half-sweep D(A||B) D(A||B)-D(A*||B) E(A) H_2(A)\\n\")\n",
    "    sys.stdout.flush()\n",
    "\n",
    "    dn = d**n\n",
    "    opt_bounds = [(0, None) for i1 in range(D_A*d)] #todo: need to impose constraints dependent on bond dim at that site\n",
    "    start_time = time.time()\n",
    "    for i in range(nswp):\n",
    "        for j in range(n):\n",
    "            opt_mpo[j] = minimize(lambda x:cost_fct(0,x,opt_mpo,mpo,dn), opt_mpo[j].flatten, method=opt_method, bounds=opt_bounds).x\n",
    "            print(\"%d %d %g %g %g %g\" % (i, j, dist(opt_mpo,mpo,dn), dist(opt_mpo,mpo,dn)-true_dist)) #vn_entropy(A), r_entropy(A,2)))\n",
    "            sys.stdout.flush()\n",
    "\n",
    "    print(\"\\nTime elapsed during optimization: %g\" % (time.time() - start_time))"
   ]
  },
  {
   "cell_type": "code",
   "execution_count": 24,
   "metadata": {},
   "outputs": [
    {
     "ename": "ValueError",
     "evalue": "shape-mismatch for sum",
     "output_type": "error",
     "traceback": [
      "\u001b[1;31m---------------------------------------------------------------------------\u001b[0m",
      "\u001b[1;31mValueError\u001b[0m                                Traceback (most recent call last)",
      "\u001b[1;32m<ipython-input-24-e3838bcfdeb3>\u001b[0m in \u001b[0;36m<module>\u001b[1;34m()\u001b[0m\n\u001b[1;32m----> 1\u001b[1;33m \u001b[0moptimize\u001b[0m\u001b[1;33m(\u001b[0m\u001b[0mwm_rho\u001b[0m\u001b[1;33m,\u001b[0m \u001b[0mn\u001b[0m\u001b[1;33m,\u001b[0m \u001b[0md\u001b[0m\u001b[1;33m)\u001b[0m\u001b[1;33m\u001b[0m\u001b[0m\n\u001b[0m",
      "\u001b[1;32m<ipython-input-23-23e8b8398eb9>\u001b[0m in \u001b[0;36moptimize\u001b[1;34m(mpo, n, d, bd, nswp, opt_method)\u001b[0m\n\u001b[0;32m     30\u001b[0m \u001b[1;33m\u001b[0m\u001b[0m\n\u001b[0;32m     31\u001b[0m     \u001b[1;31m# Compare initial distance (cost fct) and true distance (N)\u001b[0m\u001b[1;33m\u001b[0m\u001b[1;33m\u001b[0m\u001b[0m\n\u001b[1;32m---> 32\u001b[1;33m     \u001b[0mprint\u001b[0m\u001b[1;33m(\u001b[0m\u001b[1;34m\"Initial Distance: %g\"\u001b[0m \u001b[1;33m%\u001b[0m \u001b[0mdist\u001b[0m\u001b[1;33m(\u001b[0m\u001b[0mopt_mpo\u001b[0m\u001b[1;33m,\u001b[0m\u001b[0mmpo\u001b[0m\u001b[1;33m,\u001b[0m\u001b[0mnorm\u001b[0m\u001b[1;33m)\u001b[0m\u001b[1;33m)\u001b[0m\u001b[1;33m\u001b[0m\u001b[0m\n\u001b[0m\u001b[0;32m     33\u001b[0m     \u001b[0m_\u001b[0m\u001b[1;33m,\u001b[0m \u001b[0m_\u001b[0m\u001b[1;33m,\u001b[0m \u001b[0mtrue_dist\u001b[0m \u001b[1;33m=\u001b[0m \u001b[0mwigner\u001b[0m\u001b[1;33m(\u001b[0m\u001b[0mrho\u001b[0m\u001b[1;33m,\u001b[0m \u001b[0mn\u001b[0m\u001b[1;33m,\u001b[0m \u001b[0md\u001b[0m\u001b[1;33m)\u001b[0m\u001b[1;33m\u001b[0m\u001b[0m\n\u001b[0;32m     34\u001b[0m     \u001b[0mprint\u001b[0m\u001b[1;33m(\u001b[0m\u001b[1;34m\"True Distance: %g\"\u001b[0m \u001b[1;33m%\u001b[0m \u001b[0mtrue_dist\u001b[0m\u001b[1;33m)\u001b[0m\u001b[1;33m\u001b[0m\u001b[0m\n",
      "\u001b[1;32m<ipython-input-23-23e8b8398eb9>\u001b[0m in \u001b[0;36mdist\u001b[1;34m(m1, m2, norm)\u001b[0m\n\u001b[0;32m     10\u001b[0m \u001b[1;33m\u001b[0m\u001b[0m\n\u001b[0;32m     11\u001b[0m \u001b[1;32mdef\u001b[0m \u001b[0mdist\u001b[0m\u001b[1;33m(\u001b[0m\u001b[0mm1\u001b[0m\u001b[1;33m,\u001b[0m \u001b[0mm2\u001b[0m\u001b[1;33m,\u001b[0m \u001b[0mnorm\u001b[0m\u001b[1;33m)\u001b[0m\u001b[1;33m:\u001b[0m\u001b[1;33m\u001b[0m\u001b[0m\n\u001b[1;32m---> 12\u001b[1;33m     \u001b[1;32mreturn\u001b[0m \u001b[0mmath\u001b[0m\u001b[1;33m.\u001b[0m\u001b[0mpow\u001b[0m\u001b[1;33m(\u001b[0m\u001b[0mdist_sq\u001b[0m\u001b[1;33m(\u001b[0m\u001b[0mm1\u001b[0m\u001b[1;33m,\u001b[0m\u001b[0mm2\u001b[0m\u001b[1;33m,\u001b[0m\u001b[0mnorm\u001b[0m\u001b[1;33m)\u001b[0m\u001b[1;33m,\u001b[0m\u001b[1;36m1.\u001b[0m\u001b[1;33m/\u001b[0m\u001b[1;36m2\u001b[0m\u001b[1;33m)\u001b[0m\u001b[1;33m\u001b[0m\u001b[0m\n\u001b[0m\u001b[0;32m     13\u001b[0m \u001b[1;33m\u001b[0m\u001b[0m\n\u001b[0;32m     14\u001b[0m \u001b[1;32mdef\u001b[0m \u001b[0mcost_fct\u001b[0m\u001b[1;33m(\u001b[0m\u001b[0mi\u001b[0m\u001b[1;33m,\u001b[0m \u001b[0mx\u001b[0m\u001b[1;33m,\u001b[0m \u001b[0mopt_mpo\u001b[0m\u001b[1;33m,\u001b[0m \u001b[0mmpo\u001b[0m\u001b[1;33m,\u001b[0m \u001b[0mnorm\u001b[0m\u001b[1;33m)\u001b[0m\u001b[1;33m:\u001b[0m\u001b[1;33m\u001b[0m\u001b[0m\n",
      "\u001b[1;32m<ipython-input-23-23e8b8398eb9>\u001b[0m in \u001b[0;36mdist_sq\u001b[1;34m(m1, m2, norm)\u001b[0m\n\u001b[0;32m      7\u001b[0m \u001b[1;33m\u001b[0m\u001b[0m\n\u001b[0;32m      8\u001b[0m \u001b[1;32mdef\u001b[0m \u001b[0mdist_sq\u001b[0m\u001b[1;33m(\u001b[0m\u001b[0mm1\u001b[0m\u001b[1;33m,\u001b[0m \u001b[0mm2\u001b[0m\u001b[1;33m,\u001b[0m \u001b[0mnorm\u001b[0m\u001b[1;33m)\u001b[0m\u001b[1;33m:\u001b[0m\u001b[1;33m\u001b[0m\u001b[0m\n\u001b[1;32m----> 9\u001b[1;33m     \u001b[1;32mreturn\u001b[0m \u001b[0minner_prod\u001b[0m\u001b[1;33m(\u001b[0m\u001b[0mm1\u001b[0m\u001b[1;33m,\u001b[0m\u001b[0mm1\u001b[0m\u001b[1;33m,\u001b[0m\u001b[0mnorm\u001b[0m\u001b[1;33m)\u001b[0m \u001b[1;33m-\u001b[0m \u001b[1;36m2\u001b[0m\u001b[1;33m*\u001b[0m\u001b[0minner_prod\u001b[0m\u001b[1;33m(\u001b[0m\u001b[0mm1\u001b[0m\u001b[1;33m,\u001b[0m\u001b[0mm2\u001b[0m\u001b[1;33m,\u001b[0m\u001b[0mnorm\u001b[0m\u001b[1;33m)\u001b[0m \u001b[1;33m+\u001b[0m \u001b[0minner_prod\u001b[0m\u001b[1;33m(\u001b[0m\u001b[0mm1\u001b[0m\u001b[1;33m,\u001b[0m\u001b[0mm2\u001b[0m\u001b[1;33m,\u001b[0m\u001b[0mnorm\u001b[0m\u001b[1;33m)\u001b[0m\u001b[1;33m\u001b[0m\u001b[0m\n\u001b[0m\u001b[0;32m     10\u001b[0m \u001b[1;33m\u001b[0m\u001b[0m\n\u001b[0;32m     11\u001b[0m \u001b[1;32mdef\u001b[0m \u001b[0mdist\u001b[0m\u001b[1;33m(\u001b[0m\u001b[0mm1\u001b[0m\u001b[1;33m,\u001b[0m \u001b[0mm2\u001b[0m\u001b[1;33m,\u001b[0m \u001b[0mnorm\u001b[0m\u001b[1;33m)\u001b[0m\u001b[1;33m:\u001b[0m\u001b[1;33m\u001b[0m\u001b[0m\n",
      "\u001b[1;32m<ipython-input-5-0269ca67e760>\u001b[0m in \u001b[0;36minner_prod\u001b[1;34m(m1, m2, norm)\u001b[0m\n\u001b[0;32m     11\u001b[0m         \u001b[1;31m#print(m1[0][0].shape, m2[0][0].shape)\u001b[0m\u001b[1;33m\u001b[0m\u001b[1;33m\u001b[0m\u001b[0m\n\u001b[0;32m     12\u001b[0m         \u001b[1;31m# First site\u001b[0m\u001b[1;33m\u001b[0m\u001b[1;33m\u001b[0m\u001b[0m\n\u001b[1;32m---> 13\u001b[1;33m         \u001b[0mM\u001b[0m \u001b[1;33m=\u001b[0m \u001b[0mnp\u001b[0m\u001b[1;33m.\u001b[0m\u001b[0mtensordot\u001b[0m\u001b[1;33m(\u001b[0m\u001b[0mm1\u001b[0m\u001b[1;33m[\u001b[0m\u001b[1;36m0\u001b[0m\u001b[1;33m]\u001b[0m\u001b[1;33m[\u001b[0m\u001b[1;36m0\u001b[0m\u001b[1;33m]\u001b[0m\u001b[1;33m.\u001b[0m\u001b[0mconj\u001b[0m\u001b[1;33m(\u001b[0m\u001b[1;33m)\u001b[0m\u001b[1;33m,\u001b[0m\u001b[0mm2\u001b[0m\u001b[1;33m[\u001b[0m\u001b[1;36m0\u001b[0m\u001b[1;33m]\u001b[0m\u001b[1;33m[\u001b[0m\u001b[1;36m0\u001b[0m\u001b[1;33m]\u001b[0m\u001b[1;33m,\u001b[0m\u001b[0maxes\u001b[0m\u001b[1;33m=\u001b[0m\u001b[1;33m(\u001b[0m\u001b[1;33m[\u001b[0m\u001b[1;36m0\u001b[0m\u001b[1;33m,\u001b[0m\u001b[1;36m0\u001b[0m\u001b[1;33m]\u001b[0m\u001b[1;33m)\u001b[0m\u001b[1;33m)\u001b[0m      \u001b[1;31m# sum over physical indices (grab the first and only matrix due to fixed bdry cond.)\u001b[0m\u001b[1;33m\u001b[0m\u001b[0m\n\u001b[0m\u001b[0;32m     14\u001b[0m \u001b[1;33m\u001b[0m\u001b[0m\n\u001b[0;32m     15\u001b[0m         \u001b[1;31m#print(0,m1[0].shape,M.shape)\u001b[0m\u001b[1;33m\u001b[0m\u001b[1;33m\u001b[0m\u001b[0m\n",
      "\u001b[1;32mC:\\ProgramData\\Anaconda3\\lib\\site-packages\\numpy\\core\\numeric.py\u001b[0m in \u001b[0;36mtensordot\u001b[1;34m(a, b, axes)\u001b[0m\n\u001b[0;32m   1281\u001b[0m                 \u001b[0maxes_b\u001b[0m\u001b[1;33m[\u001b[0m\u001b[0mk\u001b[0m\u001b[1;33m]\u001b[0m \u001b[1;33m+=\u001b[0m \u001b[0mndb\u001b[0m\u001b[1;33m\u001b[0m\u001b[0m\n\u001b[0;32m   1282\u001b[0m     \u001b[1;32mif\u001b[0m \u001b[1;32mnot\u001b[0m \u001b[0mequal\u001b[0m\u001b[1;33m:\u001b[0m\u001b[1;33m\u001b[0m\u001b[0m\n\u001b[1;32m-> 1283\u001b[1;33m         \u001b[1;32mraise\u001b[0m \u001b[0mValueError\u001b[0m\u001b[1;33m(\u001b[0m\u001b[1;34m\"shape-mismatch for sum\"\u001b[0m\u001b[1;33m)\u001b[0m\u001b[1;33m\u001b[0m\u001b[0m\n\u001b[0m\u001b[0;32m   1284\u001b[0m \u001b[1;33m\u001b[0m\u001b[0m\n\u001b[0;32m   1285\u001b[0m     \u001b[1;31m# Move the axes to sum over to the end of \"a\"\u001b[0m\u001b[1;33m\u001b[0m\u001b[1;33m\u001b[0m\u001b[0m\n",
      "\u001b[1;31mValueError\u001b[0m: shape-mismatch for sum"
     ]
    }
   ],
   "source": [
    "optimize(wm_rho, n, d)"
   ]
  },
  {
   "cell_type": "code",
   "execution_count": null,
   "metadata": {},
   "outputs": [],
   "source": []
  }
 ],
 "metadata": {
  "kernelspec": {
   "display_name": "Python 3",
   "language": "python",
   "name": "python3"
  },
  "language_info": {
   "codemirror_mode": {
    "name": "ipython",
    "version": 3
   },
   "file_extension": ".py",
   "mimetype": "text/x-python",
   "name": "python",
   "nbconvert_exporter": "python",
   "pygments_lexer": "ipython3",
   "version": "3.6.5"
  }
 },
 "nbformat": 4,
 "nbformat_minor": 2
}
