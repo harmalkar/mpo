{
 "cells": [
  {
   "cell_type": "markdown",
   "metadata": {},
   "source": [
    "# MPO Creation\n",
    "(<mark>todo: interpret as MPS instead of MPO</mark>)\n",
    "Algorithm: Given an operator $\\rho_{i,j}\\left|i\\right>\\left<j\\right|$ with indices $i,j\\in\\mathbb Z_d^n$:\n",
    "(<mark>todo: update max bond dimension to shrink after middle index reached</mark>)\n",
    "1. Reshape: $\\rho_{i,j}= P_{(i_1\\cdots i_n),(j_1\\cdots j_n)}$ has dimensions $d^n\\times d^n$\n",
    "2. Permute: $P_{(i_1\\cdots i_n),(j_1\\cdots j_n)}= T_{(i_1j_1),\\cdots ,(i_nj_n)}$ has dimensions $d^2\\times\\cdots \\times d^2$ ($n$ times)\n",
    "3. Collect: $T_{(i_1j_1),(i_2j_2\\cdots i_nj_n)}$ has dimensions $d^2\\times d^{2(n-1)}$\n",
    "4. First site:\n",
    "\t- SVD: $T_{(i_1j_1),(i_2j_2\\cdots i_nj_n)}=\\sum_{\\alpha\\in \\mathbb Z_{D_1}} U_{(i_1j_1),\\alpha}S_{\\alpha,\\alpha} (V^\\dagger)_{\\alpha,(i_2j_2\\cdots i_nj_n)}$, where $D_1\\in \\{1,\\cdots,d^2\\}$ is determined by truncation \n",
    "\t- Save: $M^{(1)}_{\\alpha,u,\\beta}=\\delta_{\\alpha,1}U_{u,\\beta}$ has dimensions $1\\times d^2\\times D_1$\n",
    "\t- Update: $T^{(1)}_{(\\alpha i_2j_2),(i_3j_3\\cdots i_nj_n)}=S_{\\alpha,\\alpha}(V^\\dagger)_{\\alpha,(i_2j_2\\cdots i_nj_n)}$ has dimensions $D_1 d^2\\times d^{2(n-2)}$\n",
    "5. Inner sites: For $k\\in \\{2,\\cdots,n-1\\}$:\n",
    "\t- SVD: $T^{(k)}_{(\\alpha i_kj_k),(i_{k+1}j_{k+1}\\cdots i_nj_n)}=\\sum_{\\beta\\in \\mathbb Z_{D_k}} U_{(\\alpha i_kj_k),\\beta}S_{\\beta,\\beta} (V^\\dagger)_{\\beta,(i_{k+1}j_{k+1}\\cdots i_nj_n)}$, where $D_k\\in\\{1,\\cdots,D_{k-1}d^2\\}$\n",
    "\t- Save: $M^{(k)}_{\\alpha,u,\\beta}=U_{(\\alpha u),\\beta}$ has dimensions $D_{k-1}\\times d^2\\times D_k$\n",
    "\t- Update: $T_{(\\alpha i_{k+1}j_{k+1}),(i_{k+2}j_{k+2}\\cdots i_nj_n)}=S_{\\alpha,\\alpha} (V^\\dagger)_{\\alpha,(i_{k+1}j_{k+1}\\cdots i_nj_n)}$ has dimensions $D_k d^2\\times d^{2(n-k-1)}$\n",
    "6. Last site:\n",
    "\t- Save: $M^{(n)}_{\\alpha,u,\\beta}=T^{(n-1)}_{(\\alpha,u),\\beta}$ has dimensions $D_{n-1}\\times d^2\\times 1$ (note that $T^{(n-1)}_{(\\alpha i_nj_n),\\beta}$ has dimensions $D_{n-1} d^2\\times 1$)\n",
    "7. Return $\\{M^{(k)}\\}_{k\\in\\mathbb Z_n}$"
   ]
  },
  {
   "cell_type": "code",
   "execution_count": 1,
   "metadata": {},
   "outputs": [
    {
     "ename": "SyntaxError",
     "evalue": "invalid syntax (<ipython-input-1-c3d6e77c0eb6>, line 1)",
     "output_type": "error",
     "traceback": [
      "\u001b[1;36m  File \u001b[1;32m\"<ipython-input-1-c3d6e77c0eb6>\"\u001b[1;36m, line \u001b[1;32m1\u001b[0m\n\u001b[1;33m    import mpo_algorithms-Copy1 as mpo\u001b[0m\n\u001b[1;37m                         ^\u001b[0m\n\u001b[1;31mSyntaxError\u001b[0m\u001b[1;31m:\u001b[0m invalid syntax\n"
     ]
    }
   ],
   "source": [
    "import mpo_algorithms-Copy1 as mpo"
   ]
  },
  {
   "cell_type": "markdown",
   "metadata": {},
   "source": [
    "We can run this algorithm on a randomly generated density matrix:"
   ]
  },
  {
   "cell_type": "code",
   "execution_count": 2,
   "metadata": {},
   "outputs": [],
   "source": [
    "import random_state_gen as rand"
   ]
  },
  {
   "cell_type": "markdown",
   "metadata": {},
   "source": [
    "I should expect to see the following dimensions of my matrices and local tensor after performing each SVD for $d=3,n=5$: The density matrix has dimensions $3^5\\times 3^5$ and the environment tensor $T$ starts out with dimensions $9\\times 9^4$. After each step, we should expect $D_k=9^k$ <mark>(TODO: update this)</mark>"
   ]
  },
  {
   "cell_type": "code",
   "execution_count": 3,
   "metadata": {},
   "outputs": [
    {
     "name": "stdout",
     "output_type": "stream",
     "text": [
      "0 Initial T:\t\t\t\t (9, 9)\n",
      "1 (9, 9) (9, 9) \t-> (1, 9, 9) \t (81, 1) \t 9\n",
      "2 Final Matrix:\t\t   (9, 9, 1)\n"
     ]
    }
   ],
   "source": [
    "d = 3\n",
    "n = 2\n",
    "rho = rand.random_mixed_state(n,d)\n",
    "m_rho = mpo.state_to_mpo(rho,n,d,verbose=True)"
   ]
  },
  {
   "cell_type": "markdown",
   "metadata": {},
   "source": [
    "To check that the MPO procedure returned an operator corresponding to the same operator which we input into the algorithm, we can use numpy's unravel_index method to compute each matrix element and check:"
   ]
  },
  {
   "cell_type": "code",
   "execution_count": 4,
   "metadata": {},
   "outputs": [
    {
     "name": "stdout",
     "output_type": "stream",
     "text": [
      "True\n"
     ]
    }
   ],
   "source": [
    "mpo.check_coefficients(m_rho, rho, n, d)"
   ]
  },
  {
   "cell_type": "markdown",
   "metadata": {},
   "source": [
    "# Inner products\n",
    "The Frobenius norm overlap between two operators is defined to be\n",
    "$$\\left<\\rho|\\sigma\\right>=\\mathrm{Tr}\\left[\\rho^\\dagger\\sigma\\right]=\\sum_u \\left(\\prod_i \\rho^{(i)u_i}\\right)^*\\left(\\prod_j \\sigma^{(i)u_j}\\right),$$\n",
    "where $*$ denotes element-wise complex conjugation. This can be calculated in a linear number of computations in $d$ and $n$ and cubic in $D^\\sigma$ and $D^\\rho$ like so:\n",
    "1. $M_{\\alpha\\beta} = \\sum_{u\\in \\mathbb Z_d}(\\rho^{(1)}_{1u\\alpha})^*\\sigma^{(1)}_{1u\\beta}$\n",
    "2. For $k\\in\\{2,\\cdots,n\\}:$\n",
    "    - $M_{\\alpha\\beta}\\leftarrow \\sum_{u\\in \\mathbb Z_d,\\mu\\in\\mathbb Z_{D^\\rho_k},\\mu\\in\\mathbb Z_{D^\\sigma_k}}(\\rho^{(k)}_{\\mu u \\alpha})^*M_{\\mu \\nu}\\sigma^{(k)}_{\\nu u \\beta}$\n",
    "3. Return $M_{11}$\n",
    "\n",
    "Note that the matrix elements are stored like so: $\\rho^{(k)u}_{\\alpha\\beta}=\\rho^{(k)}_{\\alpha u \\beta}$, and $D^\\rho_k$ denotes the bond dimension of $\\rho^{(k)}$ at site $k$ "
   ]
  },
  {
   "cell_type": "code",
   "execution_count": 5,
   "metadata": {
    "scrolled": true
   },
   "outputs": [
    {
     "name": "stdout",
     "output_type": "stream",
     "text": [
      "True\n"
     ]
    }
   ],
   "source": [
    "import numpy as np\n",
    "print(np.absolute(mpo.inner_prod(m_rho,m_rho) - np.trace(np.dot(rho.conj().T,rho))) < 1e-14)"
   ]
  },
  {
   "cell_type": "markdown",
   "metadata": {},
   "source": [
    "## Moving to phase space\n",
    "\n",
    "We formed our MPO like so: $\\rho_{ij}\\left|i\\right>\\left<j\\right|=\\rho_{(i_1\\cdots i_n)(j_1\\cdots j_n)}(\\left|i_1\\right>\\otimes \\cdots \\otimes \\left|i_n\\right>)(\\left<j_1\\right|\\otimes \\cdots \\otimes \\left<j_n\\right|)=\\sum_{i_kj_k\\alpha _k}\\rho^{(1)}_{\\alpha_0(i_1j_1)\\alpha_1}\\left|i_1\\right>\\left<j_1\\right|\\otimes\\cdots\\otimes \\rho^{(n)}_{\\alpha_{n-1}(i_nj_n)\\alpha_n}\\left|i_n\\right>\\left<j_n\\right|$. This gave us a matrix product operator of the form $\\sum_{u,\\alpha} \\otimes_k \\rho^{(k)u_k}_{\\alpha_k\\alpha_{k+1}}C_{u_k}$, where $C_u=C_{du_1+u_2}=\\left|u_1\\right>\\left<u_2\\right|$. We want to represent it in phase space, i.e. we want to find the MPO $\\tilde{\\rho}$ satisfying $\\sum_{u,\\alpha} \\otimes_k \\rho^{(k)u_k}_{\\alpha_k\\alpha_{k+1}} C_{u_k}=\\sum_{u,\\alpha} \\otimes_k \\tilde{\\rho}^{(k)u_k}_{\\alpha_k\\alpha_{k+1}} A_{u_k}$. Taking the Frobenius inner product with $A_v$ on both sides of this equation shows that the following choice works:\n",
    "\n",
    "$$\\tilde{\\rho}^{(k)u}_{\\alpha\\beta}=d^{-1}\\sum_v\\rho^{(k)v}_{\\alpha\\beta}\\mathrm{Tr}\\left[C_uA_v\\right]=d^{-1}\\sum_v\\rho^{(k)v}_{\\alpha\\beta}(A_v)_{u_1,u_2}$$\n",
    "\n",
    "The last equality arises because $\\mathrm{Tr}[C_u A_v]=\\sum_k \\left<k|u_1\\right>\\left<u_2|A_v |k\\right>=\\left<u_1|A_v|u_2\\right>=(A_v)_{u_1,u_2}$, so the change-of-basis coefficients are proportional to the matrix elements of the phase space operators. \n",
    "\n",
    "Since $\\mathrm{Tr}[A_uA_v]=d\\delta_{u,v}$, the phase space basis is not normalized. This means that we pick up a Hilbert space factor when computing inner products:\n",
    "\n",
    "$$\\mathrm{Tr}[\\rho^\\dagger \\sigma]=d^n\\left<\\rho|\\sigma\\right>_A,$$\n",
    "\n",
    "where $\\left<\\rho|\\sigma\\right>_A$ denotes the contraction of the matrix product representations of the states $\\rho$ and $\\sigma$ in the phase space basis $A_u$."
   ]
  },
  {
   "cell_type": "code",
   "execution_count": 6,
   "metadata": {},
   "outputs": [],
   "source": [
    "import wigner"
   ]
  },
  {
   "cell_type": "markdown",
   "metadata": {},
   "source": [
    "Some checks to make sure that we did the change of basis correctly:"
   ]
  },
  {
   "cell_type": "code",
   "execution_count": 7,
   "metadata": {},
   "outputs": [],
   "source": [
    "# Check that phase space elements satisfy expected properties\n",
    "wigner.basic_checks(d)\n",
    "\n",
    "# Check that inner product in new basis agrees with old basis\n",
    "m_rho_ps = wigner.basis_change(m_rho, wigner.ps_coefficients)\n",
    "if (abs(mpo.inner_prod(m_rho_ps,m_rho_ps,norm=d**n).imag) > 1e-12):\n",
    "    print(\"Inner product in new basis is imaginary\")\n",
    "if (abs(mpo.inner_prod(m_rho_ps,m_rho_ps,norm=d**n).real - mpo.inner_prod(m_rho,m_rho).real) > 1e-12):\n",
    "    print(\"Inner product in new basis does not match\")"
   ]
  },
  {
   "cell_type": "markdown",
   "metadata": {},
   "source": [
    "# Direct MPO representation of $W_\\rho(u)$ instead\n",
    "Let's just make an MPO out of the Wigner function representation:"
   ]
  },
  {
   "cell_type": "code",
   "execution_count": 8,
   "metadata": {},
   "outputs": [],
   "source": [
    "# Convert a state to a MPO in the phase space basis\n",
    "# state - density matrix of state\n",
    "# n - sites\n",
    "# d - onsite hilbert space dimension\n",
    "def state_to_wigner_mpo(state, n, d):\n",
    "    W, _, _ = wigner.wigner_fct(state, n, d)\n",
    "    \n",
    "    # Convert the Wigner function to a MPO (no need to rearrange indices, just use tensor_to_mpo)\n",
    "    w_mpo = mpo.tensor_to_mpo(W, n, d)\n",
    "    \n",
    "    # This *should* result in real-valued matrices...\n",
    "    if np.amax([np.amax(np.abs(np.imag(w_mpo[j]))) for j in range(n)]) > 1e-14:\n",
    "        print(\"Error! SVDs of real matrices should produce real values\")\n",
    "        return w_mpo\n",
    "    \n",
    "    # .. So we should cast to real values\n",
    "    for i in range(n):\n",
    "        w_mpo[i] = w_mpo[i].astype(np.float64)\n",
    "    return w_mpo"
   ]
  },
  {
   "cell_type": "code",
   "execution_count": 9,
   "metadata": {},
   "outputs": [
    {
     "name": "stdout",
     "output_type": "stream",
     "text": [
      "True\n"
     ]
    },
    {
     "name": "stderr",
     "output_type": "stream",
     "text": [
      "C:\\Users\\sharmalk\\Documents\\personal\\mpo\\wigner.py:83: ComplexWarning: Casting complex values to real discards the imaginary part\n",
      "  W = W.astype(np.float64)\n"
     ]
    }
   ],
   "source": [
    "wm_rho = state_to_wigner_mpo(rho, n, d)\n",
    "print(np.absolute(mpo.inner_prod(wm_rho,wm_rho,d**n) - mpo.inner_prod(m_rho, m_rho)) < 1e-14)"
   ]
  },
  {
   "cell_type": "markdown",
   "metadata": {},
   "source": [
    "Check that this MPO agrees with the Wigner function:"
   ]
  },
  {
   "cell_type": "code",
   "execution_count": 10,
   "metadata": {},
   "outputs": [
    {
     "name": "stdout",
     "output_type": "stream",
     "text": [
      "(1, 1): (-0.01363362898076814+0j)\t-0.01363362898076802\t1.20E-16 1.00E+00\n",
      "(1, 2): (0.014431312720693295+0j)\t0.014431312720693404\t1.09E-16 1.00E+00\n"
     ]
    }
   ],
   "source": [
    "# Check that an mpo in the phase space basis represents a hermitian operator\n",
    "def check_against_wigner(mpo, state):\n",
    "    W, _, _ = wigner.wigner_fct(state, n, d)\n",
    "    good = True\n",
    "    tensor_shape = tuple([d**2]*n)\n",
    "    for u in range(d**(2*n)):\n",
    "        index = np.unravel_index(u,tensor_shape)\n",
    "        coefficient = np.identity(1,dtype=np.complex128)\n",
    "        for i in range(n):\n",
    "            coefficient = np.dot(coefficient, mpo[i][:,index[i],:])\n",
    "        if (np.absolute(W[u] - coefficient[0][0]) > 1e-16):\n",
    "            good = False\n",
    "            print(repr(index) + \": \" + repr(coefficient[0][0]) +\"\\t\" + repr(W[u]) + \"\\t\" + (\"%.2E %.2E\" % (np.absolute(W[u] - coefficient[0][0]),W[u]/coefficient[0][0].real)))\n",
    "    if good:\n",
    "        print(\"Coefficents all agreed!\")\n",
    "        \n",
    "check_against_wigner(wm_rho, rho)"
   ]
  },
  {
   "cell_type": "markdown",
   "metadata": {},
   "source": [
    "# Optimization\n",
    "We now generate a random hermitian operator (not necessarily normalized) $\\sigma$ whose matrix product operator representation in the phase space basis has only non-negative elements. We then vary $\\sigma$ to reduce the squared distance\n",
    "\n",
    "$$d(\\rho,\\sigma)^2=\\mathrm{Tr}[(\\rho-\\sigma)^\\dagger(\\rho-\\sigma)]=\\mathrm{Tr}[\\rho^\\dagger\\rho]-\\mathrm{Tr}[\\rho^\\dagger\\sigma]-\\mathrm{Tr}[\\sigma^\\dagger\\rho]+\\mathrm{Tr}[\\sigma^\\dagger\\sigma],$$\n",
    "\n",
    "in the space of non-negative matrix product operators (i.e. constrained optimization with the constraints $\\sigma^{(k)}_{\\alpha,u,\\beta}\\geq 0$). Note that $\\sigma$ is a hermitian operator because it has a real Wigner function: \n",
    "$$\\sigma^{(k)}_{\\alpha,u,\\beta}\\geq 0\\Rightarrow\\left(\\sum_\\alpha \\prod_k \\sigma^{(k)}_{\\alpha_k,u_k,\\alpha_{k+1}}\\right)\\geq 0\\ \\forall  u\\Rightarrow \\mathrm{Tr}[\\sigma A_{u}]\\in\\mathbb R\\ \\forall u$$\n",
    "Since the phase space operators are hermitian and complete, this implies that\n",
    "$$\\sigma^\\dagger=\\left(d^{-n}\\sum_u \\mathrm{Tr}[\\sigma A_u]A_u\\right)^\\dagger=d^{-n}\\sum_u \\mathrm{Tr}[\\sigma A_u]^*A_u^\\dagger=d^{-n}\\sum_u \\mathrm{Tr}[\\sigma A_u]A_u=\\sigma.$$\n",
    "Using this and the fact that trace is cyclic, the squared distance simplifies to\n",
    "\n",
    "$$d(\\rho,\\sigma)^2=\\mathrm{Tr}[\\rho^\\dagger\\rho]-2\\mathrm{Tr}[\\sigma^\\dagger\\rho]+\\mathrm{Tr}[\\sigma^\\dagger\\sigma]$$"
   ]
  },
  {
   "cell_type": "code",
   "execution_count": 11,
   "metadata": {},
   "outputs": [],
   "source": [
    "import scipy as sp\n",
    "import time\n",
    "from scipy.optimize import minimize\n",
    "import sys\n",
    "import math\n",
    "\n",
    "#np.seed(0)\n",
    "\n",
    "# Tr[(s1-s2)^\\dagger (s1-s2)]=<m1|m1>-2<m1|m2>+<m2|m2>\n",
    "def dist_sq(m1, m2, norm):\n",
    "    return mpo.inner_prod(m1,m1,norm) - 2*mpo.inner_prod(m1,m2,norm) + mpo.inner_prod(m2,m2,norm)\n",
    "\n",
    "def dist(m1, m2, norm):\n",
    "    return math.pow(dist_sq(m1,m2,norm),1./2)\n",
    "\n",
    "def cost_fct(i, x, opt_mpo, mpo, norm):\n",
    "    opt_mpo[i] = x.reshape(opt_mpo[i].shape)\n",
    "    return dist_sq(opt_mpo, mpo, norm)\n",
    "\n",
    "# Generate random MPO with fixed bond dimension and random positive coefficients\n",
    "def gen_mpo(n, d, bd):\n",
    "    mpo = [None] * n\n",
    "    mpo[0] = np.random.rand(1,d,bd)\n",
    "    for i in range(1,n-1):\n",
    "        mpo[i] = np.random.rand(bd,d,bd)\n",
    "    mpo[n-1] = np.random.rand(bd,d,1)\n",
    "    return mpo\n",
    "    \n",
    "# Optimize D(var||mpo) on var to find closest positive repr MPO to mpo\n",
    "def optimize(mpo, true_dist, n, d, bd = 10, nswp = 20, opt_method = 'L-BFGS-B', verbose = False, opt_options = {}):\n",
    "    # Generate variational MPO\n",
    "    opt_mpo = gen_mpo(n, d**2, bd)\n",
    "    \n",
    "    # Print status if needed\n",
    "    if verbose:\n",
    "        print(i, j, \": Optimization method: %s\" % opt_method)\n",
    "        print(\"Initial Distance: %g\" % dist(opt_mpo,mpo,norm))\n",
    "        print(\"True Distance: %g\\n\" % true_dist)\n",
    "        print(\"Sweep Site Distance Dist-True_Dist\") #print(\"Half-sweep D(A||B) D(A||B)-D(A*||B) E(A) H_2(A)\\n\")\n",
    "        sys.stdout.flush()\n",
    "        \n",
    "    dn = d**n\n",
    "    opt_data = [None]*(nswp*n)\n",
    "    start_time = time.time()\n",
    "    for i in range(nswp):\n",
    "        for j in range(n):\n",
    "            \n",
    "            # Set bounds and run optimization\n",
    "            opt_bounds = [(0, None)]*opt_mpo[j].size\n",
    "            opt_result = minimize(lambda x:cost_fct(j,x,opt_mpo,mpo,dn), x0 = opt_mpo[j].flatten(), method = opt_method, bounds = opt_bounds, options = opt_options)\n",
    "            \n",
    "            # Check for failure\n",
    "            if not opt_result.success:\n",
    "                print(\"Optimization did not converge for site %d in iteration %d with bond dimension %d\" % (j,i,bd))\n",
    "                print(\"Failure trace:\")\n",
    "                print(opt_result)\n",
    "                return opt_data\n",
    "            \n",
    "            # Save results\n",
    "            opt_mpo[j] = np.array(opt_result.x).reshape(opt_mpo[j].shape)\n",
    "            opt_data[n*i + j] = dist(opt_mpo,mpo,dn)-true_dist\n",
    "            \n",
    "            # Print status if needed\n",
    "            if verbose:\n",
    "                print(\"%d %d %g %g\" % (i, j, dist(opt_mpo,mpo,dn), dist(opt_mpo,mpo,dn)-true_dist)) #vn_entropy(A), r_entropy(A,2)))\n",
    "                sys.stdout.flush()\n",
    "                \n",
    "    # Compute time taken to run optimization\n",
    "    if verbose:\n",
    "        print(\"\\nTime elapsed during optimization: %g\" % (time.time() - start_time))\n",
    "    \n",
    "    return opt_data"
   ]
  },
  {
   "cell_type": "code",
   "execution_count": 12,
   "metadata": {},
   "outputs": [],
   "source": [
    "%matplotlib inline\n",
    "import matplotlib.pyplot as plt\n",
    "plt.style.use('seaborn-whitegrid')"
   ]
  },
  {
   "cell_type": "code",
   "execution_count": 13,
   "metadata": {},
   "outputs": [
    {
     "name": "stderr",
     "output_type": "stream",
     "text": [
      "C:\\Users\\sharmalk\\Documents\\mpo\\wigner.py:83: ComplexWarning: Casting complex values to real discards the imaginary part\n",
      "  W = W.astype(np.float64)\n"
     ]
    },
    {
     "name": "stdout",
     "output_type": "stream",
     "text": [
      "2 0 Optimization did not converge (bd =  10 )\n",
      "      fun: 0.010639693719806248\n",
      " hess_inv: <90x90 LbfgsInvHessProduct with dtype=float64>\n",
      "      jac: array([ 5.97069338e-03,  4.83075663e-02,  3.81962506e-01,  2.01378073e+00,\n",
      "       -1.22857002e-03,  2.59371585e-01,  2.76976439e-01, -7.42989004e-05,\n",
      "        1.07247627e-01,  6.62914168e-05,  1.74992185e-01,  2.20275714e-01,\n",
      "        3.17748605e-04, -7.50078610e-03,  5.51942075e-02,  1.45317036e-01,\n",
      "        3.45330681e-01,  1.66470443e-01, -4.80093743e-04,  2.48221932e-01,\n",
      "        2.54932386e-01,  1.76331105e-01,  3.15704729e-01,  2.05698236e-03,\n",
      "       -3.26927374e-04,  2.97785296e-01,  4.36471839e-01,  2.31964523e-01,\n",
      "        3.21222968e-01,  2.76802711e-01, -3.65477093e-04,  2.67618427e-03,\n",
      "       -7.63261676e-04, -8.15952028e-03,  4.16265633e-03, -1.50693347e-04,\n",
      "       -2.32239228e-04, -2.03215222e-04, -5.08473819e-04,  1.74839587e-03,\n",
      "        5.61828362e-03, -4.12594958e-04, -3.11761728e-04,  4.22224808e-01,\n",
      "       -4.20580237e-04,  1.33329592e-01,  4.43399317e-02,  4.79152162e-02,\n",
      "       -8.37935277e-04,  9.73199299e-04, -1.83450477e-04,  1.59886196e-01,\n",
      "        1.64167765e-01,  9.09903880e-01,  1.45582441e-01,  1.61535965e-01,\n",
      "        1.73883191e-01,  8.19536244e-02, -3.08419956e-05,  4.99006281e-02,\n",
      "        2.63672509e-01,  2.05016132e-01,  3.28896785e-01,  7.24526834e+00,\n",
      "        2.22538654e-04,  2.64940847e-04, -6.84968748e-04,  2.61424959e-01,\n",
      "        4.51051710e-01, -2.39169795e-04,  4.67777928e-02,  2.64059580e-02,\n",
      "       -1.94962657e-03,  1.44095046e+00,  9.79744064e-05,  1.01733558e-01,\n",
      "        4.69641132e-02,  6.27629587e-02, -1.32535649e-03, -3.05855341e-04,\n",
      "       -2.43474685e-04,  4.24777852e-02,  1.01855976e-01, -7.82841569e-03,\n",
      "        1.49019000e-01,  2.68496214e-01, -5.70377079e-05,  1.16794521e-01,\n",
      "        2.05331133e-01,  4.53052901e-02])\n",
      "  message: b'STOP: TOTAL NO. of f AND g EVALUATIONS EXCEEDS LIMIT'\n",
      "     nfev: 15015\n",
      "      nit: 158\n",
      "     njev: 165\n",
      "   status: 1\n",
      "  success: False\n",
      "        x: array([0.00000000e+00, 0.00000000e+00, 0.00000000e+00, 0.00000000e+00,\n",
      "       1.14306588e-02, 0.00000000e+00, 0.00000000e+00, 3.25156543e-03,\n",
      "       0.00000000e+00, 2.61468210e-02, 0.00000000e+00, 0.00000000e+00,\n",
      "       4.85585452e-03, 1.09986516e-03, 0.00000000e+00, 0.00000000e+00,\n",
      "       0.00000000e+00, 0.00000000e+00, 3.44949301e-03, 0.00000000e+00,\n",
      "       0.00000000e+00, 0.00000000e+00, 0.00000000e+00, 4.24096002e-04,\n",
      "       3.43679750e-02, 0.00000000e+00, 0.00000000e+00, 0.00000000e+00,\n",
      "       0.00000000e+00, 0.00000000e+00, 3.37828962e-04, 0.00000000e+00,\n",
      "       4.50066151e-04, 0.00000000e+00, 0.00000000e+00, 1.68583664e-03,\n",
      "       2.42915102e-03, 2.09286671e-02, 1.28198224e-04, 0.00000000e+00,\n",
      "       0.00000000e+00, 1.87383899e-03, 8.32608106e-03, 0.00000000e+00,\n",
      "       1.66857643e-02, 0.00000000e+00, 0.00000000e+00, 0.00000000e+00,\n",
      "       5.75456830e-03, 1.54260606e-02, 2.14522028e-02, 0.00000000e+00,\n",
      "       0.00000000e+00, 0.00000000e+00, 0.00000000e+00, 0.00000000e+00,\n",
      "       0.00000000e+00, 0.00000000e+00, 3.38464235e-03, 0.00000000e+00,\n",
      "       0.00000000e+00, 0.00000000e+00, 0.00000000e+00, 0.00000000e+00,\n",
      "       1.80468358e-02, 3.20797943e-04, 1.53100030e-03, 0.00000000e+00,\n",
      "       0.00000000e+00, 1.84084926e-02, 0.00000000e+00, 0.00000000e+00,\n",
      "       8.28385470e-04, 0.00000000e+00, 8.60039958e-04, 0.00000000e+00,\n",
      "       0.00000000e+00, 0.00000000e+00, 1.81234861e-02, 2.62206318e-03,\n",
      "       2.69546929e-03, 0.00000000e+00, 0.00000000e+00, 9.84357272e-05,\n",
      "       0.00000000e+00, 0.00000000e+00, 9.48167573e-03, 0.00000000e+00,\n",
      "       0.00000000e+00, 0.00000000e+00])\n"
     ]
    },
    {
     "data": {
      "image/png": "[encoded data removed]",
      "text/plain": [
       "<Figure size 432x288 with 1 Axes>"
      ]
     },
     "metadata": {},
     "output_type": "display_data"
    }
   ],
   "source": [
    "# Compute the true distance between the state and the space of positive Wigner operators\n",
    "_, _, true_dist = wigner.wigner_fct(rho, n, d)\n",
    "np.random.seed(0)\n",
    "opt_data = optimize(wm_rho, true_dist, n, d)\n",
    "plt.plot(opt_data, 'o')\n",
    "plt.yscale('log')"
   ]
  },
  {
   "cell_type": "code",
   "execution_count": 14,
   "metadata": {},
   "outputs": [
    {
     "data": {
      "text/plain": [
       "[<matplotlib.lines.Line2D at 0x27cdee0efa0>]"
      ]
     },
     "execution_count": 14,
     "metadata": {},
     "output_type": "execute_result"
    },
    {
     "data": {
      "image/png": "[encoded data removed]",
      "text/plain": [
       "<Figure size 432x288 with 1 Axes>"
      ]
     },
     "metadata": {},
     "output_type": "display_data"
    }
   ],
   "source": [
    "plt.plot(opt_data, 'o')"
   ]
  },
  {
   "cell_type": "code",
   "execution_count": 15,
   "metadata": {},
   "outputs": [
    {
     "data": {
      "image/png": "[encoded data removed]",
      "text/plain": [
       "<Figure size 432x288 with 1 Axes>"
      ]
     },
     "metadata": {},
     "output_type": "display_data"
    }
   ],
   "source": [
    "for i in range(5):\n",
    "    opt_data_temp = optimize(wm_rho, true_dist, n, d, nswp = 10)\n",
    "    plt.plot(opt_data_temp, 'o')"
   ]
  },
  {
   "cell_type": "code",
   "execution_count": 16,
   "metadata": {},
   "outputs": [
    {
     "data": {
      "text/plain": [
       "<matplotlib.legend.Legend at 0x27cdeeb9640>"
      ]
     },
     "execution_count": 16,
     "metadata": {},
     "output_type": "execute_result"
    },
    {
     "data": {
      "image/png": "[encoded data removed]",
      "text/plain": [
       "<Figure size 432x288 with 1 Axes>"
      ]
     },
     "metadata": {},
     "output_type": "display_data"
    }
   ],
   "source": [
    "max_bd = 13\n",
    "opt_data = [None]*max_bd\n",
    "for bond_dim in range(6,max_bd):\n",
    "    #TODO generate data in another jupyter block\n",
    "    opt_data[bond_dim] = optimize(wm_rho, true_dist, n, d, bd = bond_dim, nswp = 10, opt_options={'maxfun':30000})\n",
    "    plt.plot(opt_data[bond_dim], 'o', label='bd=' + repr(bond_dim))\n",
    "    #plt.yscale('log')\n",
    "plt.legend()"
   ]
  },
  {
   "cell_type": "markdown",
   "metadata": {},
   "source": [
    "Can we do larger bond dimension with more max function iterations?"
   ]
  },
  {
   "cell_type": "code",
   "execution_count": 17,
   "metadata": {
    "scrolled": true
   },
   "outputs": [
    {
     "name": "stdout",
     "output_type": "stream",
     "text": [
      "0 0 Optimization did not converge (bd =  30 )\n",
      "      fun: 0.04099581366254171\n",
      " hess_inv: <270x270 LbfgsInvHessProduct with dtype=float64>\n",
      "      jac: array([ 1.54896776e-01,  6.28595231e-02,  4.11960874e-01,  1.38698747e-02,\n",
      "        6.57252031e-04,  2.51736521e-02,  3.66566158e-01,  7.18556298e-02,\n",
      "        2.50488555e-01,  3.36772277e-04,  3.31906122e-01,  2.21422561e-01,\n",
      "        9.96649402e-02,  1.76844839e-01,  3.62762304e-01,  9.53712109e-04,\n",
      "        2.22169561e-01, -1.33043576e-04,  2.13535062e-01,  5.23969368e-02,\n",
      "        9.81922793e-02,  3.75581050e-01,  6.84466317e-02,  1.18282695e-01,\n",
      "        1.46183279e-01,  3.44209508e-01,  2.00837014e-02,  3.13953619e-01,\n",
      "        4.56581162e-02,  1.32382605e-01,  1.31706024e-01,  2.67377415e-01,\n",
      "        4.55428112e-02,  4.08118428e-01,  3.17040394e-01,  4.22686136e-01,\n",
      "        2.59798436e-01,  3.17318855e-01,  2.29269298e-02,  3.40024753e-01,\n",
      "        2.21404367e-01, -1.07636122e-03,  4.55535609e-04,  2.20958085e-02,\n",
      "        4.11261858e-03,  5.77547268e-01,  8.06055833e-02,  3.45344359e-01,\n",
      "        1.16951004e-01,  2.83244975e-01,  3.43815232e-01,  1.62540376e-01,\n",
      "        2.94321895e-01,  1.41844683e-01,  2.78686366e-01,  2.31512032e-04,\n",
      "        1.24362995e-01,  3.49147977e-01,  3.01325023e-01,  4.20413704e-04,\n",
      "        4.14448914e-01,  1.34783298e-01,  8.41357151e-02,  3.44853748e-01,\n",
      "        3.05002226e-01,  1.60140520e-01,  2.72118225e-01,  2.14532730e-01,\n",
      "        2.23647437e-01,  1.57228397e-03,  1.48828574e-01,  3.01767969e-01,\n",
      "        1.36261882e-01,  1.80379114e-01,  2.17191043e-01,  2.59573490e-01,\n",
      "        4.06181200e-02,  1.73059730e-01,  1.67290676e-01,  3.11527651e-01,\n",
      "        3.59612506e-02,  4.21253368e-01,  2.60745359e-01,  1.74765202e-03,\n",
      "        1.31040317e-02,  3.12413068e-02,  2.25864175e-01,  1.72461448e-01,\n",
      "        2.07158113e-01,  3.83479359e-04,  1.46704190e-01,  2.88317814e-02,\n",
      "        6.97179564e-02,  1.44909085e-03,  8.76176520e-02,  2.01363154e-01,\n",
      "        9.25211491e-02,  1.18412569e-01,  2.84689078e-02,  1.17637375e-01,\n",
      "        3.17538523e-02,  2.20303498e-03,  1.29039227e-01,  1.49824694e-01,\n",
      "        2.61630162e-03,  3.18389676e-02,  1.02960404e-01,  9.21164978e-02,\n",
      "        7.20978582e-02,  7.77488157e-02,  3.07844167e-02,  8.00519678e-02,\n",
      "        1.34095643e-01,  3.77731707e-02,  1.14993046e-01,  6.75574957e-02,\n",
      "        1.17793197e-01,  1.44022849e-03,  4.63740824e-02,  9.62964208e-02,\n",
      "        3.28578303e-02,  3.45775658e-02,  2.45354181e-02,  1.31562911e-01,\n",
      "       -2.90259483e-04,  2.24426228e-02,  8.79697148e-02,  2.05921974e-02,\n",
      "        1.33335865e-01, -1.52026447e-03,  6.03859740e-02,  8.81767326e-02,\n",
      "        1.25321309e-02,  6.78733209e-02,  5.39201267e-02,  3.91660482e-02,\n",
      "        1.74443265e-02,  7.63544367e-02,  7.06557035e-04,  1.53516422e-02,\n",
      "        1.09559639e-02,  6.86463691e-02,  4.84596391e-02,  6.48635590e-02,\n",
      "        7.65180974e-03, -6.92004787e-04, -8.28268010e-04,  1.29489280e-01,\n",
      "        3.60790842e-02,  1.37521106e-03,  3.39538120e-03,  4.84150858e-02,\n",
      "        2.89003693e-01,  3.42306183e-03,  4.94684849e-04,  2.27470534e-01,\n",
      "        3.01085445e-01,  1.78866558e-01,  1.26909097e-01,  2.02944725e-01,\n",
      "        2.90975971e-01,  1.89279148e-04,  5.50423596e-04,  1.36323350e-01,\n",
      "        1.34029038e-01,  1.06725112e-01,  2.28510935e-01,  1.01823122e-01,\n",
      "        1.90896768e-01,  3.70214970e-04,  2.14796786e-01,  1.06956394e-01,\n",
      "        9.98992195e-02,  1.70998946e-01,  2.69024555e-01,  2.51807139e-01,\n",
      "        4.26922386e-03,  2.81728407e-01,  4.25273261e-02,  1.30576849e-01,\n",
      "        1.83811180e-01,  2.43765244e-01,  3.52295473e-01,  6.37529834e-02,\n",
      "        2.55430760e-02, -2.53910781e-04,  1.73325576e-01,  8.18277834e-02,\n",
      "        3.62990105e-01,  2.45317155e-02,  2.20229049e-01,  3.25153204e-01,\n",
      "        3.20209509e-01,  3.67652392e-01,  4.54848217e-01,  1.35080835e-03,\n",
      "        3.51686069e-01,  9.88863352e-02,  1.64594138e-01,  8.56805404e-02,\n",
      "        1.07121734e-01,  4.07678499e-01,  4.63097560e-02,  2.46622320e-01,\n",
      "        1.70122649e-01,  2.92021637e-01,  1.62938185e-01,  1.80577817e-01,\n",
      "        5.99537392e-02,  3.17665799e-01,  6.17970647e-02,  6.99356961e-02,\n",
      "        7.88891480e-02,  9.40129335e-02, -1.02343689e-03,  1.79812951e-01,\n",
      "        2.41590475e-01,  5.46270418e-02,  1.10573031e-01,  1.23715219e-01,\n",
      "        1.90508970e-01, -4.92017538e-04,  9.68577080e-02,  5.04941339e-02,\n",
      "        5.63578240e-02,  1.45747558e-01,  2.28562363e-02,  1.87074020e-01,\n",
      "       -1.23098753e-04,  1.16654056e-01,  6.89904134e-02,  1.48716248e-01,\n",
      "        8.57639598e-02,  3.97459482e-02,  7.45465772e-02,  2.01999140e-02,\n",
      "       -9.96716598e-04,  2.81988521e-01,  1.18303664e-01,  1.49590784e-02,\n",
      "        9.71643599e-03,  2.55957142e-01,  2.27685912e-01,  1.21971050e-01,\n",
      "        1.94890060e-01,  1.71464734e-01,  4.64849936e-02,  1.64405767e-01,\n",
      "        3.74559744e-02,  2.96144720e-01,  1.58781890e-01,  1.17462018e-01,\n",
      "        1.44335718e-01,  1.99978770e-01,  7.72675729e-02,  2.39872835e-01,\n",
      "        2.91193708e-01,  9.30228117e-05, -6.62539468e-04, -1.25774391e-04,\n",
      "        2.59201260e-01,  1.44905909e-01,  1.47677595e-01,  3.22769414e-01,\n",
      "        1.34286152e-01,  2.32067948e-01,  9.17868254e-02,  9.70855896e-02,\n",
      "        2.08652470e-01,  6.84330426e-02])\n",
      "  message: b'STOP: TOTAL NO. of f AND g EVALUATIONS EXCEEDS LIMIT'\n",
      "     nfev: 30081\n",
      "      nit: 109\n",
      "     njev: 111\n",
      "   status: 1\n",
      "  success: False\n",
      "        x: array([0.        , 0.        , 0.        , 0.        , 0.00473619,\n",
      "       0.        , 0.        , 0.        , 0.        , 0.00053226,\n",
      "       0.        , 0.        , 0.        , 0.        , 0.        ,\n",
      "       0.01838711, 0.        , 0.0041525 , 0.        , 0.        ,\n",
      "       0.        , 0.        , 0.        , 0.        , 0.        ,\n",
      "       0.        , 0.        , 0.        , 0.        , 0.        ,\n",
      "       0.        , 0.        , 0.        , 0.        , 0.        ,\n",
      "       0.        , 0.        , 0.        , 0.        , 0.        ,\n",
      "       0.        , 0.00099705, 0.00071187, 0.        , 0.        ,\n",
      "       0.        , 0.        , 0.        , 0.        , 0.        ,\n",
      "       0.        , 0.        , 0.        , 0.        , 0.        ,\n",
      "       0.01178335, 0.        , 0.        , 0.        , 0.01197473,\n",
      "       0.        , 0.        , 0.        , 0.        , 0.        ,\n",
      "       0.        , 0.        , 0.        , 0.        , 0.00930421,\n",
      "       0.        , 0.        , 0.        , 0.        , 0.        ,\n",
      "       0.        , 0.        , 0.        , 0.        , 0.        ,\n",
      "       0.        , 0.        , 0.        , 0.0159399 , 0.        ,\n",
      "       0.        , 0.        , 0.        , 0.        , 0.00438631,\n",
      "       0.        , 0.        , 0.        , 0.01228462, 0.        ,\n",
      "       0.        , 0.        , 0.        , 0.        , 0.        ,\n",
      "       0.        , 0.00285941, 0.        , 0.        , 0.00348506,\n",
      "       0.        , 0.        , 0.        , 0.        , 0.        ,\n",
      "       0.        , 0.        , 0.        , 0.        , 0.        ,\n",
      "       0.        , 0.        , 0.0083284 , 0.        , 0.        ,\n",
      "       0.        , 0.        , 0.        , 0.        , 0.00387306,\n",
      "       0.        , 0.        , 0.        , 0.        , 0.00431587,\n",
      "       0.        , 0.        , 0.        , 0.        , 0.        ,\n",
      "       0.        , 0.        , 0.        , 0.01092406, 0.        ,\n",
      "       0.        , 0.        , 0.        , 0.        , 0.        ,\n",
      "       0.0011639 , 0.02773018, 0.        , 0.        , 0.00012923,\n",
      "       0.        , 0.        , 0.        , 0.        , 0.00799133,\n",
      "       0.        , 0.        , 0.        , 0.        , 0.        ,\n",
      "       0.        , 0.00676791, 0.00420656, 0.        , 0.        ,\n",
      "       0.        , 0.        , 0.        , 0.        , 0.00130527,\n",
      "       0.        , 0.        , 0.        , 0.        , 0.        ,\n",
      "       0.        , 0.        , 0.        , 0.        , 0.        ,\n",
      "       0.        , 0.        , 0.        , 0.        , 0.        ,\n",
      "       0.02177966, 0.        , 0.        , 0.        , 0.        ,\n",
      "       0.        , 0.        , 0.        , 0.        , 0.        ,\n",
      "       0.00385158, 0.        , 0.        , 0.        , 0.        ,\n",
      "       0.        , 0.        , 0.        , 0.        , 0.        ,\n",
      "       0.        , 0.        , 0.        , 0.        , 0.        ,\n",
      "       0.        , 0.        , 0.        , 0.        , 0.00637493,\n",
      "       0.        , 0.        , 0.        , 0.        , 0.        ,\n",
      "       0.        , 0.0171227 , 0.        , 0.        , 0.        ,\n",
      "       0.        , 0.        , 0.        , 0.00194834, 0.        ,\n",
      "       0.        , 0.        , 0.        , 0.        , 0.        ,\n",
      "       0.        , 0.00332692, 0.        , 0.        , 0.        ,\n",
      "       0.        , 0.        , 0.        , 0.        , 0.        ,\n",
      "       0.        , 0.        , 0.        , 0.        , 0.        ,\n",
      "       0.        , 0.        , 0.        , 0.        , 0.        ,\n",
      "       0.        , 0.        , 0.01121336, 0.00122381, 0.00470115,\n",
      "       0.        , 0.        , 0.        , 0.        , 0.        ,\n",
      "       0.        , 0.        , 0.        , 0.        , 0.        ])\n"
     ]
    },
    {
     "data": {
      "text/plain": [
       "[<matplotlib.lines.Line2D at 0x27cdee6b070>]"
      ]
     },
     "execution_count": 17,
     "metadata": {},
     "output_type": "execute_result"
    },
    {
     "data": {
      "image/png": "[encoded data removed]",
      "text/plain": [
       "<Figure size 432x288 with 1 Axes>"
      ]
     },
     "metadata": {},
     "output_type": "display_data"
    }
   ],
   "source": [
    "plt.plot(optimize(wm_rho, true_dist, n, d, bd=30, opt_options={'maxfun':30000}))"
   ]
  },
  {
   "cell_type": "markdown",
   "metadata": {},
   "source": [
    "# How good are we doing on average?\n",
    "Let's take a few random states and compare our estimate to the true value of M after a fixed number of sweeps, with a fixed bond dimension, and let's vary the bond dimension."
   ]
  },
  {
   "cell_type": "code",
   "execution_count": 18,
   "metadata": {},
   "outputs": [
    {
     "ename": "SyntaxError",
     "evalue": "invalid syntax (<ipython-input-18-5adfcc02c545>, line 10)",
     "output_type": "error",
     "traceback": [
      "\u001b[1;36m  File \u001b[1;32m\"<ipython-input-18-5adfcc02c545>\"\u001b[1;36m, line \u001b[1;32m10\u001b[0m\n\u001b[1;33m    std =\u001b[0m\n\u001b[1;37m          ^\u001b[0m\n\u001b[1;31mSyntaxError\u001b[0m\u001b[1;31m:\u001b[0m invalid syntax\n"
     ]
    }
   ],
   "source": [
    "max_bd = 15\n",
    "avg = [None]*max_bd\n",
    "std = [None]*max_bd\n",
    "sweeps = 10\n",
    "samples = 10\n",
    "for bond_dim in range(6,max_bd):\n",
    "    for i in range(samples):\n",
    "        opt_data = optimize(wm_rho, true_dist, n, d, bd = bond_dim, nswp = sweeps, opt_options={'maxfun':30000})\n",
    "        avg += opt_data[sweeps]\n",
    "    std = \n",
    "\n",
    "plt.plot(avg)"
   ]
  },
  {
   "cell_type": "markdown",
   "metadata": {},
   "source": [
    "# Special states\n",
    "## Random pure-ish states\n",
    "Let's try looking at the magic vs. our measure for the state $S_1(\\alpha)=\\alpha\\rho+\\frac{(1-\\alpha)}{d}I$, where $\\rho$ is a random pure state. As we vary $\\alpha$ from 0 to 1, the state should start to gain more magic as soon as it clears the stabilizer hull."
   ]
  },
  {
   "cell_type": "code",
   "execution_count": 43,
   "metadata": {
    "scrolled": true
   },
   "outputs": [
    {
     "name": "stdout",
     "output_type": "stream",
     "text": [
      "5\n",
      "0 0.0 0.0 0.00019508869201253332\n",
      "0.5 0.21926701284692648 0.06001166181153154 0.12002968874839395\n",
      "0.6 0.31577282593839595 0.08131557682937843 0.16263256339752533\n",
      "0.7 0.42215040538268944 0.1030754464588882 0.20841528480887583\n",
      "0.8 0.5330252070532092 0.1251681260715067 0.2508339791290084\n",
      "0.9 0.6460871390027191 0.1474817558619834 0.29496352551609084\n",
      "0.99 0.7489674578412624 0.16769199184140063 0.33627570049124356\n"
     ]
    }
   ],
   "source": [
    "np.random.seed(0)\n",
    "print(np.random.randint(10))\n",
    "state = rand.random_mixed_state(n,d,M=1)\n",
    "tests = [0,0.5,0.6,0.7,0.8,0.9,0.99]\n",
    "opt_data = [None]*len(tests)\n",
    "results = np.zeros((len(tests),5))\n",
    "for i in range(len(tests)):\n",
    "    alpha = tests[i]\n",
    "    S = alpha*state + (1-alpha)/(d**2)*np.identity(d**2, dtype=np.complex128)\n",
    "    S_wigner_mpo = state_to_wigner_mpo(S, n, d)\n",
    "    _, M, N = wigner.wigner_fct(S, n, d)\n",
    "    opt_data[i] = optimize(S_wigner_mpo, N, n, d, bd = 20, nswp = 20, opt_options={'maxfun':1000000})\n",
    "    magic_estimate = opt_data[i][-1]\n",
    "    results[i] = [alpha, M, N, magic_estimate, N - magic_estimate if magic_estimate != None else None]\n",
    "    print(alpha, M, N, magic_estimate)"
   ]
  },
  {
   "cell_type": "code",
   "execution_count": 47,
   "metadata": {},
   "outputs": [
    {
     "data": {
      "text/plain": [
       "<matplotlib.legend.Legend at 0x20633878e80>"
      ]
     },
     "execution_count": 47,
     "metadata": {},
     "output_type": "execute_result"
    },
    {
     "data": {
      "image/png": "[encoded data removed]",
      "text/plain": [
       "<Figure size 432x288 with 1 Axes>"
      ]
     },
     "metadata": {},
     "output_type": "display_data"
    }
   ],
   "source": [
    "plt.plot(results[:,0],results[:,1],'o',label='M')\n",
    "plt.plot(results[:,0],results[:,2],'o',label='N')\n",
    "plt.plot(results[:,0],results[:,3],'x',color='orange',label='Optimization')\n",
    "plt.title('Magic Estimation')\n",
    "plt.legend()"
   ]
  },
  {
   "cell_type": "code",
   "execution_count": 37,
   "metadata": {},
   "outputs": [
    {
     "data": {
      "text/plain": [
       "[<matplotlib.lines.Line2D at 0x20632e64a30>]"
      ]
     },
     "execution_count": 37,
     "metadata": {},
     "output_type": "execute_result"
    },
    {
     "data": {
      "image/png": "[encoded data removed]",
      "text/plain": [
       "<Figure size 432x288 with 1 Axes>"
      ]
     },
     "metadata": {},
     "output_type": "display_data"
    }
   ],
   "source": [
    "plt.plot(results[:,0],results[:,3],'o')"
   ]
  },
  {
   "cell_type": "markdown",
   "metadata": {},
   "source": [
    "Why does $X$ have a complex wigner rep? Because it's not hermitian!"
   ]
  },
  {
   "cell_type": "code",
   "execution_count": null,
   "metadata": {},
   "outputs": [],
   "source": [
    "import wigner\n",
    "print(wigner.wigner_fct(wigner.X+wigner.X.conj().T, n=1, d=3))"
   ]
  },
  {
   "cell_type": "markdown",
   "metadata": {},
   "source": [
    "## Corners of stabilizer hull\n",
    "$S_2(\\alpha)$ is not a state but it is a useful operator nevertheless becuase we know the distance to the hull, as the closest state to the hull is $S_2(1)$, so the distance is $S_2(\\alpha)=\\sqrt{\\mathrm{Tr}[(\\alpha-1)^2\\left|0,0><0,0\\right|^2]}=\\alpha-1$. When $\\alpha=1$, it is on the edge of the hull. As it moves outwards the distance increases linearly."
   ]
  },
  {
   "cell_type": "code",
   "execution_count": 15,
   "metadata": {
    "scrolled": true
   },
   "outputs": [
    {
     "name": "stderr",
     "output_type": "stream",
     "text": [
      "C:\\Users\\sharmalk\\Documents\\personal\\mpo\\wigner.py:83: ComplexWarning: Casting complex values to real discards the imaginary part\n",
      "  W = W.astype(np.float64)\n"
     ]
    },
    {
     "name": "stdout",
     "output_type": "stream",
     "text": [
      "1 7.40148683083438e-17 1.7445471763153058e-17 5.954295930130369e-06\n",
      "1.5 1.110223024625157e-16 2.6168207644729584e-17 2.921598288949817e-05\n",
      "2 1.480297366166876e-16 3.4890943526306116e-17 1.6054657951233815e-05\n",
      "5 3.7007434154171896e-16 8.722735881576527e-17 5.539128620348173e-05\n",
      "10 7.401486830834379e-16 1.7445471763153054e-16 2.3691777888811603e-05\n",
      "20 1.4802973661668758e-15 3.489094352630611e-16 3.988437133504651e-05\n"
     ]
    }
   ],
   "source": [
    "state = np.zeros((d**n,d**n))\n",
    "state[0,0] = 1\n",
    "tests = [1,1.5,2,5,10,20]\n",
    "opt_data = [None]*len(tests)\n",
    "results = np.zeros((len(tests),5))\n",
    "for i in range(len(tests)):\n",
    "    alpha = tests[i]\n",
    "    S = alpha*state\n",
    "    S_wigner_mpo = state_to_wigner_mpo(S, n, d)\n",
    "    _, M, N = wigner.wigner_fct(S, n, d)\n",
    "    opt_data[i] = optimize(S_wigner_mpo, N, n, d, bd = 20, nswp = 20, opt_options={'maxfun':1000000})\n",
    "    magic_estimate = opt_data[i][-1]\n",
    "    results[i] = [alpha, M, N, magic_estimate, N - magic_estimate if magic_estimate != None else None]\n",
    "    print(alpha, M, N, magic_estimate)"
   ]
  },
  {
   "cell_type": "code",
   "execution_count": 16,
   "metadata": {},
   "outputs": [
    {
     "data": {
      "text/plain": [
       "<matplotlib.legend.Legend at 0x24795f38790>"
      ]
     },
     "execution_count": 16,
     "metadata": {},
     "output_type": "execute_result"
    },
    {
     "data": {
      "image/png": "[encoded data removed]",
      "text/plain": [
       "<Figure size 432x288 with 1 Axes>"
      ]
     },
     "metadata": {},
     "output_type": "display_data"
    }
   ],
   "source": [
    "plt.plot(results[:,0],results[:,1],'o',label='M')\n",
    "plt.plot(results[:,0],results[:,2],'o',label='N')\n",
    "plt.plot(results[:,0],results[:,3],'x',color='orange',label='Optimization')\n",
    "plt.title('Magic Estimation')\n",
    "plt.legend()"
   ]
  },
  {
   "cell_type": "markdown",
   "metadata": {},
   "source": [
    "## Truncated MPSs\n",
    "- MPOs and MPSs with truncated bond dimensions: \n",
    "    - Create a random state\n",
    "    - Turn it into an MPS with truncated bond dimension, or just do SVDs at each site and project onto the first n singular components\n",
    "    - Then turn it into an MPO"
   ]
  },
  {
   "cell_type": "code",
   "execution_count": 17,
   "metadata": {},
   "outputs": [],
   "source": [
    "state = rand.random_mixed_state(n,d)"
   ]
  },
  {
   "cell_type": "markdown",
   "metadata": {},
   "source": [
    "### Need to debug: Issue with Wigner MPO for lightly mixed states\n",
    "Wigner MPO isn't agreeing with the wigner function for random mixed states with M = 1 (pure) or M = 2. Here we see it failing on a pure state:"
   ]
  },
  {
   "cell_type": "code",
   "execution_count": 21,
   "metadata": {
    "scrolled": true
   },
   "outputs": [],
   "source": [
    "np.random.seed(0)\n",
    "pure_state = rand.random_state(n,d)\n",
    "state = rand.random_mixed_state(n, d, M=1) #Use only 1 pure state in the mix => pure state generated\n",
    "state_wigner_mpo = state_to_wigner_mpo(state,n,d)"
   ]
  },
  {
   "cell_type": "markdown",
   "metadata": {},
   "source": [
    "Generating an MPO in the original basis seems to work just fine on this state:"
   ]
  },
  {
   "cell_type": "code",
   "execution_count": null,
   "metadata": {},
   "outputs": [],
   "source": [
    "pure_state_mpo = mpo.state_to_mpo(state, n, d)\n",
    "mpo.check_coefficients(pure_state_mpo, state, n, d)"
   ]
  },
  {
   "cell_type": "markdown",
   "metadata": {},
   "source": [
    "# Moving to larger systems (todo: phase space operators)\n",
    "The Wigner function can be calculated directly from the MPO representation of $\\rho$ like so: \n",
    "$W_\\rho(u)=\\sum_{a_k,b_k}\\prod_k\\rho^{(k)(a_k,b_k)}_{\\alpha_k\\alpha_{k+1}}\\mathrm{Tr}[\\left|a_k><b_k\\right|A_{(u_k,v_k)}]$. Using Chris' notation, this can be expressed more simply:\n",
    "\n",
    "$$W_\\rho(u)=\\sum_{a_k,b_k}\\prod_k \\rho^{(k)(a_k,b_k)}_{\\alpha_k\\alpha_{k+1}}\\left<a_k,b_k|u_k,v_k\\right)=\\sum_{a_k,b_k}\\prod_k \\rho^{(k)(a_k,b_k)}_{\\alpha_k\\alpha_{k+1}}(A_{(u_k,v_k)})_{a_k,b_k}$$"
   ]
  },
  {
   "cell_type": "code",
   "execution_count": null,
   "metadata": {},
   "outputs": [],
   "source": [
    "# TODO: Is there any way to get around doing a for loop here?\n",
    "def better_wigner(mpo, n, d):\n",
    "    W = np.zeros((d**(2*n)), dtype=np.complex128)\n",
    "    M = 0. #old magic quantifier (\"mana\" in arxiv:1307.7171)\n",
    "    N = 0. #new magic quantifier\n",
    "    for u in range(d**(2*n)):\n",
    "        index = np.unravel_index(u,tensor_shape)\n",
    "        coefficient = np.identity(1,dtype=np.complex128)\n",
    "        for i in range(n):\n",
    "            coefficient = np.dot(coefficient, mpo[i][:,index[i],:])\n",
    "        W[u] = 1./(d**n)*np.trace(np.dot(state,A_n[u]))\n",
    "        if W[u].real < 0:\n",
    "            M -= W[u].real\n",
    "            N += (W[u].real)**2\n",
    "    N = math.sqrt(N)\n",
    "    return W, M, N\n",
    "            "
   ]
  },
  {
   "cell_type": "markdown",
   "metadata": {},
   "source": [
    "# Reorganization of code to run tests at arbitrary n\n",
    "TODO"
   ]
  },
  {
   "cell_type": "code",
   "execution_count": null,
   "metadata": {},
   "outputs": [],
   "source": [
    "def test_optimization(n, d):\n",
    "    state = random_mixed_state(n, d)\n",
    "    mpo = state_to_mpo(state, n, d)\n",
    "    \n",
    "    # n-dimensional phase space operators:\n",
    "    A_n = np.zeros((d**(2*n),d**n,d**n),dtype=np.complex128)\n",
    "    tensor_shape = tuple([d**2]*n)\n",
    "    for u in range(d**(2*n)):\n",
    "        index = np.unravel_index(u,tensor_shape)\n",
    "        temp = np.identity(1,dtype=np.complex128)\n",
    "        for i in range(n):\n",
    "            temp = np.kron(temp, A[index[i]])\n",
    "        A_n[u] = temp\n",
    "    \n",
    "    wigner_mpo = state_to_wigner_mpo(state, n, d, A_n)\n",
    "    _, _, true_dist = wigner(rho, n, d, A_n)\n",
    "    opt_data = optimize(wigner_mpo, true_dist, n, d)\n",
    "    plt.plot(opt_data)\n",
    "    \n",
    "test_optimization(5, 3)"
   ]
  },
  {
   "cell_type": "markdown",
   "metadata": {},
   "source": [
    "# Debugging: Trying to change basis to phase space\n",
    "Unfortunately, the squared distance comes out to be complex, which isn't good.. let's try to debug:"
   ]
  },
  {
   "cell_type": "code",
   "execution_count": null,
   "metadata": {},
   "outputs": [],
   "source": [
    "#mA = gen_mpo(n,d**2,10)\n",
    "norm = d**n\n",
    "mB = m_rho_ps\n",
    "#print(inner_prod(mA,mA,norm))\n",
    "print(inner_prod(mB,mB,norm))\n",
    "#print(inner_prod(mA,mB,norm))\n",
    "print(\"Magnitude of complex value: \" + repr(np.amax( [np.amax(np.abs(np.imag(mB[j]) ) ) for j in range(n) ] )))\n",
    "\n",
    "# Check that an mpo in the phase space basis represents a hermitian operator\n",
    "def check_real_coefficients(mpo):\n",
    "    good = True\n",
    "    tensor_shape = tuple([d**2]*n)\n",
    "    for u in range(d**(2*n)):\n",
    "        index = np.unravel_index(u,tensor_shape)\n",
    "        coefficient = np.identity(1,dtype=np.complex128)\n",
    "        for i in range(n):\n",
    "            coefficient = np.dot(coefficient, mpo[i][:,index[i],:])\n",
    "        if (coefficient[0][0].imag > 1e-16):#TODO: should really be comparing ratio of .imag to .real\n",
    "            good = False\n",
    "            print(\"Coefficient \" + repr(index) + \" is complex with value \" + repr(coefficient[0][0]))\n",
    "    if good:\n",
    "        print(\"Coefficents were all real!\")\n",
    "        \n",
    "#check_real_coefficients(mA)\n",
    "check_real_coefficients(mB)\n"
   ]
  },
  {
   "cell_type": "markdown",
   "metadata": {},
   "source": [
    "Is my random state even hermitian? What's going on here.."
   ]
  },
  {
   "cell_type": "code",
   "execution_count": null,
   "metadata": {},
   "outputs": [],
   "source": [
    "print(np.allclose(rho,rho.T.conj()))"
   ]
  },
  {
   "cell_type": "markdown",
   "metadata": {},
   "source": [
    "Ok... what about the Wigner function? Does it agree with these coefficients?"
   ]
  },
  {
   "cell_type": "code",
   "execution_count": null,
   "metadata": {
    "scrolled": true
   },
   "outputs": [],
   "source": [
    "check_against_wigner(mB, rho)"
   ]
  },
  {
   "cell_type": "markdown",
   "metadata": {},
   "source": [
    "No! TODO: This needs to be debugged!"
   ]
  }
 ],
 "metadata": {
  "kernelspec": {
   "display_name": "Python 3",
   "language": "python",
   "name": "python3"
  },
  "language_info": {
   "codemirror_mode": {
    "name": "ipython",
    "version": 3
   },
   "file_extension": ".py",
   "mimetype": "text/x-python",
   "name": "python",
   "nbconvert_exporter": "python",
   "pygments_lexer": "ipython3",
   "version": "3.8.6"
  }
 },
 "nbformat": 4,
 "nbformat_minor": 2
}
