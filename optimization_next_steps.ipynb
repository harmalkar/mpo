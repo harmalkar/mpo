{
 "cells": [
  {
   "cell_type": "markdown",
   "metadata": {},
   "source": [
    "# Special states\n",
    "## Random pure-ish states\n",
    "Let's try looking at the magic vs. our measure for the state $S_1(\\alpha)=\\alpha\\rho+\\frac{(1-\\alpha)}{d}I$, where $\\rho$ is a random pure state. As we vary $\\alpha$ from 0 to 1, the state should start to gain more magic as soon as it clears the stabilizer hull."
   ]
  },
  {
   "cell_type": "code",
   "execution_count": 20,
   "metadata": {
    "scrolled": true
   },
   "outputs": [
    {
     "name": "stdout",
     "output_type": "stream",
     "text": [
      "5\n"
     ]
    },
    {
     "name": "stderr",
     "output_type": "stream",
     "text": [
      "C:\\Users\\sharmalk\\Documents\\personal\\mpo\\wigner.py:83: ComplexWarning: Casting complex values to real discards the imaginary part\n",
      "  W = W.astype(np.float64)\n"
     ]
    },
    {
     "name": "stdout",
     "output_type": "stream",
     "text": [
      "0 0.0 0.0 0.00019508869201253332\n",
      "0.5 0.21926701284692648 0.06001166181153154 0.18004135055992548\n",
      "0.6 0.31577282593839595 0.08131557682937843 0.24394814022690375\n"
     ]
    }
   ],
   "source": [
    "np.random.seed(0)\n",
    "print(np.random.randint(10))\n",
    "state = rand.random_mixed_state(n,d,M=1)\n",
    "tests = [0,0.5,0.6]#,0.7,0.8,0.9,0.99]\n",
    "opt_data = [None]*len(tests)\n",
    "results = np.zeros((len(tests),5))\n",
    "for i in range(len(tests)):\n",
    "    alpha = tests[i]\n",
    "    S = alpha*state + (1-alpha)/(d**2)*np.identity(d**2, dtype=np.complex128)\n",
    "    S_wigner_mpo = state_to_wigner_mpo(S, n, d)\n",
    "    _, M, N = wigner.wigner_fct(S, n, d)\n",
    "    opt_data[i] = optimize(S_wigner_mpo, N, n, d, bd = 20, nswp = 20, opt_options={'maxfun':1000000})\n",
    "    magic_estimate = opt_data[i][-1]\n",
    "    results[i] = [alpha, M, N, magic_estimate, N - magic_estimate if magic_estimate != None else None]\n",
    "    print(alpha, M, N, magic_estimate)"
   ]
  },
  {
   "cell_type": "code",
   "execution_count": 21,
   "metadata": {},
   "outputs": [
    {
     "data": {
      "text/plain": [
       "<matplotlib.legend.Legend at 0x248b69e0a30>"
      ]
     },
     "execution_count": 21,
     "metadata": {},
     "output_type": "execute_result"
    },
    {
     "data": {
      "image/png": "[encoded data removed]",
      "text/plain": [
       "<Figure size 432x288 with 1 Axes>"
      ]
     },
     "metadata": {},
     "output_type": "display_data"
    }
   ],
   "source": [
    "plt.plot(results[:,0],results[:,1],'o',label='M')\n",
    "plt.plot(results[:,0],results[:,2],'o',label='N')\n",
    "plt.plot(results[:,0],results[:,3],'x',color='orange',label='Optimization')\n",
    "plt.title('Magic Estimation')\n",
    "plt.legend()"
   ]
  },
  {
   "cell_type": "code",
   "execution_count": 37,
   "metadata": {},
   "outputs": [
    {
     "data": {
      "text/plain": [
       "[<matplotlib.lines.Line2D at 0x20632e64a30>]"
      ]
     },
     "execution_count": 37,
     "metadata": {},
     "output_type": "execute_result"
    },
    {
     "data": {
      "image/png": "[encoded data removed]",
      "text/plain": [
       "<Figure size 432x288 with 1 Axes>"
      ]
     },
     "metadata": {},
     "output_type": "display_data"
    }
   ],
   "source": [
    "plt.plot(results[:,0],results[:,3],'o')"
   ]
  },
  {
   "cell_type": "markdown",
   "metadata": {},
   "source": [
    "## Mix of stabilizer states\n",
    "Mix two stabilizer states  $S_1$ and $S_2$ and walk in the negative direction of identity: $S(\\alpha)=aS_1+bS_2-\\alpha I$. The distance should be linear in $\\alpha$! Chris thinks that $S(0)=aS_1+bS_2$ might not be the closest state to $S(\\alpha)$ if you consider the higher dimensional space, unless the stabilizer hull is symmetric about the line connecting $S(\\alpha)$ to $I$ - because then convexity of the hull gaurantees that $S(0)$ is the closest state. I'm not so sure about that. I also have to think about the fact that there are states with positive Wigner representation which are not in the hull. We're going to hit those states as we move in $\\alpha$, perhaps in different ways depending on what $S_1$ and $S_2$ are."
   ]
  },
  {
   "cell_type": "markdown",
   "metadata": {},
   "source": [
    "## Truncated MPSs\n",
    "- MPOs and MPSs with truncated bond dimensions: \n",
    "    - Create a random state\n",
    "    - Turn it into an MPS with truncated bond dimension, or just do SVDs at each site and project onto the first n singular components\n",
    "    - Then turn it into an MPO"
   ]
  },
  {
   "cell_type": "markdown",
   "metadata": {},
   "source": [
    "# Moving to larger systems (needs debugging)\n",
    "The Wigner function can be calculated directly from the MPO representation of $\\rho$ like so: \n",
    "$W_\\rho(u)=\\sum_{a_k,b_k}\\prod_k\\rho^{(k)(a_k,b_k)}_{\\alpha_k\\alpha_{k+1}}\\mathrm{Tr}[\\left|a_k><b_k\\right|A_{(u_k,v_k)}]$. Using Chris' notation, this can be expressed more simply:\n",
    "\n",
    "$$W_\\rho(u)=\\sum_{a_k,b_k}\\prod_k \\rho^{(k)(a_k,b_k)}_{\\alpha_k\\alpha_{k+1}}\\left<a_k,b_k|u_k,v_k\\right)=\\sum_{a_k,b_k}\\prod_k \\rho^{(k)(a_k,b_k)}_{\\alpha_k\\alpha_{k+1}}(A_{(u_k,v_k)})_{a_k,b_k}$$"
   ]
  },
  {
   "cell_type": "code",
   "execution_count": null,
   "metadata": {},
   "outputs": [],
   "source": [
    "# TODO: Is there any way to get around doing a for loop here?\n",
    "def better_wigner(mpo, n, d):\n",
    "    W = np.zeros((d**(2*n)), dtype=np.complex128)\n",
    "    M = 0. #old magic quantifier (\"mana\" in arxiv:1307.7171)\n",
    "    N = 0. #new magic quantifier\n",
    "    for u in range(d**(2*n)):\n",
    "        index = np.unravel_index(u,tensor_shape)\n",
    "        coefficient = np.identity(1,dtype=np.complex128)\n",
    "        for i in range(n):\n",
    "            coefficient = np.dot(coefficient, mpo[i][:,index[i],:])\n",
    "        W[u] = 1./(d**n)*np.trace(np.dot(state,A_n[u]))\n",
    "        if W[u].real < 0:\n",
    "            M -= W[u].real\n",
    "            N += (W[u].real)**2\n",
    "    N = math.sqrt(N)\n",
    "    return W, M, N\n",
    "            "
   ]
  },
  {
   "cell_type": "markdown",
   "metadata": {},
   "source": [
    "# Reorganization of code to run tests at arbitrary n\n",
    "TODO"
   ]
  },
  {
   "cell_type": "code",
   "execution_count": null,
   "metadata": {},
   "outputs": [],
   "source": [
    "def test_optimization(n, d):\n",
    "    state = random_mixed_state(n, d)\n",
    "    mpo = state_to_mpo(state, n, d)\n",
    "    \n",
    "    # n-dimensional phase space operators:\n",
    "    A_n = np.zeros((d**(2*n),d**n,d**n),dtype=np.complex128)\n",
    "    tensor_shape = tuple([d**2]*n)\n",
    "    for u in range(d**(2*n)):\n",
    "        index = np.unravel_index(u,tensor_shape)\n",
    "        temp = np.identity(1,dtype=np.complex128)\n",
    "        for i in range(n):\n",
    "            temp = np.kron(temp, A[index[i]])\n",
    "        A_n[u] = temp\n",
    "    \n",
    "    wigner_mpo = state_to_wigner_mpo(state, n, d, A_n)\n",
    "    _, _, true_dist = wigner(rho, n, d, A_n)\n",
    "    opt_data = optimize(wigner_mpo, true_dist, n, d)\n",
    "    plt.plot(opt_data)\n",
    "    \n",
    "test_optimization(5, 3)"
   ]
  },
  {
   "cell_type": "markdown",
   "metadata": {},
   "source": [
    "# Debugging: Trying to change basis to phase space\n",
    "Unfortunately, the squared distance comes out to be complex, which isn't good.. let's try to debug:"
   ]
  },
  {
   "cell_type": "code",
   "execution_count": null,
   "metadata": {},
   "outputs": [],
   "source": [
    "#mA = gen_mpo(n,d**2,10)\n",
    "norm = d**n\n",
    "mB = m_rho_ps\n",
    "#print(inner_prod(mA,mA,norm))\n",
    "print(inner_prod(mB,mB,norm))\n",
    "#print(inner_prod(mA,mB,norm))\n",
    "print(\"Magnitude of complex value: \" + repr(np.amax( [np.amax(np.abs(np.imag(mB[j]) ) ) for j in range(n) ] )))\n",
    "\n",
    "# Check that an mpo in the phase space basis represents a hermitian operator\n",
    "def check_real_coefficients(mpo):\n",
    "    good = True\n",
    "    tensor_shape = tuple([d**2]*n)\n",
    "    for u in range(d**(2*n)):\n",
    "        index = np.unravel_index(u,tensor_shape)\n",
    "        coefficient = np.identity(1,dtype=np.complex128)\n",
    "        for i in range(n):\n",
    "            coefficient = np.dot(coefficient, mpo[i][:,index[i],:])\n",
    "        if (coefficient[0][0].imag > 1e-16):#TODO: should really be comparing ratio of .imag to .real\n",
    "            good = False\n",
    "            print(\"Coefficient \" + repr(index) + \" is complex with value \" + repr(coefficient[0][0]))\n",
    "    if good:\n",
    "        print(\"Coefficents were all real!\")\n",
    "        \n",
    "#check_real_coefficients(mA)\n",
    "check_real_coefficients(mB)\n"
   ]
  },
  {
   "cell_type": "markdown",
   "metadata": {},
   "source": [
    "Is my random state even hermitian? What's going on here.."
   ]
  },
  {
   "cell_type": "code",
   "execution_count": null,
   "metadata": {},
   "outputs": [],
   "source": [
    "print(np.allclose(rho,rho.T.conj()))"
   ]
  },
  {
   "cell_type": "markdown",
   "metadata": {},
   "source": [
    "Ok... what about the Wigner function? Does it agree with these coefficients?"
   ]
  },
  {
   "cell_type": "code",
   "execution_count": null,
   "metadata": {
    "scrolled": true
   },
   "outputs": [],
   "source": [
    "check_against_wigner(mB, rho)"
   ]
  },
  {
   "cell_type": "markdown",
   "metadata": {},
   "source": [
    "No! TODO: This needs to be debugged!"
   ]
  }
 ],
 "metadata": {
  "kernelspec": {
   "display_name": "Python 3",
   "language": "python",
   "name": "python3"
  },
  "language_info": {
   "codemirror_mode": {
    "name": "ipython",
    "version": 3
   },
   "file_extension": ".py",
   "mimetype": "text/x-python",
   "name": "python",
   "nbconvert_exporter": "python",
   "pygments_lexer": "ipython3",
   "version": "3.8.6"
  }
 },
 "nbformat": 4,
 "nbformat_minor": 4
}
